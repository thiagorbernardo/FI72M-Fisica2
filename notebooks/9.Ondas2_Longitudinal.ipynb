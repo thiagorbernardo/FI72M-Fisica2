{
 "cells": [
  {
   "cell_type": "markdown",
   "id": "faced-qatar",
   "metadata": {},
   "source": [
    "# Aula 9: Ondas 1 - Ondas Longitudinais"
   ]
  },
  {
   "cell_type": "markdown",
   "id": "fitted-killing",
   "metadata": {},
   "source": [
    "### Aplicações\n",
    "- Infrassom < 20Hz\n",
    "    - Sonar de animais\n",
    "- Sons audíveis 20 - 20000 Hz\n",
    "    - Eng, Civil / Arquitetura\n",
    "    - Eng Aeronáutica / automobilística\n",
    "    - Eng Som e Música\n",
    "- Ultrassom > 20 kHz\n",
    "    - Sonar de navios\n",
    "    - Medicina"
   ]
  },
  {
   "cell_type": "markdown",
   "id": "clean-rubber",
   "metadata": {},
   "source": [
    "### Exemplos:\n",
    "    \n",
    "[Filme: Alerta Lobo](https://cinemacomrapadura.com.br/criticas/556868/critica-alerta-lobo-netflix-2019-a-guerra-acustica/)\n",
    "\n",
    "Baleias azuis normalmente vocalizam entre 15 Hz e 20hz"
   ]
  },
  {
   "cell_type": "markdown",
   "id": "reduced-involvement",
   "metadata": {},
   "source": [
    "**Como é:**\n",
    "\n",
    "<img src=\"http://i.imgur.com/7ihsGHx.gif\" alt=\"Wave1\" width=\"500\" height=\"400\"/>"
   ]
  },
  {
   "cell_type": "code",
   "execution_count": 1,
   "id": "coordinated-island",
   "metadata": {},
   "outputs": [],
   "source": [
    "import sympy as sp\n",
    "from sympy import *\n",
    "from sympy.geometry import *\n",
    "%matplotlib inline\n",
    "sp.init_printing()"
   ]
  },
  {
   "cell_type": "code",
   "execution_count": 2,
   "id": "operational-liberty",
   "metadata": {
    "tags": []
   },
   "outputs": [],
   "source": [
    "k, x, A, omega, t, phi, y= sp.symbols('k x A omega t phi y')"
   ]
  },
  {
   "cell_type": "markdown",
   "id": "convenient-folder",
   "metadata": {},
   "source": [
    "Velocidade de propagação na corda\n",
    "\n",
    "$v = \\sqrt{\\dfrac{\\tau}{\\mu}}$\n",
    "\n",
    "Comparando com a relação com a velocidade do som no ar:\n",
    "\n",
    "$v_{som} = \\sqrt{\\dfrac{\\text{relacionado com a \"elasticidade\" do ar}}{\\rho}}$\n",
    "\n",
    "Módulo de elasticidade volumétrica ou bulk modulus\n",
    "\n",
    "$B = - \\dfrac{ \\overset{\\text{Vaiação da Pressão}}{\\Delta \\rho}}{\\overset{\\text{Vaiação relativa de volume devido a variação de pressão}}{\\Delta V / V}}$"
   ]
  },
  {
   "cell_type": "markdown",
   "id": "reduced-hepatitis",
   "metadata": {},
   "source": [
    "<img src=\"https://www.todoestudo.com.br/wp-content/uploads/2020/06/velocidade-do-som-3.jpg\" alt=\"Sound\" width=\"300\" height=\"300\"/>"
   ]
  },
  {
   "cell_type": "markdown",
   "id": "streaming-initial",
   "metadata": {},
   "source": [
    "Bulk Modulos tem dimensão de pressão\n",
    "\n",
    "$v_{som} = \\sqrt{\\dfrac{B}{\\rho}}$"
   ]
  },
  {
   "cell_type": "markdown",
   "id": "respected-raleigh",
   "metadata": {},
   "source": [
    "Posição da partícula\n",
    "\n",
    "$s(x,t) = s_m \\cos(kx-\\omega t)$\n",
    "\n",
    "Dado um $v = A \\Delta x$ o movimento das moléculas em torno de um ponto médio gera um $\\Delta V$\n",
    "\n",
    "$\\Delta v = A \\Delta s$\n",
    "\n",
    "Utilizando a relação do Bulk Modulus\n",
    "\n",
    "$\\Delta \\rho = - B \\dfrac{A\\Delta s}{A \\Delta x}$\n",
    "\n",
    "$\\Delta \\rho = - B \\dfrac{\\Delta s}{\\Delta x}$\n",
    "\n",
    "Para um $\\Delta x \\rightarrow 0$ p/ t fixo\n",
    "\n",
    "Fazendo as substituições\n",
    "\n",
    "$\\overset{\\text{Vaiação da Pressão}}{\\Delta \\rho} = \\overset{\\text{Amplitude de pressão}}{ s_m v p \\omega} \\sin(kx-\\omega t)$\n"
   ]
  },
  {
   "cell_type": "markdown",
   "id": "accepting-justice",
   "metadata": {},
   "source": [
    "[Ex 3](../assets/aula9/ex1.jpeg)\n",
    "\n",
    "[Ex 12](../assets/aula9/ex2.jpeg)\n",
    "\n",
    "[Ex 15](../assets/aula9/ex3.jpeg)"
   ]
  }
 ],
 "metadata": {
  "kernelspec": {
   "display_name": "Python 3",
   "language": "python",
   "name": "python3"
  },
  "language_info": {
   "codemirror_mode": {
    "name": "ipython",
    "version": 3
   },
   "file_extension": ".py",
   "mimetype": "text/x-python",
   "name": "python",
   "nbconvert_exporter": "python",
   "pygments_lexer": "ipython3",
   "version": "3.9.1"
  }
 },
 "nbformat": 4,
 "nbformat_minor": 5
}
