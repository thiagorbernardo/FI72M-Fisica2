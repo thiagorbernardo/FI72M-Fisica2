{
 "cells": [
  {
   "cell_type": "markdown",
   "id": "sudden-calculator",
   "metadata": {},
   "source": [
    "# Aula 10: Ondas 2 - Intensidade e Interferência"
   ]
  },
  {
   "cell_type": "markdown",
   "id": "powerful-facing",
   "metadata": {},
   "source": [
    "### Ondas no mesmo sentido de propagação\n",
    "- Espacial\n",
    "- Temporal"
   ]
  },
  {
   "cell_type": "markdown",
   "id": "balanced-british",
   "metadata": {},
   "source": [
    "#### Espacial\n",
    "\n",
    "Diferença de fase na origem\n",
    "\n",
    "Diferença no percurso (reverberação)\n",
    "\n",
    "### Exemplos\n",
    "\n",
    "<img src=\"https://portalacustica.info/wp-content/uploads/2016/05/asc_post_reverberacao_01.png\" alt=\"Aula10.1\" width=\"400\" height=\"400\"/>\n",
    "\n",
    "<img src=\"https://www.blog.artesana.com.br/wp-content/uploads/2013/07/REVERBERA%C3%87%C3%83O.jpg\" alt=\"Aula10.3\" width=\"400\" height=\"400\"/>\n",
    "\n",
    "<img src=\"http://blog.santoangelo.com.br/wp-content/uploads/2015/05/400X400-001.jpg\" alt=\"Aula10.2\" width=\"300\" height=\"100\"/>"
   ]
  },
  {
   "cell_type": "markdown",
   "id": "successful-avatar",
   "metadata": {},
   "source": [
    "#### Temporal\n",
    "\n",
    "Batimento\n",
    "\n",
    "<img src=\"http://www.icor.com.br/wp-content/uploads/2018/07/pulse-clipart-animated-gif-1-1.gif\" alt=\"Wave1\" width=\"400\" height=\"300\"/>"
   ]
  },
  {
   "cell_type": "markdown",
   "id": "prescription-armor",
   "metadata": {},
   "source": [
    "Vamos tratar o tipo de interferência em que ondas de mesma fase e frequência estão separadas artificialmente, como alto falantes estéreo.\n",
    "\n",
    "<img src=\"https://images.crutchfieldonline.com/ImageBank/v20170109161100/ImageHandler/scale/978/978/core/learn/article/1305/stereo-speaker-placement-cropped.jpg\" alt=\"Aula10.gif2\" width=\"400\" height=\"300\"/>"
   ]
  },
  {
   "cell_type": "markdown",
   "id": "horizontal-sullivan",
   "metadata": {},
   "source": [
    "Pela equação de onda obtemos as fases no receptor\n",
    "\n",
    "$KL_1 - \\omega t$\n",
    "\n",
    "$KL_2 - \\omega t$\n",
    "\n",
    "$(KL_2 - \\omega t) - (KL_1 - \\omega t) = \\Delta \\phi$\n",
    "\n",
    "$(K(L_2 - L_1)= \\Delta \\phi$\n",
    "\n",
    "$\\dfrac{2\\pi}{\\lambda}(L_2 - L_1) = \\Delta \\phi$\n",
    "\n",
    "$\\Delta \\phi = 2 \\pi \\dfrac{\\Delta L}{\\lambda}$"
   ]
  },
  {
   "cell_type": "markdown",
   "id": "exciting-client",
   "metadata": {},
   "source": [
    "Se as ondas chegam com diferença de fase:\n",
    "\n",
    "$\\Delta \\phi = 0, 2\\pi, etc$\n",
    "\n",
    "ou\n",
    "\n",
    "$\\dfrac{\\Delta L}{\\lambda} = 0, 1, 2, 3, etc$\n",
    "\n",
    "\n",
    "Teremos uma interferência construtiva\n",
    "\n",
    "\n",
    "\n",
    "\n",
    "Se:\n",
    "\n",
    "$\\Delta \\phi = \\pi, 3\\pi, etc$\n",
    "\n",
    "ou\n",
    "\n",
    "$\\dfrac{\\Delta L}{\\lambda} = 1/2, 3/2, 5/2, etc$\n",
    "\n",
    "\n",
    "Teremos uma interferência destrutiva\n",
    "\n",
    "\n",
    "Qualquer outro $\\Delta \\phi$ a interferência será intermediária"
   ]
  },
  {
   "cell_type": "markdown",
   "id": "continuous-arthritis",
   "metadata": {
    "tags": []
   },
   "source": [
    "Iremos calcular potência média para as ondas sonoras em um tubo com o mesmo raciocínio de ondas transversais.\n",
    "\n",
    "Ec para elemento de ar $dm$\n",
    "\n",
    "\n",
    "$E_c = \\dfrac{mv^2}{2}$\n",
    "\n",
    "$dE_c = \\dfrac{dmv^2}{2}$ v é oscilação das partículas\n",
    "\n",
    "Utilizando:\n",
    "$s = s_n \\cos(kx - \\omega t)$\n",
    "\n",
    "$v = \\dfrac{\\partial}{\\partial t}s = \\dfrac{\\partial}{\\partial t} s_n \\cos(kx - \\omega t)$\n",
    "\n",
    "$  = s_n \\omega \\sin(kx - \\omega t)$ e dividindo por dt para encontrar a taxa pelo tempo\n",
    "\n",
    "E calculando o vetor médio em um período\n",
    "\n",
    "\n",
    "$\\left<  \\dfrac{dE_c}{dt} \\right> =\\dfrac{1}{4} \\rho A s_n^2 \\omega^2 v $\n",
    "\n",
    "$\\left<  \\dfrac{dE_c}{dt} \\right> = \\left<  \\dfrac{dU_{el}}{dt} \\right>$\n",
    "\n",
    "Então:\n",
    "\n",
    "$\\left< P \\right> =\\dfrac{1}{2} \\rho A s_n^2 \\omega^2 v $\n"
   ]
  },
  {
   "cell_type": "markdown",
   "id": "soviet-charter",
   "metadata": {},
   "source": [
    "Podemos simplificar a relação acima utilizando variação de pressão\n",
    "\n",
    "$\\Delta p_n = s_n v \\rho \\omega$ variação máxima de \n",
    "\n",
    "\n",
    "Para lembrar:\n",
    "\n",
    "Limite de audibilidade $\\Delta p_n = 2,8 . 10^-5 Pa$\n",
    "\n",
    "Limite de dor $\\Delta p_n = 28 Pa$\n",
    "\n",
    "$\\left< P \\right> = \\dfrac{\\Delta p_n^2 A}{2 \\rho v}$\n",
    "\n",
    "e como a intensidade é:\n",
    "\n",
    "$I = \\dfrac{\\left< P \\right>}{A}$\n",
    "\n",
    "$I = \\dfrac{\\Delta p_n^2}{2 \\rho v}$"
   ]
  },
  {
   "cell_type": "markdown",
   "id": "personal-thirty",
   "metadata": {},
   "source": [
    "[Ex 18, 20, 24/1](../assets/aula10/ex1.jpeg)\n",
    "\n",
    "[Ex 24/2](../assets/aula10/ex2.jpeg)"
   ]
  }
 ],
 "metadata": {
  "kernelspec": {
   "display_name": "Python 3",
   "language": "python",
   "name": "python3"
  },
  "language_info": {
   "codemirror_mode": {
    "name": "ipython",
    "version": 3
   },
   "file_extension": ".py",
   "mimetype": "text/x-python",
   "name": "python",
   "nbconvert_exporter": "python",
   "pygments_lexer": "ipython3",
   "version": "3.9.1"
  }
 },
 "nbformat": 4,
 "nbformat_minor": 5
}
