{
 "cells": [
  {
   "cell_type": "markdown",
   "id": "metropolitan-shock",
   "metadata": {},
   "source": [
    "# Aula 3: Oscilações: Pêndulo Físico e de Torção"
   ]
  },
  {
   "cell_type": "code",
   "execution_count": 1,
   "id": "informational-istanbul",
   "metadata": {},
   "outputs": [],
   "source": [
    "import sympy as sp\n",
    "from sympy import *\n",
    "from sympy.geometry import *\n",
    "%matplotlib inline\n",
    "sp.init_printing()"
   ]
  },
  {
   "cell_type": "markdown",
   "id": "electoral-consortium",
   "metadata": {},
   "source": [
    "Um objeto de qualquer forma que oscile é um pêndulo físico"
   ]
  },
  {
   "cell_type": "markdown",
   "id": "failing-plate",
   "metadata": {},
   "source": [
    "Iremos precisar calcular\n",
    "- O momento de inércia do objeto\n",
    "- O centro de massa"
   ]
  },
  {
   "cell_type": "markdown",
   "id": "behavioral-princess",
   "metadata": {},
   "source": [
    "Exemplo:\n",
    "Calcule o período de oscilação de uma vara fina de comprimento L de massa M\n",
    "\n",
    "Para o Pêndulo Físico:\n",
    "\n",
    "$ w = \\sqrt{\\dfrac{mgr}{I}} $\n",
    "\n",
    "$ T = 2\\pi \\sqrt{\\dfrac{I}{mgr}} $"
   ]
  },
  {
   "cell_type": "markdown",
   "id": "potential-consent",
   "metadata": {},
   "source": [
    "Para a barra temos: $I = \\dfrac{1}{3}m L^2$\n",
    "\n",
    "<br> $T =  2\\pi \\sqrt{\\dfrac{2L}{3g}} $"
   ]
  },
  {
   "cell_type": "markdown",
   "id": "danish-spoke",
   "metadata": {},
   "source": [
    "Exercício p/ Portfólio\n",
    "\n",
    "Dadas duas barras finas de comprimento L e massa M calcule:\n",
    "\n",
    "a) O centro de massa do sistema\n",
    "\n",
    "b) O momento de inércia da barra superior\n",
    "\n",
    "c) O momento de inércia da barra inferior\n",
    "\n",
    "d) O momento de inércia do sistema\n",
    "\n",
    "e) A frequência de oscilação\n",
    "\n",
    "f) O período de oscilação"
   ]
  },
  {
   "cell_type": "markdown",
   "id": "surprising-breathing",
   "metadata": {},
   "source": [
    "<h2> Pêndulo de Torção"
   ]
  },
  {
   "cell_type": "markdown",
   "id": "dietary-sixth",
   "metadata": {},
   "source": [
    "<h3> Translação"
   ]
  },
  {
   "cell_type": "markdown",
   "id": "developmental-edinburgh",
   "metadata": {},
   "source": [
    "$\\vec F_{res} = m \\vec a$\n",
    "\n",
    "$\\vec F_{el} = -k x$\n",
    "\n",
    "$\\omega = \\sqrt{\\dfrac{k}{m}}$\n",
    "\n",
    "$T = 2\\pi \\sqrt{\\dfrac{k}{m}}$"
   ]
  },
  {
   "cell_type": "markdown",
   "id": "saving-thanksgiving",
   "metadata": {},
   "source": [
    "<h3> Rotação"
   ]
  },
  {
   "cell_type": "markdown",
   "id": "expressed-avenue",
   "metadata": {},
   "source": [
    "$ \\vec{\\tau_{res}}= I \\vec \\alpha$\n",
    "\n",
    "$ \\vec{\\tau}= -k \\theta$\n",
    "\n",
    "$\\omega = \\sqrt{\\dfrac{k}{I}}$\n",
    "\n",
    "$T = 2\\pi \\sqrt{\\dfrac{I}{k}}$"
   ]
  },
  {
   "cell_type": "markdown",
   "id": "painted-spell",
   "metadata": {},
   "source": [
    "<div align=\"center\">\n",
    "    <img src=\"https://s3-sa-east-1.amazonaws.com/figuras.tecconcursos.com.br/834a4e88-eb2a-405f-9515-8e7b6cfa4fe0\" alt=\"Exemplo Pêndulos\" width=\"600\"/>\n",
    "</div>"
   ]
  },
  {
   "cell_type": "markdown",
   "id": "danish-occasions",
   "metadata": {},
   "source": [
    "<h2> Exercícios"
   ]
  },
  {
   "cell_type": "raw",
   "id": "fiscal-lincoln",
   "metadata": {},
   "source": [
    "[WIP]\n",
    "[Ex 8 e 11](../assets/aula1/ex1.jpeg)\n",
    "\n",
    "[Ex 14](../assets/aula1/ex2.jpeg)\n",
    "\n",
    "[Ex 14 e 20](../assets/aula1/ex3.jpeg)"
   ]
  }
 ],
 "metadata": {
  "kernelspec": {
   "display_name": "Python 3",
   "language": "python",
   "name": "python3"
  },
  "language_info": {
   "codemirror_mode": {
    "name": "ipython",
    "version": 3
   },
   "file_extension": ".py",
   "mimetype": "text/x-python",
   "name": "python",
   "nbconvert_exporter": "python",
   "pygments_lexer": "ipython3",
   "version": "3.9.1"
  }
 },
 "nbformat": 4,
 "nbformat_minor": 5
}
