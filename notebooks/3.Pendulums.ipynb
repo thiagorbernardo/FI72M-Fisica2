{
 "cells": [
  {
   "cell_type": "markdown",
   "id": "asian-clinton",
   "metadata": {},
   "source": [
    "# Aula 3: Oscilações: Pêndulo Físico e de Torção"
   ]
  },
  {
   "cell_type": "code",
   "execution_count": 1,
   "id": "vocal-excuse",
   "metadata": {},
   "outputs": [],
   "source": [
    "import sympy as sp\n",
    "from sympy import *\n",
    "from sympy.geometry import *\n",
    "%matplotlib inline\n",
    "sp.init_printing()"
   ]
  },
  {
   "cell_type": "markdown",
   "id": "material-immunology",
   "metadata": {},
   "source": [
    "Um objeto de qualquer forma que oscile é um pêndulo físico"
   ]
  },
  {
   "cell_type": "markdown",
   "id": "reliable-matrix",
   "metadata": {},
   "source": [
    "Iremos precisar calcular\n",
    "- O momento de inércia do objeto\n",
    "- O centro de massa"
   ]
  },
  {
   "cell_type": "markdown",
   "id": "hollywood-fleece",
   "metadata": {},
   "source": [
    "Exemplo:\n",
    "Calcule o período de oscilação de uma vara fina de comprimento L de massa M\n",
    "\n",
    "Para o Pêndulo Físico:\n",
    "\n",
    "$ w = \\sqrt{\\dfrac{mgr}{I}} $\n",
    "\n",
    "$ T = 2\\pi \\sqrt{\\dfrac{I}{mgr}} $"
   ]
  },
  {
   "cell_type": "markdown",
   "id": "recorded-tracker",
   "metadata": {},
   "source": [
    "Para a barra temos: $I = \\dfrac{1}{3}m L^2$\n",
    "\n",
    "<br> $T =  2\\pi \\sqrt{\\dfrac{2L}{3g}} $"
   ]
  },
  {
   "cell_type": "markdown",
   "id": "included-movie",
   "metadata": {},
   "source": [
    "<h2> Pêndulo de Torção"
   ]
  },
  {
   "cell_type": "markdown",
   "id": "immune-sigma",
   "metadata": {},
   "source": [
    "<h3> Translação"
   ]
  },
  {
   "cell_type": "markdown",
   "id": "scientific-display",
   "metadata": {},
   "source": [
    "$\\vec F_{res} = m \\vec a$\n",
    "\n",
    "$\\vec F_{el} = -k x$\n",
    "\n",
    "$\\omega = \\sqrt{\\dfrac{k}{m}}$\n",
    "\n",
    "$T = 2\\pi \\sqrt{\\dfrac{k}{m}}$"
   ]
  },
  {
   "cell_type": "markdown",
   "id": "thirty-candidate",
   "metadata": {},
   "source": [
    "<h3> Rotação"
   ]
  },
  {
   "cell_type": "markdown",
   "id": "loose-sapphire",
   "metadata": {},
   "source": [
    "$ \\vec{\\tau_{res}}= I \\vec \\alpha$\n",
    "\n",
    "$ \\vec{\\tau}= -k \\theta$\n",
    "\n",
    "$\\omega = \\sqrt{\\dfrac{k}{I}}$\n",
    "\n",
    "$T = 2\\pi \\sqrt{\\dfrac{I}{k}}$"
   ]
  },
  {
   "cell_type": "markdown",
   "id": "parliamentary-layer",
   "metadata": {},
   "source": [
    "<div align=\"center\">\n",
    "    <img src=\"https://s3-sa-east-1.amazonaws.com/figuras.tecconcursos.com.br/834a4e88-eb2a-405f-9515-8e7b6cfa4fe0\" alt=\"Exemplo Pêndulos\" width=\"600\"/>\n",
    "</div>"
   ]
  },
  {
   "cell_type": "markdown",
   "id": "mathematical-crown",
   "metadata": {},
   "source": [
    "<h2> Exercícios"
   ]
  },
  {
   "cell_type": "markdown",
   "id": "meaningful-farmer",
   "metadata": {},
   "source": [
    "[Ex 57 e 59](../assets/aula3/ex1.jpeg)\n",
    "\n",
    "[Ex 59](../assets/aula3/ex2.jpeg)\n",
    "\n",
    "[Ex 61 e 62](../assets/aula3/ex3.jpeg)"
   ]
  }
 ],
 "metadata": {
  "kernelspec": {
   "display_name": "Python 3",
   "language": "python",
   "name": "python3"
  },
  "language_info": {
   "codemirror_mode": {
    "name": "ipython",
    "version": 3
   },
   "file_extension": ".py",
   "mimetype": "text/x-python",
   "name": "python",
   "nbconvert_exporter": "python",
   "pygments_lexer": "ipython3",
   "version": "3.9.1"
  }
 },
 "nbformat": 4,
 "nbformat_minor": 5
}
