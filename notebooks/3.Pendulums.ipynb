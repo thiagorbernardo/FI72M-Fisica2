{
 "cells": [
  {
   "cell_type": "markdown",
   "id": "fitting-weekly",
   "metadata": {},
   "source": [
    "# Aula 3: Pêndulo Físico e de Torção"
   ]
  },
  {
   "cell_type": "code",
   "execution_count": 1,
   "id": "marked-boating",
   "metadata": {},
   "outputs": [],
   "source": [
    "import sympy as sp\n",
    "from sympy import *\n",
    "from sympy.geometry import *\n",
    "%matplotlib inline\n",
    "sp.init_printing()"
   ]
  },
  {
   "cell_type": "markdown",
   "id": "swiss-pharmacy",
   "metadata": {},
   "source": [
    "Um objeto de qualquer forma que oscile é um pêndulo físico"
   ]
  },
  {
   "cell_type": "markdown",
   "id": "raised-minutes",
   "metadata": {},
   "source": [
    "Iremos precisar calcular\n",
    "- O momento de inércia do objeto\n",
    "- O centro de massa"
   ]
  },
  {
   "cell_type": "markdown",
   "id": "critical-indiana",
   "metadata": {},
   "source": [
    "Exemplo:\n",
    "Calcule o período de oscilação de uma vara fina de comprimento L de massa M\n",
    "\n",
    "Para o Pêndulo Físico:\n",
    "\n",
    "$ w = \\sqrt{\\dfrac{mgr}{I}} $\n",
    "\n",
    "$ T = 2\\pi \\sqrt{\\dfrac{I}{mgr}} $"
   ]
  },
  {
   "cell_type": "markdown",
   "id": "cellular-seven",
   "metadata": {},
   "source": [
    "Para a barra temos: $I = \\dfrac{1}{3}m L^2$\n",
    "\n",
    "<br> $T =  2\\pi \\sqrt{\\dfrac{2L}{3g}} $"
   ]
  },
  {
   "cell_type": "markdown",
   "id": "driving-samuel",
   "metadata": {},
   "source": [
    "Exercício p/ Portfólio\n",
    "\n",
    "Dadas duas barras finas de comprimento L e massa M calcule:\n",
    "\n",
    "a) O centro de massa do sistema\n",
    "\n",
    "b) O momento de inércia da barra superior\n",
    "\n",
    "c) O momento de inércia da barra inferior\n",
    "\n",
    "d) O momento de inércia do sistema\n",
    "\n",
    "e) A frequência de oscilação\n",
    "\n",
    "f) O período de oscilação"
   ]
  },
  {
   "cell_type": "markdown",
   "id": "continued-width",
   "metadata": {},
   "source": [
    "<h2> Pêndulo de Torção"
   ]
  },
  {
   "cell_type": "markdown",
   "id": "spatial-soldier",
   "metadata": {},
   "source": [
    "<h3> Translação"
   ]
  },
  {
   "cell_type": "markdown",
   "id": "embedded-candy",
   "metadata": {},
   "source": [
    "$\\vec F_{res} = m \\vec a$\n",
    "\n",
    "$\\vec F_{el} = -k x$\n",
    "\n",
    "$\\omega = \\sqrt{\\dfrac{k}{m}}$\n",
    "\n",
    "$T = 2\\pi \\sqrt{\\dfrac{k}{m}}$"
   ]
  },
  {
   "cell_type": "markdown",
   "id": "tribal-parliament",
   "metadata": {},
   "source": [
    "<h3> Rotação"
   ]
  },
  {
   "cell_type": "markdown",
   "id": "rising-filing",
   "metadata": {},
   "source": [
    "$ \\vec{\\tau_{res}}= I \\vec \\alpha$\n",
    "\n",
    "$ \\vec{\\tau}= -k \\theta$\n",
    "\n",
    "$\\omega = \\sqrt{\\dfrac{k}{I}}$\n",
    "\n",
    "$T = 2\\pi \\sqrt{\\dfrac{I}{k}}$"
   ]
  },
  {
   "cell_type": "markdown",
   "id": "indonesian-specific",
   "metadata": {},
   "source": [
    "<div align=\"center\">\n",
    "    <img src=\"https://s3-sa-east-1.amazonaws.com/figuras.tecconcursos.com.br/834a4e88-eb2a-405f-9515-8e7b6cfa4fe0\" alt=\"Exemplo Pêndulos\" width=\"600\"/>\n",
    "</div>"
   ]
  },
  {
   "cell_type": "markdown",
   "id": "canadian-russia",
   "metadata": {},
   "source": [
    "<h2> Exercícios"
   ]
  },
  {
   "cell_type": "raw",
   "id": "inside-compiler",
   "metadata": {},
   "source": [
    "<div align=\"center\">\n",
    "    <img src=\"../assets/aula2/ex1.jpeg\" alt=\"Exercício 27\" width=\"800\"/>\n",
    "    <img src=\"../assets/aula2/ex2.jpeg\" alt=\"Exercício 29\" width=\"800\"/>\n",
    "    <img src=\"../assets/aula2/ex3.jpeg\" alt=\"Exercício 32\" width=\"800\"/>\n",
    "</div>"
   ]
  }
 ],
 "metadata": {
  "kernelspec": {
   "display_name": "Python 3",
   "language": "python",
   "name": "python3"
  },
  "language_info": {
   "codemirror_mode": {
    "name": "ipython",
    "version": 3
   },
   "file_extension": ".py",
   "mimetype": "text/x-python",
   "name": "python",
   "nbconvert_exporter": "python",
   "pygments_lexer": "ipython3",
   "version": "3.9.1"
  }
 },
 "nbformat": 4,
 "nbformat_minor": 5
}
