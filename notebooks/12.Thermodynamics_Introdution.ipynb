{
 "cells": [
  {
   "cell_type": "markdown",
   "id": "surrounded-buffer",
   "metadata": {},
   "source": [
    "# Aula 12: Termodinâmica - Mecânica do calor"
   ]
  },
  {
   "cell_type": "markdown",
   "id": "illegal-steering",
   "metadata": {},
   "source": [
    "\"O calor parece uma força: o calor é utlizado para produzir trabalho mecânico\""
   ]
  },
  {
   "cell_type": "markdown",
   "id": "corrected-radius",
   "metadata": {},
   "source": [
    "- Estudo da energia térmica de um sistema e suas trocar com a vizinhança\n",
    "- Estado dew quilíbrio térmico de um sistema (equilíbrio termodinâmico)\n",
    "- Leis da termodinâmica\n",
    "- Mecânica estatística - visão microscópica da termodinâmica\n",
    "- Estudo das máquinas térmicas\n",
    "\n",
    "\n",
    "Termometria\n",
    "- Temperatura\n",
    "- Termômetros\n",
    "- Escalas térmicas\n",
    "\n",
    "Calorimetria\n",
    "- Técnicas e métodos de liberação e absorção de calor\n",
    "\n",
    "Termodinâmica\n",
    "- Relação entre propriedades térmicas e mecânicas\n",
    "\n",
    "Hipótese:\n",
    "Os corpos são formados por moléculas cujo movimento constitui o que chamamos de calor"
   ]
  },
  {
   "cell_type": "markdown",
   "id": "neither-freedom",
   "metadata": {},
   "source": [
    "### Aplicações\n",
    "- Motores a combustão\n",
    "- Gastronomia\n",
    "- Meteorologia\n",
    "- Medicina\n",
    "- Conversões em máquinas térmicas\n",
    "  - eólica em elétrica\n",
    "  - solar em elétrica\n",
    "- Mercado financeiro\n",
    "- da Mecânica Quântica até a Cosmologia"
   ]
  },
  {
   "cell_type": "markdown",
   "id": "comprehensive-illness",
   "metadata": {},
   "source": [
    "## Temperatura"
   ]
  },
  {
   "cell_type": "markdown",
   "id": "coated-hayes",
   "metadata": {},
   "source": [
    "Temperatura é diferente de calor\n",
    "\n",
    "A **temperatura** é a agitação das moléculas, energia cinética de cada grau de liberdade cada uma das partículas de um sistema equlíbrio térmico.\n",
    "\n",
    "**Adiabático** -> Não transmite calor\n",
    "\n",
    "**Equilíbrio térmico** -> Estarem na mesma temperatura\n",
    "\n",
    "O calor se conserva?"
   ]
  },
  {
   "cell_type": "markdown",
   "id": "future-quick",
   "metadata": {},
   "source": [
    "## Termometria\n",
    "\n",
    "Escala Celsius $(P= 1 atm)$ \n",
    "- 0 °C - Ponto de congelamento da água\n",
    "- 100 °C - Ponto de ebulição da água\n",
    "\n",
    "Conversão Kelvin <-> Celsius\n",
    "\n",
    "$T_c = T - 273,15$ °C\n",
    "\n",
    "Conversão Fahrenheit <-> Celsius\n",
    "\n",
    "$T_f = \\dfrac{9T_c}{5} + 32$ °F"
   ]
  },
  {
   "cell_type": "markdown",
   "id": "considerable-bahrain",
   "metadata": {},
   "source": [
    "## Dilatação térmica\n",
    "\n",
    "Acionamentos elétricos\n",
    "- Termostatos\n",
    "- Disjuntores\n",
    "- Cebolinhas\n",
    "\n",
    "Casos: Dilatação linear, superficial e volumétrica\n",
    "\n",
    "### Dilatação térmica linear\n",
    "Ao variar a temperatura há uma variação no comprimento\n",
    "\n",
    "$\\Delta T \\alpha \\Delta L$\n",
    "\n",
    "$\\Delta T \\alpha \\dfrac{\\Delta L}{L}$\n",
    "\n",
    "$T_f - T_i = \\alpha \\dfrac{L_f - L_i}{L_i}$\n",
    "\n",
    "$\\alpha$ Coeficiente de dilatação linear. Varia com a temperatura, mas vamos trata-lo como constante desde que a temperatura não se aproxime do ponto de fusão do material.\n",
    "\n",
    "$\\Delta L = L \\alpha \\Delta T$\n",
    "\n",
    "### Dilatação térmica superficial\n",
    "Ao variar a temperatura há uma variação no comprimento\n",
    "\n",
    "$\\Delta A = A 2\\alpha \\Delta T$\n",
    "\n",
    "$\\Delta A = A \\gamma \\Delta T$\n",
    "\n",
    "### Dilatação térmica volumétrica\n",
    "Ao variar a temperatura há uma variação no comprimento\n",
    "\n",
    "$\\Delta V = V 3\\alpha \\Delta T$\n",
    "\n",
    "$\\Delta V = V \\beta \\Delta T$"
   ]
  },
  {
   "cell_type": "raw",
   "id": "expressed-package",
   "metadata": {},
   "source": [
    "[Ex 30 e 45](../assets/aula11/ex1.jpeg)\n",
    "\n",
    "[Ex 49](../assets/aula11/ex2.jpeg)"
   ]
  }
 ],
 "metadata": {
  "kernelspec": {
   "display_name": "Python 3",
   "language": "python",
   "name": "python3"
  },
  "language_info": {
   "codemirror_mode": {
    "name": "ipython",
    "version": 3
   },
   "file_extension": ".py",
   "mimetype": "text/x-python",
   "name": "python",
   "nbconvert_exporter": "python",
   "pygments_lexer": "ipython3",
   "version": "3.9.1"
  }
 },
 "nbformat": 4,
 "nbformat_minor": 5
}
