{
 "cells": [
  {
   "cell_type": "markdown",
   "id": "fossil-carnival",
   "metadata": {},
   "source": [
    "# Aula 15: Termodinâmica - Teoria Cinética dos Gases: Introdução"
   ]
  },
  {
   "cell_type": "markdown",
   "id": "clear-thong",
   "metadata": {},
   "source": [
    "## Teoria"
   ]
  },
  {
   "cell_type": "markdown",
   "id": "elegant-culture",
   "metadata": {},
   "source": [
    "O estado termodinâmico de um gás ideal é descrito pelas variáveis de pressão, volume e temperatura\n",
    "\n",
    "V - Os gases se espalham em todo o volume\n",
    "\n",
    "P - Os gases executam colisões nas paredes do recipiente\n",
    "\n",
    "T - A velocidade (Energia Cinética) das partículas está associada a temperatura \n",
    "\n",
    "1) O gás ideal é composto por partículas sem dimensão\n",
    "2) Não interagentes (não apresentam nem interação atrativa ou repulsiva)\n",
    "3) As partículas colidem entre si de forma elásticas (sem perda de energia entre as colisões)\n",
    "\n",
    "OBS: Como não há omteração entre as partículas a pressão e temperatura do gás ideal nunca estará próximo da liquefação (condensação) que é a situação onde haverá atração entre as partículas"
   ]
  },
  {
   "cell_type": "markdown",
   "id": "caroline-measure",
   "metadata": {},
   "source": [
    "#### Aplicações\n",
    "\n",
    "- Movimento dos elétrons num circuito elétrico\n",
    "- Spin dos átomos\n",
    "- Dinâmica dos veículos numa cidade\n",
    "- Teoria da informação - machine learning\n",
    "- Troca de energia na matéria"
   ]
  },
  {
   "cell_type": "markdown",
   "id": "radical-nurse",
   "metadata": {},
   "source": [
    "### Número de Avogrado\n",
    "\n",
    "$n = \\dfrac{N}{N_A}$\n",
    "\n",
    "$n$ Número de moles. $1 mol$ - $6,02 x 10^{23}$ mol\n",
    "\n",
    "$N_A$ Número de Avogrado. $6,02 x 10^{23}$ partículas por mol\n",
    "\n",
    "$N$ Número de partículas\n",
    "\n",
    "$M_{amostra}$ Massa da substância (amostra)\n",
    "\n",
    "$M$ Massa molar g/mol\n",
    "\n",
    "$m$ Massa de uma partícula\n",
    "\n",
    "OBS: partículas = moléculas / átomos"
   ]
  },
  {
   "cell_type": "markdown",
   "id": "successful-junction",
   "metadata": {},
   "source": [
    "### Gases ideais\n",
    "\n",
    "#### Lei de Boyle\n",
    "\n",
    "$T = cte$\n",
    "\n",
    "$n = cte$\n",
    "\n",
    "$P \\alpha \\dfrac{1}{V}$\n",
    "\n",
    "$P_i V_i = P_f V_f$\n",
    "\n",
    "#### Lei de Charles\n",
    "\n",
    "$V \\alpha T \\quad P, n cte$\n",
    "\n",
    "$\\dfrac{V_i}{T_i} = \\dfrac{V_f}{T_f} = cte$\n",
    "\n",
    "$p \\alpha T \\quad V, n cte$\n",
    "\n",
    "$\\dfrac{P_i}{T_i} = \\dfrac{P_f}{T_f} = cte$\n",
    "\n",
    "#### Lei de Avogrado\n",
    "\n",
    "$V \\alpha n \\quad P, T cte$\n",
    "\n",
    "$\\dfrac{V_i}{n_i} = \\dfrac{V_f}{n_f} = cte$\n",
    "\n",
    "#### **Lei dos gases ideais $PV=nRT$**\n",
    "\n",
    "$N_A = 6,02 x 10^{23} {mol}^-1$\n",
    "\n",
    "$R = 8,31 x 10^{-23} {mol K}$\n",
    "\n",
    "$k_B = \\dfrac{R}{N_A} = 1,38 x 10^{-23} {J/K}^-1$\n",
    "\n",
    "\n",
    "$N k = n R$\n",
    "\n",
    "#### Lei de Clapeyron\n",
    "\n",
    "$PV = NkT$"
   ]
  },
  {
   "cell_type": "markdown",
   "id": "thermal-gospel",
   "metadata": {},
   "source": [
    "## Processo Isotérmico $T = cte$\n",
    "\n",
    "$PV=nRT$\n",
    "\n",
    "$PV = cte$\n",
    "\n",
    "Curva de pressão por volume $P(V) = \\dfrac{nRT}{V}$"
   ]
  },
  {
   "cell_type": "markdown",
   "id": "effective-gravity",
   "metadata": {},
   "source": [
    "[Ex 54 e 9](../assets/aula15/ex1.jpeg)\n",
    "\n",
    "[Ex 16](../assets/aula15/ex2.jpeg)\n",
    "\n",
    "**São os mesmos da aula 15, pois foram no mesmo dia**"
   ]
  }
 ],
 "metadata": {
  "kernelspec": {
   "display_name": "Python 3",
   "language": "python",
   "name": "python3"
  },
  "language_info": {
   "codemirror_mode": {
    "name": "ipython",
    "version": 3
   },
   "file_extension": ".py",
   "mimetype": "text/x-python",
   "name": "python",
   "nbconvert_exporter": "python",
   "pygments_lexer": "ipython3",
   "version": "3.9.1"
  }
 },
 "nbformat": 4,
 "nbformat_minor": 5
}
