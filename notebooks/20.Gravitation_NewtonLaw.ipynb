{
 "cells": [
  {
   "cell_type": "markdown",
   "id": "neither-cricket",
   "metadata": {},
   "source": [
    "# Aula 19: Gravitação - Lei de Gravitação de Newton"
   ]
  },
  {
   "cell_type": "markdown",
   "id": "northern-astronomy",
   "metadata": {},
   "source": [
    "<img src=\"https://4.bp.blogspot.com/-70SsN7Nqx60/XDfYcPDjv4I/AAAAAAAAmEs/H31U49REZAkLivmouTbMJa-_UtriVFODQCLcBGAs/s1600/A%2Blei%2Bda%2Bgravita%25C3%25A7%25C3%25A3o%2Bde%2BNewton.png\" alt=\"Aula20.1\" width=\"400\" height=\"400\"/>\n",
    "<a href=\"https://www.obaricentrodamente.com/2019/01/a-lei-da-gravitacao-universal-de-newton.html\">Fonte</a>\n",
    "\n",
    "<img src=\"https://4.bp.blogspot.com/-2cVtmELA6Go/WkYcF9tK5wI/AAAAAAAAYlQ/c0w9QVYnDzwCWTQjnQrBMI9Ef00CdC7UgCLcBGAs/s1600/Lei%2Bda%2Bgravita%25C3%25A7%25C3%25A3o%2Buniversal%2Bo%2Bbaricentro%2Bda%2Bmente.png\" alt=\"Aula20.2\" width=\"400\" height=\"400\"/>\n",
    "<a href=\"https://www.obaricentrodamente.com/2008/11/gravitao-universla-e-campo.html\">Fonte</a>\n",
    "\n",
    "A atração gravitacional entre dois objetos é diretamente proporcional ao produto de suas massas e inversamente proporcional ao quadrado da distância entre seus centros.\n",
    "\n",
    "$F_g = G \\dfrac{m_1m_2}{r^2}$ A força gravitacional é apenas atrativa\n",
    "\n",
    "Constante de gravitação universal $G = 6,67 x 10^{-11} Nm^2/{Kg}^2$ (obtida experimentalmente)\n"
   ]
  },
  {
   "cell_type": "markdown",
   "id": "passing-receptor",
   "metadata": {},
   "source": [
    "## Simulador Phet Colorado para Gravitação\n",
    "\n",
    "Fonte: https://phet.colorado.edu/sims/html/gravity-and-orbits/latest/gravity-and-orbits_pt_BR.html"
   ]
  },
  {
   "cell_type": "code",
   "execution_count": 1,
   "id": "distant-gazette",
   "metadata": {},
   "outputs": [
    {
     "data": {
      "text/html": [
       "\n",
       "        <iframe\n",
       "            width=\"700\"\n",
       "            height=\"600\"\n",
       "            src=\"https://phet.colorado.edu/sims/html/gravity-and-orbits/latest/gravity-and-orbits_pt_BR.html\"\n",
       "            frameborder=\"0\"\n",
       "            allowfullscreen\n",
       "        ></iframe>\n",
       "        "
      ],
      "text/plain": [
       "<IPython.lib.display.IFrame at 0x194ea862a30>"
      ]
     },
     "execution_count": 1,
     "metadata": {},
     "output_type": "execute_result"
    }
   ],
   "source": [
    "from IPython.display import IFrame\n",
    "\n",
    "IFrame(src='https://phet.colorado.edu/sims/html/gravity-and-orbits/latest/gravity-and-orbits_pt_BR.html', width=700, height=600)"
   ]
  },
  {
   "cell_type": "markdown",
   "id": "stock-fields",
   "metadata": {},
   "source": [
    "# Príncipio da superposição\n",
    "\n",
    "No sistema solar, a força gravitacional é uma resultante entre todos os corpos celestiais (como planetas e estrelas)\n",
    "\n",
    "Em relação a terra: $\\vec F_{resultante} = \\vec F_{sol} + \\vec F_{marte} $..."
   ]
  },
  {
   "cell_type": "markdown",
   "id": "economic-thanks",
   "metadata": {},
   "source": [
    "## Fatos\n",
    "\n",
    "#### Um objeto na superfície da Terra está sujeito a uma força gravitacional\n",
    "\n",
    "$|F_g| = \\dfrac{G M m}{r^2}$\n",
    "\n",
    "Aceleração da gravidade $a_g = \\dfrac{G M m}{r^2}$\n",
    "\n",
    "#### A terra não é uma esfera perfeita\n",
    "\n",
    "Dependendo da direção medida o \"raio\" é diferente\n",
    "\n",
    "#### A massa específica da Terra é variável\n",
    "\n",
    "#### A Terra está girando em torno do seu eixo\n",
    "\n",
    "A medida do peso de um objeto em cima de uma balança é dada pela força normal.\n",
    "\n",
    "$N - F_g = - m a_c$\n",
    "\n",
    "Aceleração em queda livre $g$\n",
    "\n",
    "$g - ag = - \\big (\\dfrac{2 \\pi r}{T} \\big)^2 1/r$\n",
    "\n",
    "Em um dia\n",
    "\n",
    "$g - 9,8 m/s^2$\n",
    "\n",
    "$g \\overset{\\sim}{\\sim} a_g$\n",
    "\n",
    "#### Estamos sujeitos a força gravitacional da Lua e do Sol\n",
    "\n",
    "Porém, o efeito do campo gravitacional do Sol na superfície da Terra é muito pequeno...\n",
    "\n",
    "$a_g (Terra) = 9,83 m/s^2$\n",
    "\n",
    "$a_g (Sol) = 0,0058 m/s^2$\n",
    "\n",
    "$\\dfrac{a_{gSol}}{a_{gTerra}} = 0,05 \\%$"
   ]
  },
  {
   "cell_type": "markdown",
   "id": "narrative-delay",
   "metadata": {},
   "source": [
    "### Teorema das cascas de Newton\n",
    "\n",
    "Uma casca esférica homogênea de matéria atrai uma partícula que se encontra fora da casca como se toda a massa da casca estivesse concentrada no centro.\n",
    "\n",
    "Ela não exerce força gravitacional sobre uma partícula localizada no interior da casca.\n",
    "\n",
    "### A gravitação no interior da Terra\n",
    "\n",
    "Vamos supor que a massa específica da Terra seja homogênea\n",
    "\n",
    "$\\rho = \\dfrac{M_t}{V}$\n",
    "\n",
    "$\\rho = \\dfrac{M_t (r)}{4/3 \\pi R_t^3}$ Massa em função do raio pois são diretamente proporcionais\n",
    "\n",
    "Igualando as duas e substituinto na equação da força gravitacional:\n",
    "\n",
    "$\\vec F_g = \\dfrac{- G M_t}{R_t^3} r \\hat r$\n",
    "\n",
    "Logo, a força gravitacional é proporcional a distância do centro"
   ]
  },
  {
   "cell_type": "markdown",
   "id": "unauthorized-geography",
   "metadata": {},
   "source": [
    "[Ex 2](../assets/aula20/ex1.jpeg)\n",
    "\n",
    "[Ex 4 e 5](../assets/aula20/ex2.jpeg)"
   ]
  }
 ],
 "metadata": {
  "kernelspec": {
   "display_name": "Python 3",
   "language": "python",
   "name": "python3"
  },
  "language_info": {
   "codemirror_mode": {
    "name": "ipython",
    "version": 3
   },
   "file_extension": ".py",
   "mimetype": "text/x-python",
   "name": "python",
   "nbconvert_exporter": "python",
   "pygments_lexer": "ipython3",
   "version": "3.9.1"
  }
 },
 "nbformat": 4,
 "nbformat_minor": 5
}
