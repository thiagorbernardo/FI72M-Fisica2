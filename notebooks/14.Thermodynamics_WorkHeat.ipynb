{
 "cells": [
  {
   "cell_type": "markdown",
   "id": "promotional-spokesman",
   "metadata": {},
   "source": [
    "# Aula 14: Termodinâmica - Calor e trabalho"
   ]
  },
  {
   "cell_type": "markdown",
   "id": "attended-illustration",
   "metadata": {},
   "source": [
    "## Calor e Trabalho\n",
    "\n",
    "$W = F d$\n",
    "\n",
    "\n",
    "Variáveis da termodinâmica:\n",
    "Temperatura - T\n",
    "Volume - V\n",
    "Pressão - P\n",
    "\n",
    "Vamos usar\n",
    "\n",
    "$P = F / A$\n",
    "\n",
    "Supondo que o êmbolo se move lentamente\n",
    "\n",
    "$\\Delta x = dx$\n",
    "\n",
    "Trabalho infinitesimal é $dW = F dx$\n",
    "\n",
    "Com F constante\n",
    "\n",
    "$dW = P A dx$\n",
    "\n",
    "$dW = P dV$"
   ]
  },
  {
   "cell_type": "markdown",
   "id": "nuclear-tamil",
   "metadata": {},
   "source": [
    "O trabalho realizado pelo sistema na espansão\n",
    "\n",
    "$W = \\int_{V_i}^{V_f} P \\, dV$\n",
    "\n",
    "P pode depender da temepratura e volume, ou seja, depende do caminho realizado entre a situação inicial e final\n",
    "\n",
    "Expansão:\n",
    "\n",
    "$V_f > V_A$\n",
    "\n",
    "$W > 0$\n",
    "\n",
    "Trabalho realizado pelo sistema!\n",
    "\n",
    "Compressão:\n",
    "\n",
    "$V_A > V_f$\n",
    "\n",
    "$W < 0$"
   ]
  },
  {
   "cell_type": "markdown",
   "id": "preliminary-cookbook",
   "metadata": {},
   "source": [
    "Duas situações:\n",
    "\n",
    "1. Gás se expande, temperatura aumenta e a pressão se mantém constante\n",
    "\n",
    "*Gráfico reta*\n",
    " \n",
    "$V_f > V_i$\n",
    "\n",
    "$P_f = P_i$\n",
    "\n",
    "$T_f > T_i$\n",
    "\n",
    "2. Gás se expande, pressão diminui e a temperatura se mantém inalterada\n",
    "\n",
    "*Gráfico curva*\n",
    "\n",
    "$V_f > V_i$\n",
    "\n",
    "$P_f < P_i$\n",
    "\n",
    "$T_f = T_i$\n",
    "\n",
    "Todo calor é transformado em trabalho\n",
    "\n",
    "Exemplos - foto halliday"
   ]
  },
  {
   "cell_type": "markdown",
   "id": "precious-reproduction",
   "metadata": {},
   "source": [
    "## 1°Lei da termodinâmica\n",
    "\n",
    "$\\Delta E_{int} = Q - W$\n",
    "\n",
    "A $E_{int}$ é dada pela soma das contribuiçõs das Energias\n",
    "\n",
    "$E_{int}^f - E_{int}^i= Q - W$\n",
    "\n",
    "$Q - E_{int}^i = E_{int}^f + W$\n",
    "\n",
    "Primeiro termo $E_i$, segundo $E_f$\n",
    "\n",
    "$d E_{int} = \\delta Q - \\delta W$\n",
    "\n",
    "/////////////<img src=\"https://flexbooks.ck12.org/flx/show/default/image/user%3AY2sxMnNjaWVuY2VAY2sxMi5vcmc./98045-1364490917-45-93-C-IntCh-04-01-17-Heating-Curve-Water.png\" alt=\"Aula13.2\" width=\"400\" height=\"400\"/>"
   ]
  },
  {
   "cell_type": "markdown",
   "id": "level-plymouth",
   "metadata": {},
   "source": [
    "Expansão adiabática"
   ]
  },
  {
   "cell_type": "raw",
   "id": "stuffed-amount",
   "metadata": {},
   "source": [
    "[Ex 30 e 45](../assets/aula11/ex1.jpeg)\n",
    "\n",
    "[Ex 49](../assets/aula11/ex2.jpeg)"
   ]
  }
 ],
 "metadata": {
  "kernelspec": {
   "display_name": "Python 3",
   "language": "python",
   "name": "python3"
  },
  "language_info": {
   "codemirror_mode": {
    "name": "ipython",
    "version": 3
   },
   "file_extension": ".py",
   "mimetype": "text/x-python",
   "name": "python",
   "nbconvert_exporter": "python",
   "pygments_lexer": "ipython3",
   "version": "3.9.1"
  }
 },
 "nbformat": 4,
 "nbformat_minor": 5
}
