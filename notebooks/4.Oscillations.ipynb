{
 "cells": [
  {
   "cell_type": "markdown",
   "id": "continent-owner",
   "metadata": {},
   "source": [
    "# Aula 4: Oscilações Amortecidas, Forçadas e Ressonância"
   ]
  },
  {
   "cell_type": "markdown",
   "id": "addressed-tender",
   "metadata": {},
   "source": [
    "<h3> Aplicações Oscilações com Amortecimento </h3>\n",
    "\n",
    "- Subcrítico:\n",
    "  - Portas de prédios públicos e hospitais\n",
    "  - Circuito RLC\n",
    "- Crítico:\n",
    "  - Balança e instrumentos de precisão\n",
    "  - Amortecedores de Veículos\n",
    "  - Circuito RLC;\n",
    "- Supercrítico:\n",
    "  - Circuito RLC;\n",
    "  - ...\n"
   ]
  },
  {
   "cell_type": "code",
   "execution_count": 1,
   "id": "foreign-pencil",
   "metadata": {},
   "outputs": [],
   "source": [
    "import sympy as sp\n",
    "from sympy import *\n",
    "from sympy.geometry import *\n",
    "%matplotlib inline\n",
    "sp.init_printing()"
   ]
  },
  {
   "cell_type": "markdown",
   "id": "featured-judges",
   "metadata": {},
   "source": [
    "<h3> O Problema"
   ]
  },
  {
   "cell_type": "markdown",
   "id": "future-recognition",
   "metadata": {},
   "source": [
    "<img src=\"https://upload.wikimedia.org/wikipedia/commons/b/b9/Sistema_massa_mola.jpg\" alt=\"Sistema Massa-Mola Horizontal\" width=\"400\"/>\n",
    "\n",
    "Calcular amortecimento nesse sistema é complicado pois a Força de atrito é dinâmica quando há movimento\n",
    "\n",
    "Iremos utilizar o seguinte sistema\n",
    "\n",
    "<img src=\"https://2img.net/h/i1215.photobucket.com/albums/cc509/DreamsBieels/Sem%20tiacutetulo.png\" alt=\"Sistema Massa-Mola Vertical\" height=\"250\" width=\"250\"/>\n",
    "\n",
    "Utlizamos o objeto submerso preso ao sistema para aumentar o amortecimento. Iremos supor a força peso desprezível e que o movimento é lento para usar a relação de amortecimento:\n",
    "\n",
    "$F_{arrasto} = -b v$\n",
    "\n",
    "Onde b é a cte de amortecimento"
   ]
  },
  {
   "cell_type": "markdown",
   "id": "dirty-solomon",
   "metadata": {},
   "source": [
    "As forças que agem no bloco:\n",
    "\n",
    "$\\sum{\\vec F} = \\vec F_{el} + \\vec F_{arr}$\n",
    "\n",
    "$ma = -kx - bv$\n",
    "\n",
    "$ma + bv + kx = 0$\n",
    "\n",
    "Eq do M. H. A: $\\dfrac{d^2x}{dt^2} + \\dfrac{b}{m}\\dfrac{dx}{dt} + \\dfrac{k}{m}x = 0$\n",
    "\n",
    "Iremos tentar resolver \"chutando\" funções"
   ]
  },
  {
   "cell_type": "markdown",
   "id": "capital-green",
   "metadata": {},
   "source": [
    "Utilizando $x(t) = e^{\\lambda t}$\n",
    "\n",
    "Substituindo as derivadas e $\\dfrac{k}{m} = w^2$\n",
    "\n",
    "$\\lambda^2 + \\dfrac{b}{m} \\lambda + \\omega^2 = 0$\n",
    "\n",
    "$\\lambda_{\\pm} = \\dfrac{-b \\pm \\sqrt{b^2-4ac}}{2a}$\n",
    "\n",
    "$\\lambda_{\\pm} = -\\dfrac{b}{2m} \\pm \\sqrt{\\dfrac{b^2}{m^2} - 4w^2}$\n",
    "\n",
    "\n",
    "Utilizando $\\dfrac{b}{2m} = \\gamma$\n",
    "\n",
    "Chegamos em: $\\lambda_{\\pm} = -\\gamma \\pm \\sqrt{\\gamma^2-\\omega^2}$"
   ]
  },
  {
   "cell_type": "markdown",
   "id": "exterior-equality",
   "metadata": {},
   "source": [
    "1. $\\gamma = \\omega$ $ \\quad \\rightarrow \\quad \\lambda_{\\pm} = -\\gamma \\pm 0$\n",
    "2. $\\gamma \\gt \\omega$ $ \\quad \\rightarrow \\quad \\lambda_{\\pm} = -\\gamma \\pm \\sqrt{\\gamma^2 - \\omega^2}$\n",
    "3. $\\gamma \\lt \\omega$ $ \\quad \\rightarrow \\quad \\lambda_{\\pm} = -\\gamma \\pm \\sqrt{\\gamma^2 - \\omega^2}$ Aqui teria uma raiz negativa"
   ]
  },
  {
   "cell_type": "markdown",
   "id": "mobile-munich",
   "metadata": {},
   "source": [
    "<h4> Os 3 Amortecimentos"
   ]
  },
  {
   "cell_type": "markdown",
   "id": "conditional-vitamin",
   "metadata": {},
   "source": [
    "<img src=\"https://encrypted-tbn0.gstatic.com/images?q=tbn:ANd9GcTYwCZEfWUFKuRB-oHJE6U3kuf97ikQC5ij1Q&usqp=CAU\" alt=\"Amortecimentos\" width=\"400\"/>"
   ]
  },
  {
   "cell_type": "markdown",
   "id": "fluid-cholesterol",
   "metadata": {},
   "source": [
    "Iremos tratar o caso 3."
   ]
  },
  {
   "cell_type": "markdown",
   "id": "favorite-mattress",
   "metadata": {},
   "source": [
    "Frequência do Oscilador Harmônico Amortecido: $w' = \\sqrt{\\omega^2 - \\gamma^2} \\quad \\rightarrow \\quad  w' = \\sqrt{\\dfrac{k}{m} - \\dfrac{b}{(2m)^2}}$\n",
    "\n",
    "A equação do movimento é:\n",
    "\n",
    "$x(t) = A e^{-\\dfrac{b}{2m}t} \\cos{w't+\\phi}$"
   ]
  },
  {
   "cell_type": "markdown",
   "id": "tired-darwin",
   "metadata": {},
   "source": [
    "<h4> Energia no Oscilador Amortecido"
   ]
  },
  {
   "cell_type": "markdown",
   "id": "tight-cable",
   "metadata": {},
   "source": [
    "No M.H.S a Emec se conserva: $E_{mec} = \\dfrac{kA^2} = E_c + U_{el}$\n",
    "\n",
    "Já no amortecido $E(t) \\ne E_{mec} \\ne \\dfrac{k A^2 e^{-\\dfrac{b}{m}t}}{2}$"
   ]
  },
  {
   "cell_type": "markdown",
   "id": "functioning-registration",
   "metadata": {},
   "source": [
    "<h2> Oscilações Forçadas e Ressonância"
   ]
  },
  {
   "cell_type": "markdown",
   "id": "standing-preservation",
   "metadata": {},
   "source": [
    "Agora consideraremos uma Força externa periódica\n",
    "\n",
    "$ma = +F_{el} - F(t)$\n",
    "\n",
    "$F(t) = F_o \\cos(\\omega_{ext} t)$\n",
    "\n",
    "Obs: $\\omega_{ext} = \\omega$ que pode ser diferente da Frequência angular do Oscilador\n",
    "\n",
    "$\\omega_{natural} = \\sqrt{\\dfrac{k}{m}} = \\omega_o$\n",
    "\n",
    "A EDO fica:\n",
    "$\\dfrac{d^2x}{dt^2} + \\omega_o^2x = F_o \\cos(\\omega t)$\n",
    "\n",
    "\n",
    "Com a solução:\n",
    "\n",
    "- $x(t) = A(\\omega) cos(\\omega t + \\phi)$\n",
    "- $A(\\omega) = \\dfrac{F_o}{m|\\omega_0^2-\\omega^2|}$\n",
    "\n",
    "Que pode ser reescrita como:\n",
    "\n",
    "$A(\\omega) = \\dfrac{F_o/m}{\\sqrt{(\\omega_0^2-\\omega^2)^2 + (\\dfrac{b}{m})^2 \\omega^2}}$"
   ]
  },
  {
   "cell_type": "markdown",
   "id": "spanish-respondent",
   "metadata": {},
   "source": [
    "## **PARA PRESTAR ATENÇÃO**"
   ]
  },
  {
   "cell_type": "markdown",
   "id": "spoken-estonia",
   "metadata": {},
   "source": [
    "$\\omega_o = \\sqrt{\\dfrac{k}{m}}$ Frequência Natural de Oscilação\n",
    "\n",
    "$\\omega' = \\sqrt{\\dfrac{k}{m} - \\dfrac{b^2}{4m^2}}$ Frequência Angular do Oscilador Amortecido\n",
    "\n",
    "$\\omega$ Frequência Angular de uma Força Externa"
   ]
  },
  {
   "cell_type": "markdown",
   "id": "indirect-chance",
   "metadata": {},
   "source": [
    "<h2> Exercícios"
   ]
  },
  {
   "cell_type": "markdown",
   "id": "judicial-minister",
   "metadata": {},
   "source": [
    "[Ex 41 Parte 1](../assets/aula4/ex1.jpeg)\n",
    "\n",
    "[Ex 41 Parte 2](../assets/aula4/ex2.jpeg)\n",
    "\n",
    "[Ex 44](../assets/aula4/ex3.jpeg)\n",
    "\n",
    "[Ex 47](../assets/aula4/ex4.jpeg)"
   ]
  }
 ],
 "metadata": {
  "kernelspec": {
   "display_name": "Python 3",
   "language": "python",
   "name": "python3"
  },
  "language_info": {
   "codemirror_mode": {
    "name": "ipython",
    "version": 3
   },
   "file_extension": ".py",
   "mimetype": "text/x-python",
   "name": "python",
   "nbconvert_exporter": "python",
   "pygments_lexer": "ipython3",
   "version": "3.9.1"
  }
 },
 "nbformat": 4,
 "nbformat_minor": 5
}
