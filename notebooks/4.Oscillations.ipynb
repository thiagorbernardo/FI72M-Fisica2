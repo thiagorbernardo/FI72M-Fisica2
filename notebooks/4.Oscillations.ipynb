{
 "cells": [
  {
   "cell_type": "markdown",
   "id": "crucial-protein",
   "metadata": {},
   "source": [
    "# Aula 4: Oscilações Amortecidas, Forçadas e Ressonância"
   ]
  },
  {
   "cell_type": "markdown",
   "id": "postal-cargo",
   "metadata": {},
   "source": [
    "<h3> Aplicações Oscilações com Amortecimento </h3>\n",
    "\n",
    "- Subcrítico:\n",
    "  - Portas de prédios públicos e hospitais\n",
    "  - Circuito RLC\n",
    "- Crítico:\n",
    "  - Balança e instrumentos de precisão\n",
    "  - Amortecedores de Veículos\n",
    "  - Circuito RLC;\n",
    "- Supercrítico:\n",
    "  - Circuito RLC;\n",
    "  - ...\n"
   ]
  },
  {
   "cell_type": "code",
   "execution_count": 1,
   "id": "bronze-trigger",
   "metadata": {},
   "outputs": [],
   "source": [
    "import sympy as sp\n",
    "from sympy import *\n",
    "from sympy.geometry import *\n",
    "%matplotlib inline\n",
    "sp.init_printing()"
   ]
  },
  {
   "cell_type": "markdown",
   "id": "occasional-liver",
   "metadata": {},
   "source": [
    "<h3> O Problema"
   ]
  },
  {
   "cell_type": "markdown",
   "id": "acknowledged-niagara",
   "metadata": {},
   "source": [
    "<img src=\"https://upload.wikimedia.org/wikipedia/commons/b/b9/Sistema_massa_mola.jpg\" alt=\"Sistema Massa-Mola Horizontal\" width=\"400\"/>\n",
    "\n",
    "Calcular amortecimento nesse sistema é complicado pois a Força de atrito é dinâmica quando há movimento\n",
    "\n",
    "Iremos utilizar o seguinte sistema\n",
    "\n",
    "<img src=\"https://2img.net/h/i1215.photobucket.com/albums/cc509/DreamsBieels/Sem%20tiacutetulo.png\" alt=\"Sistema Massa-Mola Vertical\" height=\"250\" width=\"250\"/>\n",
    "\n",
    "Utlizamos o objeto submerso preso ao sistema para aumentar o amortecimento. Iremos supor a força peso desprezível e que o movimento é lento para usar a relação de amortecimento:\n",
    "\n",
    "$F_{arrasto} = -b v$\n",
    "\n",
    "Onde b é a cte de amortecimento"
   ]
  },
  {
   "cell_type": "markdown",
   "id": "designing-permit",
   "metadata": {},
   "source": [
    "As forças que agem no bloco:\n",
    "\n",
    "$\\sum{\\vec F} = \\vec F_{el} + \\vec F_{arr}$\n",
    "\n",
    "$ma = -kx - bv$\n",
    "\n",
    "$ma + bv + kx = 0$\n",
    "\n",
    "Eq do M. H. A: $\\dfrac{d^2x}{dt^2} + \\dfrac{b}{m}\\dfrac{dx}{dt} + \\dfrac{k}{m}x = 0$\n",
    "\n",
    "Iremos tentar resolver \"chutando\" funções"
   ]
  },
  {
   "cell_type": "markdown",
   "id": "tamil-bumper",
   "metadata": {},
   "source": [
    "Utilizando $x(t) = e^{\\lambda t}$\n",
    "\n",
    "Substituindo as derivadas e $\\dfrac{k}{m} = w^2$\n",
    "\n",
    "$\\lambda^2 + \\dfrac{b}{m} \\lambda + \\omega^2 = 0$\n",
    "\n",
    "$\\lambda_{\\pm} = \\dfrac{-b \\pm \\sqrt{b^2-4ac}}{2a}$\n",
    "\n",
    "$\\lambda_{\\pm} = -\\dfrac{b}{2m} \\pm \\sqrt{\\dfrac{b^2}{m^2} - 4w^2}$\n",
    "\n",
    "\n",
    "Utilizando $\\dfrac{b}{2m} = \\gamma$\n",
    "\n",
    "Chegamos em: $\\lambda_{\\pm} = -\\gamma \\pm \\sqrt{\\gamma^2-\\omega^2}$"
   ]
  },
  {
   "cell_type": "markdown",
   "id": "ecological-stationery",
   "metadata": {},
   "source": [
    "1. $\\gamma = \\omega$ $ \\quad \\rightarrow \\quad \\lambda_{\\pm} = -\\gamma \\pm 0$\n",
    "2. $\\gamma \\gt \\omega$ $ \\quad \\rightarrow \\quad \\lambda_{\\pm} = -\\gamma \\pm \\sqrt{\\gamma^2 - \\omega^2}$\n",
    "3. $\\gamma \\lt \\omega$ $ \\quad \\rightarrow \\quad \\lambda_{\\pm} = -\\gamma \\pm \\sqrt{\\gamma^2 - \\omega^2}$ Aqui teria uma raiz negativa"
   ]
  },
  {
   "cell_type": "markdown",
   "id": "viral-yemen",
   "metadata": {},
   "source": [
    "<h4> Os 3 Amortecimentos"
   ]
  },
  {
   "cell_type": "markdown",
   "id": "comic-murray",
   "metadata": {},
   "source": [
    "<img src=\"https://encrypted-tbn0.gstatic.com/images?q=tbn:ANd9GcTYwCZEfWUFKuRB-oHJE6U3kuf97ikQC5ij1Q&usqp=CAU\" alt=\"Amortecimentos\" width=\"400\"/>"
   ]
  },
  {
   "cell_type": "markdown",
   "id": "digital-nicaragua",
   "metadata": {},
   "source": [
    "Iremos tratar o caso 3."
   ]
  },
  {
   "cell_type": "markdown",
   "id": "applicable-context",
   "metadata": {},
   "source": [
    "Exercício p/ Portfólio\n",
    "\n",
    "Dadas duas barras finas de comprimento L e massa M calcule:\n",
    "\n",
    "a) O centro de massa do sistema\n",
    "\n",
    "b) O momento de inércia da barra superior\n",
    "\n",
    "c) O momento de inércia da barra inferior\n",
    "\n",
    "d) O momento de inércia do sistema\n",
    "\n",
    "e) A frequência de oscilação\n",
    "\n",
    "f) O período de oscilação"
   ]
  },
  {
   "cell_type": "markdown",
   "id": "standard-politics",
   "metadata": {},
   "source": [
    "<h2> Pêndulo de Torção"
   ]
  },
  {
   "cell_type": "markdown",
   "id": "bright-console",
   "metadata": {},
   "source": [
    "<h3> Translação"
   ]
  },
  {
   "cell_type": "markdown",
   "id": "shared-prime",
   "metadata": {},
   "source": [
    "$\\vec F_{res} = m \\vec a$\n",
    "\n",
    "$\\vec F_{el} = -k x$\n",
    "\n",
    "$\\omega = \\sqrt{\\dfrac{k}{m}}$\n",
    "\n",
    "$T = 2\\pi \\sqrt{\\dfrac{k}{m}}$"
   ]
  },
  {
   "cell_type": "markdown",
   "id": "underlying-southeast",
   "metadata": {},
   "source": [
    "<h3> Rotação"
   ]
  },
  {
   "cell_type": "markdown",
   "id": "criminal-formula",
   "metadata": {},
   "source": [
    "$ \\vec{\\tau_{res}}= I \\vec \\alpha$\n",
    "\n",
    "$ \\vec{\\tau}= -k \\theta$\n",
    "\n",
    "$\\omega = \\sqrt{\\dfrac{k}{I}}$\n",
    "\n",
    "$T = 2\\pi \\sqrt{\\dfrac{I}{k}}$"
   ]
  },
  {
   "cell_type": "markdown",
   "id": "delayed-exposure",
   "metadata": {},
   "source": [
    "<div align=\"center\">\n",
    "    <img src=\"https://s3-sa-east-1.amazonaws.com/figuras.tecconcursos.com.br/834a4e88-eb2a-405f-9515-8e7b6cfa4fe0\" alt=\"Exemplo Pêndulos\" width=\"600\"/>\n",
    "</div>"
   ]
  },
  {
   "cell_type": "markdown",
   "id": "reasonable-phrase",
   "metadata": {},
   "source": [
    "<h2> Exercícios"
   ]
  },
  {
   "cell_type": "raw",
   "id": "oriented-roman",
   "metadata": {},
   "source": [
    "[Ex 8 e 11](../assets/aula1/ex1.jpeg)\n",
    "\n",
    "[Ex 14](../assets/aula1/ex2.jpeg)\n",
    "\n",
    "[Ex 14 e 20](../assets/aula1/ex3.jpeg)"
   ]
  }
 ],
 "metadata": {
  "kernelspec": {
   "display_name": "Python 3",
   "language": "python",
   "name": "python3"
  },
  "language_info": {
   "codemirror_mode": {
    "name": "ipython",
    "version": 3
   },
   "file_extension": ".py",
   "mimetype": "text/x-python",
   "name": "python",
   "nbconvert_exporter": "python",
   "pygments_lexer": "ipython3",
   "version": "3.9.1"
  }
 },
 "nbformat": 4,
 "nbformat_minor": 5
}
