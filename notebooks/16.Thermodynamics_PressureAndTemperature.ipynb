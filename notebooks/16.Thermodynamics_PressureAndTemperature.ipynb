{
 "cells": [
  {
   "cell_type": "markdown",
   "id": "boring-validation",
   "metadata": {},
   "source": [
    "# Aula 16: Termodinâmica - Teoria Cinética dos Gases: Pressão e Temperatura"
   ]
  },
  {
   "cell_type": "markdown",
   "id": "stock-singing",
   "metadata": {},
   "source": [
    "### Cálculo da Pressão\n",
    "\n",
    "$P = \\dfrac{F}{A}$\n",
    "\n",
    "Hipóteses\n",
    "1) As colisões das partículas contra as paredes são elásticas\n",
    "2) O gás é rarefeito e as colisões entre as partículas é desprezível"
   ]
  },
  {
   "cell_type": "markdown",
   "id": "specific-laugh",
   "metadata": {},
   "source": [
    "Vamos considerar uma partícula de masssa m que colide contra a face perpendicular ao eixo x.\n",
    "\n",
    "### Variação do momento linear na colisão\n",
    "\n",
    "$\\Delta \\vec p = m \\vec v f - m \\vec v i$\n",
    "\n",
    "$\\quad \\Delta p_x = m \\vec v_x f - m \\vec v_x i$\n",
    "\n",
    "$\\quad \\Delta p_y = m \\vec v_y f - m \\vec v_y i = 0$\n",
    "\n",
    "$\\Delta p_x = -2m v_x$\n",
    "\n",
    "Pela conversavação do momento linear temos $\\Delta p_x = +2m v_x$ da partícula p/ a parede\n",
    "\n",
    "$F_{medx} = \\dfrac{F\\Delta p_x}{\\Delta t}$"
   ]
  },
  {
   "cell_type": "markdown",
   "id": "matched-auditor",
   "metadata": {},
   "source": [
    "Essa mesma partícula após colider contra a parede voltará colidir novamente num intervalo de tempo $\\Delta t$\n",
    "\n",
    "$V_x = \\dfrac{2L}{\\Delta t}$\n",
    "\n",
    "$F_x = \\dfrac{2 m V_x}{2L / V_x}$\n",
    "\n",
    "$F_x = \\dfrac{m {V_x}^2}{L}$"
   ]
  },
  {
   "cell_type": "markdown",
   "id": "modular-short",
   "metadata": {},
   "source": [
    "A pressão de uma partícula contra a parede será:\n",
    "    \n",
    "$P = \\dfrac{F_x}{A}$\n",
    "\n",
    "$P = \\dfrac{F_x}{L^2}$\n",
    "\n",
    "$P = \\dfrac{m {V_x}^2}{L^3}$\n",
    "\n",
    "Agora para N partículas e cada partícula tem velocidade $V_{ix}^2$\n",
    "\n",
    "$P = \\dfrac{m}{L^3} \\big ( {V_{1x}}^2 + {V_{2x}}^2 ... \\big )$\n",
    "\n",
    "$P = \\dfrac{m}{L^3} V_{medx}^2 N$"
   ]
  },
  {
   "cell_type": "markdown",
   "id": "classified-layout",
   "metadata": {},
   "source": [
    "Como estamos trabalhando com $V_{med}$\n",
    "\n",
    "$V_{mx} = V_{my} = V_{mz}$\n",
    "\n",
    "$V_{mx}^2 = V_{my}^2 = V_{mz}^2$\n",
    "\n",
    "$P = \\dfrac{m}{3 L^3} V_{med}^2 N$\n",
    "\n",
    "Como $V = L^3$\n",
    "\n",
    "$P = \\dfrac{m}{3 V} V_{med}^2 N$\n",
    "\n",
    "RMS $V_{rms}^2 = V_{mx}^2 + V_{my}^2 + V_{mz}^2$\n",
    "\n",
    "Relações:\n",
    "$m N_a = M$\n",
    "\n",
    "\n",
    "$PV = \\dfrac{nM}{3} V_{rms}^2$\n",
    "\n",
    "Pela lei dos gases ideais $PV = n RT$\n",
    "\n",
    "$V_{rms}^2 = \\sqrt {\\dfrac{3RT}{M}}$"
   ]
  },
  {
   "cell_type": "markdown",
   "id": "liked-tracker",
   "metadata": {},
   "source": [
    "### Energia Cinética de Translação\n",
    "\n",
    "$E_{cmed} = \\dfrac{m V_{rms}^2}{2}$\n",
    "\n",
    "$E_{cmed} = \\dfrac{m 3RT}{2M}$\n",
    "\n",
    "\n",
    "No exemplo:\n",
    "\n",
    "A energia cinética média de translação para um gás ideal é independente do gás e da pressão, só dependendo da temperatura\n",
    "\n",
    "$E_{cmed} = \\dfrac{3}{2} k T = 6,21 x 10^{-21}$\n",
    "\n",
    "$E_{cmed} = \\dfrac{3}{2} n R T = 3740 J$"
   ]
  },
  {
   "cell_type": "markdown",
   "id": "reported-tiger",
   "metadata": {},
   "source": [
    "#### Importante\n",
    "\n",
    "$V_{med} = \\sqrt {\\dfrac{8RT}{\\pi M}}$ V média\n",
    "\n",
    "$V_{rms} = \\sqrt {\\dfrac{3RT}{M}}$ V quadrática média\n",
    "\n",
    "$V_{p} = \\sqrt {\\dfrac{2RT}{M}}$ V mais provável"
   ]
  },
  {
   "cell_type": "markdown",
   "id": "capital-maximum",
   "metadata": {},
   "source": [
    "### Energia Interna\n",
    "\n",
    "$E_{int} = E_{c}$ translação média\n",
    "\n",
    "$E_{int} = \\dfrac{3 nRT}{2}$\n",
    "\n",
    "1° Lei da termo traz:\n",
    "\n",
    "$E_{int} = \\dfrac{3 nR}{2}(T_f - T_i)$\n"
   ]
  },
  {
   "cell_type": "markdown",
   "id": "tutorial-essay",
   "metadata": {},
   "source": [
    "#### Calor específico molar a $V = cte$\n",
    "\n",
    "Para o gás monoatômico \n",
    "$ C_v = 3/2 R = 12,5 \\dfrac{J}{mol . K}$\n",
    "\n",
    "$Q = n C_v \\Delta T$\n",
    "\n",
    "Pela 1° Lei da Termo\n",
    "\n",
    "1° Conclusão $E_{int} =n C_v \\Delta T$ Vale para qualquer gás ideal\n",
    "\n",
    "2° Conclusão $\\Delta E_{int} =n C_v \\Delta T$ Válido para qualquer processo"
   ]
  },
  {
   "cell_type": "markdown",
   "id": "opponent-zambia",
   "metadata": {},
   "source": [
    "#### Calor específico molar a $P = cte$\n",
    "\n",
    "<img src=\"https://aprendafisica.files.wordpress.com/2016/05/cilindro-termo-1.png?w=700\" alt=\"Aula16.1\" width=\"400\" height=\"400\">\n",
    "<a href=\"https://aprendafisica.wordpress.com/2016/05/26/aplicacoes-da-1o-lei-da-termodinamica-i/\"/>Link</a>\n",
    "\n",
    "$ W = Q \\Delta V > 0$\n",
    "\n",
    "$\\Delta E_{int} = n C_p \\Delta T - P \\Delta V $\n",
    "\n",
    "$n C_v \\Delta T = n C_p \\Delta T - n R \\Delta T$\n",
    "\n",
    "$C_v = C_p - R$\n",
    "\n",
    "P/ Monoatômico:\n",
    "\n",
    "$C_v = 3/2 R$\n",
    "\n",
    "Logo,\n",
    "\n",
    "$C_p = 5/2 R$\n",
    "\n",
    "<img src=\"../assets/aula16/example.png\" alt=\"Aula16.2\" width=\"400\" height=\"400\">\n",
    "<a href=\"https://www.youtube.com/watch?v=X_QPrePbhCQ&t=1s&ab_channel=MarcosB\">Video Aula Brown</a>"
   ]
  },
  {
   "cell_type": "markdown",
   "id": "substantial-broadway",
   "metadata": {},
   "source": [
    "[Ex 20, 24 e 26](../assets/aula16/ex1.jpeg)"
   ]
  }
 ],
 "metadata": {
  "kernelspec": {
   "display_name": "Python 3",
   "language": "python",
   "name": "python3"
  },
  "language_info": {
   "codemirror_mode": {
    "name": "ipython",
    "version": 3
   },
   "file_extension": ".py",
   "mimetype": "text/x-python",
   "name": "python",
   "nbconvert_exporter": "python",
   "pygments_lexer": "ipython3",
   "version": "3.9.1"
  }
 },
 "nbformat": 4,
 "nbformat_minor": 5
}
