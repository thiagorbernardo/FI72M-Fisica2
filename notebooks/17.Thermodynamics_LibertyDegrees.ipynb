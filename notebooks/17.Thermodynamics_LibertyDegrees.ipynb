{
 "cells": [
  {
   "cell_type": "markdown",
   "id": "limited-hollywood",
   "metadata": {},
   "source": [
    "# Aula 17: Termodinâmica - Teoria Cinética dos Gases: Graus de liberdade e calores específicos molares"
   ]
  },
  {
   "cell_type": "markdown",
   "id": "exceptional-click",
   "metadata": {},
   "source": [
    "<img src=\"http://www.ofca.com.br/img/jpg/gif/quantica%20de%20campus.gif\" alt=\"Aula17.1\" width=\"400\" height=\"400\">\n",
    "<a href=\"http://www.ofca.com.br/img/jpg/gif/\">Link</a>\n",
    "\n",
    "$E_{cmed \\quad trans} = E_{cx}  + E_{cy} + E_{cz}$\n",
    "\n",
    "Energia cinética de rotação (2 graus de liberdade)\n",
    "\n",
    "Energia potencial elástica (2 graus de liberdade)\n"
   ]
  },
  {
   "cell_type": "markdown",
   "id": "completed-assets",
   "metadata": {},
   "source": [
    "Toda molécula tem um número *f* de *graus de liberdade*, que são formas independentes pelas quais a molécula pode armazenar energia. A cada grau de liberdade está associada (em média) uma energia de $1/2 k T$ por molécula (ou $1/2 RT$ por mol).\n",
    "\n",
    "Como demonstrado nas aulas anteriores a Energia interna para gases monoatômicos e diatômicos sabemos que:\n",
    "\n",
    "Se gasta menos energia por mol para aumentar a mesma quantidade de temperatura de um gás monoatômico que um gás diatômico."
   ]
  },
  {
   "cell_type": "markdown",
   "id": "extreme-representative",
   "metadata": {},
   "source": [
    "Para um gás monoatômico:\n",
    "\n",
    "Há 3 graus de liberdade *disponíveis*:\n",
    "\n",
    "$E_{int} = \\dfrac{3}{2} k T$ p/ 1 molécula\n",
    "\n",
    "$E_{int} = \\dfrac{3}{2} n RT$ p/ n mols\n",
    "\n",
    "$ C_p = C_v + R$"
   ]
  },
  {
   "cell_type": "markdown",
   "id": "heavy-moses",
   "metadata": {},
   "source": [
    "Para um gás diatômico:\n",
    "\n",
    "$E_{int} = \\dfrac{5}{2} k T$ p/ 1 molécula\n",
    "\n",
    "$E_{int} = \\dfrac{5}{2} n RT$ p/ n mols\n",
    "\n",
    "$C_v = 7/2 R$\n",
    "\n",
    "$C_p = 9/2 R$\n",
    "\n",
    "$ C_p = C_v + R$"
   ]
  },
  {
   "cell_type": "markdown",
   "id": "received-surrey",
   "metadata": {},
   "source": [
    "Para uma molécula diatômico:\n",
    "\n",
    "$E_{vibration} = \\dfrac{1}{2} k r^2 + \\dfrac{1}{2} \\mu v_{vib}^2$ \n",
    "\n",
    "Assim serão mais dois graus de liberdade:\n",
    "\n",
    "$E_{int} = E_{ctrans} + E_{crot} + E_{vib}$\n",
    "\n",
    "$E_{int} = \\dfrac{7}{2} k T$ por moléculas\n",
    "\n",
    "$C_v = 7/2 R$\n",
    "\n",
    "$C_p = 9/2 R$\n",
    "\n",
    "$ C_p = C_v + R$"
   ]
  },
  {
   "cell_type": "markdown",
   "id": "acknowledged-fleet",
   "metadata": {},
   "source": [
    "### Gás\n",
    "\n",
    "Monoatômico $E_{int} = \\dfrac{3}{2} n R \\Delta T$\n",
    "\n",
    "Diatômico $E_{int} = \\dfrac{5}{2} n R \\Delta T$\n",
    "\n",
    "Diatômico + Vibração $E_{int} = \\dfrac{7}{2} n R \\Delta T$\n",
    "\n",
    "P/ 1 mol e $\\Delta T = 1$°C\n",
    "\n",
    "$E_{int} = \\dfrac{3}{2} R = 12,5 J$\n",
    "\n",
    "$E_{int} = \\dfrac{5}{2} R = 20,8 J$\n",
    "\n",
    "$E_{int} = \\dfrac{7}{2} R = 29 J$"
   ]
  },
  {
   "cell_type": "markdown",
   "id": "lonely-reserve",
   "metadata": {},
   "source": [
    "$C_v = \\dfrac{f}{2} R = 4,16 f$\n",
    "\n",
    "Onde f é o n° de graus de liberdade\n",
    "\n",
    "Monoatômico $f = 3$\n",
    "\n",
    "Diatômico $f = 5$\n",
    "\n",
    "Diatômico + Vibração $f = 7$\n",
    "\n",
    "$C_p = \\dfrac{f + 2}{2} R = 4,16 f$\n",
    "\n",
    "Monoatômico $2 + f = 5$\n",
    "\n",
    "Diatômico $2 + f = 7$\n",
    "\n",
    "Diatômico + Vibração $2 + f = 9$\n",
    "\n",
    "<img src=\"https://docplayer.com.br/docs-images/60/44343884/images/28-4.png\" alt=\"Aula17.2\" width=\"400\" height=\"400\">\n",
    "<a href=\"https://docplayer.com.br/44343884-19-2-numero-de-avogadro-mol-numero-de-atomos-em-uma-amostra-de-12g-do-carbono-12-num-mol-de-qualquer-substancia-existem.html\">Link</a>"
   ]
  },
  {
   "cell_type": "markdown",
   "id": "atomic-willow",
   "metadata": {},
   "source": [
    "### Efeitos Quânticos\n",
    "\n",
    "Ao aquecer um sistema o calor será transferido pra todos energéticos disponíveis (graus de liberdade)\n",
    "\n",
    "Devido a quantização dos graus de liberdade internos (rotação e vibração) este só são ativados a determinada temperatura (energia)"
   ]
  },
  {
   "cell_type": "markdown",
   "id": "similar-swimming",
   "metadata": {},
   "source": [
    "## Processo adiabático\n",
    "\n",
    "### A expansão adiabática de um gás ideal\n",
    "\n",
    "Qual função $p(V)$ descreve o processo adiabático?\n",
    "\n",
    "Começamos por:\n",
    "\n",
    "$\\Delta E_{int} = Q - W $\n",
    "\n",
    "$Q = 0 $\n",
    "\n",
    "$dE_{int} = - p dV $\n",
    "\n",
    "$n C_v dT = - p dV $\n",
    "\n",
    "$n \\dfrac{f}{2} R dT = - p dV $\n",
    "\n",
    "Utilizando $PV = nRT$ na forma diferencial $P dV + V dP= nR dT$\n",
    "\n",
    "$\\dfrac{f}{2} (P dV + V dP) = - p dV $\n",
    "\n",
    "Utilizando da substituição $\\dfrac{C_p}{C_v} = \\gamma$\n",
    "\n",
    "$p_i V_i^\\gamma = cte$\n",
    "\n",
    "Chegamos em $p(V) = \\dfrac{p_i V_i^\\gamma}{V^\\gamma}$"
   ]
  },
  {
   "cell_type": "markdown",
   "id": "scientific-vaccine",
   "metadata": {},
   "source": [
    "## Tabela Quatro Processos Especiais\n",
    "\n",
    "<img src=\"../assets/aula17/table.png\" alt=\"Aula17.3\" width=\"700\" height=\"600\">\n",
    "<a href=\"https://www.youtube.com/watch?v=RY9eOekiUAs&ab_channel=MarcosB\">Video Aula Brown</a>\n",
    "\n",
    "<img src=\"https://d2vlcm61l7u1fs.cloudfront.net/media%2Fa2c%2Fa2c6a896-3e14-48d7-b6ba-e8a5935b33c3%2Fphp8XmRVF.png\" alt=\"Aula17.4\" width=\"600\" height=\"400\">\n",
    "<a href=\"https://www.chegg.com/homework-help/questions-and-answers/prelab-1-processes-listed-determine-whether-quantity-table-positive-negative-zero-0-type-p-q27978623\">Link</a>"
   ]
  },
  {
   "cell_type": "markdown",
   "id": "pressed-circus",
   "metadata": {},
   "source": [
    "[Ex 52 e 53](../assets/aula17/ex1.jpeg)\n",
    "\n",
    "[Ex 57](../assets/aula17/ex2.jpeg)"
   ]
  }
 ],
 "metadata": {
  "kernelspec": {
   "display_name": "Python 3",
   "language": "python",
   "name": "python3"
  },
  "language_info": {
   "codemirror_mode": {
    "name": "ipython",
    "version": 3
   },
   "file_extension": ".py",
   "mimetype": "text/x-python",
   "name": "python",
   "nbconvert_exporter": "python",
   "pygments_lexer": "ipython3",
   "version": "3.9.1"
  }
 },
 "nbformat": 4,
 "nbformat_minor": 5
}
