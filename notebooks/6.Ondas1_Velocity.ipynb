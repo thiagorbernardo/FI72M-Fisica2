{
 "cells": [
  {
   "cell_type": "markdown",
   "id": "consecutive-tattoo",
   "metadata": {},
   "source": [
    "# Aula 6: Ondas 1 - Cálculo da velocidade de propagação e energia"
   ]
  },
  {
   "cell_type": "code",
   "execution_count": 1,
   "id": "northern-blake",
   "metadata": {},
   "outputs": [],
   "source": [
    "import sympy as sp\n",
    "from sympy import *\n",
    "from sympy.geometry import *\n",
    "%matplotlib inline\n",
    "sp.init_printing()"
   ]
  },
  {
   "cell_type": "code",
   "execution_count": 2,
   "id": "northern-evanescence",
   "metadata": {},
   "outputs": [],
   "source": [
    "k, x, A, omega, t, phi, y= sp.symbols('k x A omega t phi y')"
   ]
  },
  {
   "cell_type": "markdown",
   "id": "endless-chester",
   "metadata": {},
   "source": [
    "<img src=\"https://www.if.ufrj.br/~bertu/fis2/ondas1/corda.gif\" alt=\"Corda Esticada\" width=\"600\"/>\n",
    "\n",
    "Pulso numa corda para $\\theta$ pequeno\n",
    "\n",
    "Componentes em x se cancelam, em y se somam"
   ]
  },
  {
   "cell_type": "markdown",
   "id": "secure-navigator",
   "metadata": {},
   "source": [
    "$Assim \\left\\{\n",
    "\\begin{aligned}\n",
    "    \\sum F_x &= 0\\\\\n",
    "    \\sum F_y &= 2 \\tau \\sin \\theta\n",
    "\\end{aligned}\n",
    "\\right.$\n",
    "\n",
    "\n",
    "A força em y aponta para o centro da circunferência (pulso) e para $\\theta$ pequeno $\\sin \\theta \\approx \\theta$\n",
    "\n",
    "$F_{res} = \\sum F_y = 2 \\tau \\sin \\theta \\approx 2 \\tau \\theta $"
   ]
  },
  {
   "cell_type": "markdown",
   "id": "connected-brooks",
   "metadata": {},
   "source": [
    "**O arco de circunferência $\\Delta L$**\n",
    "\n",
    "$\\Delta L = 2\\pi r$\n",
    "\n",
    "<img src=\"https://upload.wikimedia.org/wikipedia/commons/thumb/d/da/Circle_arc.svg/1200px-Circle_arc.svg.png\" alt=\"Arco Circunferência\" width=\"300\" height=\"300\"/>\n"
   ]
  },
  {
   "cell_type": "markdown",
   "id": "joint-poetry",
   "metadata": {},
   "source": [
    "Assim a Força res em y será:\n",
    "\n",
    "$F_{res} = \\dfrac{\\tau \\Delta L}{r} $"
   ]
  },
  {
   "cell_type": "markdown",
   "id": "sustainable-folks",
   "metadata": {},
   "source": [
    "A massa especéfica do fio:\n",
    "\n",
    "$\\mu = \\dfrac{\\Delta m}{\\Delta L} $\n",
    "\n",
    "e\n",
    "\n",
    "$F_{res} = \\dfrac{\\tau \\Delta m}{\\mu r} $"
   ]
  },
  {
   "cell_type": "markdown",
   "id": "proper-standing",
   "metadata": {},
   "source": [
    "Como a Força res aponta para o centro, a Força centrípeta será:\n",
    "\n",
    "$F_c = m a_c $\n",
    "\n",
    "$F_c = m \\dfrac{v^2}{r} $\n",
    "\n",
    "\n",
    "Para o elemento de corda $\\Delta L \\to \\Delta m$\n",
    "\n",
    "$\\dfrac{\\ \\Delta m}{\\mu r} = \\dfrac{\\Delta m v^2}{r} $\n",
    "\n",
    "$v = \\sqrt{\\dfrac{\\tau}{\\mu}}$"
   ]
  },
  {
   "cell_type": "markdown",
   "id": "double-bleeding",
   "metadata": {},
   "source": [
    "<h3> Energia e Potência de uma onda Progressiva"
   ]
  },
  {
   "cell_type": "markdown",
   "id": "aerial-communist",
   "metadata": {},
   "source": [
    "Ao gerar uma onda numa corda fornecemos energia para ela\n",
    "\n",
    "$E_{mec} = E_c + U_{el}$\n",
    "\n",
    "Iremos calcular a Ec e depois a Emec média\n",
    "\n",
    "$E_c = \\dfrac{mv^2}{2}$\n",
    "\n",
    "Para um elemento de massa dm\n",
    "\n",
    "$dE_c = \\dfrac{dmv^2}{2}$"
   ]
  },
  {
   "cell_type": "markdown",
   "id": "tribal-publisher",
   "metadata": {},
   "source": [
    "Velocidade transversal\n",
    "\n",
    "$\\dfrac{\\partial y}{\\partial t} = V_y = V_t$\n",
    "\n",
    "Densidade Linear\n",
    "\n",
    "$\\mu = \\dfrac{m}{L} = \\dfrac{dm}{dx}$\n",
    "\n",
    "$dx$ corda ao londo do eixo x\n",
    "\n",
    "Energia Cinética a partir de \n",
    "$ y(x,t) = A \\sin (kx - \\omega t) $\n",
    "\n",
    "$ \\dfrac{\\partial y}{\\partial t} = -A \\omega \\cos (kx - \\omega t) $\n",
    "\n",
    "$E_c = \\dfrac{1}{4} \\mu \\lambda (A \\omega)^2$"
   ]
  },
  {
   "cell_type": "markdown",
   "id": "spatial-title",
   "metadata": {},
   "source": [
    "Taxa de variação da Ec no tempo:\n",
    "\n",
    "$\\left< \\dfrac{dE_c}{dt} \\right> = \\dfrac{1}{4} \\mu v A^2 \\omega^2$\n",
    "\n",
    "\n",
    "PotÊncia Média\n",
    "\n",
    "$\\left< P \\right> = \\left< \\dfrac{dE_c}{dt} \\right> = 2 \\dfrac{1}{4} \\mu v A^2 \\omega^2$\n",
    "\n",
    "$\\left< P \\right> =\\dfrac{1}{2} \\mu v (A \\omega)^2$\n",
    "\n",
    "$\\mu v$ Depende do meio\n",
    "\n",
    "$(A \\omega)^2$ Depende do \"usuário\" (condições iniciais do problema)"
   ]
  },
  {
   "cell_type": "markdown",
   "id": "current-warrant",
   "metadata": {},
   "source": [
    "<h2> Exercícios"
   ]
  },
  {
   "cell_type": "raw",
   "id": "applicable-training",
   "metadata": {},
   "source": [
    "[WIP]\n",
    "\n",
    "[Ex 8 e 11](../assets/aula1/ex1.jpeg)\n",
    "\n",
    "[Ex 14](../assets/aula1/ex2.jpeg)\n",
    "\n",
    "[Ex 14 e 20](../assets/aula1/ex3.jpeg)"
   ]
  }
 ],
 "metadata": {
  "kernelspec": {
   "display_name": "Python 3",
   "language": "python",
   "name": "python3"
  },
  "language_info": {
   "codemirror_mode": {
    "name": "ipython",
    "version": 3
   },
   "file_extension": ".py",
   "mimetype": "text/x-python",
   "name": "python",
   "nbconvert_exporter": "python",
   "pygments_lexer": "ipython3",
   "version": "3.9.1"
  }
 },
 "nbformat": 4,
 "nbformat_minor": 5
}
