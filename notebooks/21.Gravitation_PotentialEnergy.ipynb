{
 "cells": [
  {
   "cell_type": "markdown",
   "id": "lightweight-sodium",
   "metadata": {},
   "source": [
    "# Aula 21: Gravitação - Energia Potencial Gravitacional"
   ]
  },
  {
   "cell_type": "markdown",
   "id": "whole-caribbean",
   "metadata": {},
   "source": [
    "Antes, com g cte: $E_p = m g h$ Energia potencial gravitacional"
   ]
  },
  {
   "cell_type": "markdown",
   "id": "outside-concern",
   "metadata": {},
   "source": [
    "## Energia potencial gravitacional\n",
    "\n",
    "Uma massa m que está no entorno de um planeta de massa M\n",
    "\n",
    "$\\vec F = -\\dfrac{GMm}{r^2}\\hat r$\n",
    "\n",
    "Iremos calcular o trabalho por uma partícula bem distante da superfície da Terra\n",
    "\n",
    "$W = \\vec F \\vec d$ para $F = cte$\n",
    "\n",
    "$W = \\int_{r_i}^{r_f} F(r) \\, dr$\n",
    "\n",
    "$W = \\int_{\\infty}^{r_0} -\\dfrac{GMm}{r^2} \\, dr$\n",
    "\n",
    "$W = \\dfrac{GMm}{r_0}$"
   ]
  },
  {
   "cell_type": "markdown",
   "id": "floppy-wichita",
   "metadata": {},
   "source": [
    "$W > 0$\n",
    "\n",
    "Força na mesma direção do deslocamento\n",
    "\n",
    "$W < 0$\n",
    "\n",
    "Força contrária ao deslocamento"
   ]
  },
  {
   "cell_type": "markdown",
   "id": "compound-checkout",
   "metadata": {},
   "source": [
    "Como a força gravitacional é conservativa podemos associar a uma energia potencial\n",
    "\n",
    "$W = \\Delta E_c$\n",
    "\n",
    "$W = -\\Delta U$\n",
    "\n",
    "$W = -(U_f - U_i)$ Onde o primeiro é próximo da sup. da Terra, o segundo zero quando $r -> \\infty$\n",
    "\n",
    "Independente se $W > 0$ ou $W < 0$ a relação de $U(r)$ é:\n",
    "\n",
    "$U(r) = -\\dfrac{GMm}{r}$\n"
   ]
  },
  {
   "cell_type": "markdown",
   "id": "armed-purple",
   "metadata": {},
   "source": [
    "### Detalhes energia potencial gravitacional\n",
    "\n",
    "A energia potencial é uma **propriedade do sistema** de ao menos duas partículas, e não de cada partícula isoladamente.\n",
    "\n",
    "Não é possível dividir essa energia e afirmar que uma parte pertence a uma das partículas e o restante pertence à outra.\n",
    "\n",
    "Entretanto, se $M >> m$, como no caso da terra, frequentemente falamos da \"energia potencial da Terra\""
   ]
  },
  {
   "cell_type": "markdown",
   "id": "public-grass",
   "metadata": {},
   "source": [
    "### Sistema de partículas\n",
    "\n",
    "Com 3 partículas\n",
    "\n",
    "$U = - \\big ( \\dfrac{G m_1 m_2 }{r_{12}} + \\dfrac{G m_1 m_3}{r_{13}} + \\dfrac{G m_2 m_3 }{r_{23}} \\big )$"
   ]
  },
  {
   "cell_type": "markdown",
   "id": "professional-flesh",
   "metadata": {},
   "source": [
    "## Velocidade de escape\n",
    "<img src=\"https://freestylemath.files.wordpress.com/2015/12/escape.png?w=625&h=355\" alt=\"Aula21.1\" width=\"400\" height=\"400\"/>\n",
    "<a href=\"https://freestylemath.wordpress.com/tag/velocidade-de-escape/\">Fonte</a>\n",
    "\n",
    "\n",
    "Velocidade mínima que um objeto precisa para escapar do campo gravitacional terrestre\n",
    "\n",
    "A $E_c$ deverá ser a mesma em módulo\n",
    "\n",
    "A $U_g$:\n",
    "\n",
    "$|E_c| = |U_g|$\n",
    "\n",
    "Como $E_{meci} = E_{mecf}$\n",
    "\n",
    "$E_{ci} + U_i = 0$\n",
    "\n",
    "No infinito, quando $E_{mecf}$ = 0\n",
    "\n",
    "$\\dfrac{m v_e^2}{2} = -\\dfrac{GMm}{r}$\n",
    "\n",
    "$v_e = \\sqrt{\\dfrac{2GM}{R_T}}$"
   ]
  },
  {
   "cell_type": "markdown",
   "id": "little-recruitment",
   "metadata": {},
   "source": [
    "# Lei de Kepler\n",
    "\n",
    "1° Lei: Todos os planetas se movem em órbitas elípticas, com o sol em um dos focos\n",
    "\n",
    "2° Lei: Áreas iguais varridas percorrem o mesmo tempo\n",
    "\n",
    "$\\dfrac{A_1}{\\Delta t_1} = \\dfrac{A_2}{\\Delta t_2} = cte$\n",
    "\n",
    "3° Lei: O quadrado do período de qualquer planeta é proporcional ao cubo do semieixo maior da órbita\n",
    "\n",
    "Órbitas circulares $\\dfrac{T^2}{R^3} = cte$\n",
    "\n",
    "Órbitas elípticas $\\dfrac{T^2}{\\alpha^3} = cte$"
   ]
  },
  {
   "cell_type": "markdown",
   "id": "satisfied-trick",
   "metadata": {},
   "source": [
    "## 2° Lei de Kepler: Lei das áreas\n",
    "\n",
    "Relação entre o tempo e a área percorrida\n",
    "\n",
    "\n",
    "<img src=\"https://blog.biologiatotal.com.br/wp-content/uploads/2020/07/segunda-lei-de-Kepler-areas-1-768x333.png\" alt=\"Aula21.2\" width=\"400\" height=\"400\"/>\n",
    "<a href=\"https://blog.biologiatotal.com.br/leis-de-kepler/\">Fonte</a>\n",
    "\n",
    "$\\dfrac{A1}{\\Delta t_1} = cte$\n",
    "\n",
    "$\\dfrac{A2}{\\Delta t_2} = cte$\n",
    "\n",
    "$\\dfrac{A}{\\Delta t} \\sim \\dfrac{L}{2m}$\n",
    "\n",
    "Para $\\Delta t \\to \\infty$\n",
    "\n",
    "$\\dfrac{dA}{dt} = \\dfrac{L}{2m}$ Plano de órbita bem definido\n",
    "\n",
    "Na ausência de forças (e torques) externos $L = cte$\n",
    "\n",
    "$\\dfrac{dA}{dt} = \\dfrac{L}{2m} = cte$"
   ]
  },
  {
   "cell_type": "markdown",
   "id": "instrumental-german",
   "metadata": {},
   "source": [
    "## 3° Lei de Kepler\n",
    "\n",
    "Demonstração para órbita circular\n",
    "\n",
    "$\\vec F_g = \\vec F_{\\text{centripeta}}$\n",
    "\n",
    "$\\dfrac{GMm}{r^2} = m a_c = m \\dfrac{v^2}{r}$\n",
    "\n",
    "Utilizando $v = \\omega r$ e $T = \\dfrac{2 \\pi}{\\omega}$\n",
    "\n",
    "$\\dfrac{GMm}{r} = \\omega^2 r^2$\n",
    "\n",
    "$\\dfrac{T^2}{r^3} = \\dfrac{4 \\pi^2}{GM} = cte$\n"
   ]
  },
  {
   "cell_type": "markdown",
   "id": "pretty-destiny",
   "metadata": {},
   "source": [
    "[Ex 29 e 33](../assets/aula21/ex1.jpeg)\n",
    "\n",
    "[Ex 43](../assets/aula21/ex2.jpeg)"
   ]
  }
 ],
 "metadata": {
  "kernelspec": {
   "display_name": "Python 3",
   "language": "python",
   "name": "python3"
  },
  "language_info": {
   "codemirror_mode": {
    "name": "ipython",
    "version": 3
   },
   "file_extension": ".py",
   "mimetype": "text/x-python",
   "name": "python",
   "nbconvert_exporter": "python",
   "pygments_lexer": "ipython3",
   "version": "3.9.1"
  }
 },
 "nbformat": 4,
 "nbformat_minor": 5
}
