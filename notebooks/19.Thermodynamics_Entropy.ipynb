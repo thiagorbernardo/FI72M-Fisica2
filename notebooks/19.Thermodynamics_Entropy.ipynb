{
 "cells": [
  {
   "cell_type": "markdown",
   "id": "alien-auction",
   "metadata": {},
   "source": [
    "# Aula 19: Termodinâmica - Entropia"
   ]
  },
  {
   "cell_type": "markdown",
   "id": "rapid-competition",
   "metadata": {},
   "source": [
    "O sentido dos processos irreversíveis são determinados pela Entropia.\n",
    "\n",
    "### Postulado da entropia\n",
    "\n",
    "Todos os processos irreversíveis em um sistema **fechado** são acompanhados por aumento da entropia.\n",
    "\n",
    "Ciclo de carnot\n",
    "\n",
    "$\\Delta S = 0$\n",
    "\n",
    "Proc. Irrev.\n",
    "\n",
    "$\\Delta S > 0$\n"
   ]
  },
  {
   "cell_type": "markdown",
   "id": "dense-circle",
   "metadata": {},
   "source": [
    "### Processos Irreversíveis e Entropia\n",
    "\n",
    "A entropia é diferente da energia no sentido de que a entropia não obedece uma lei de conservação\n",
    "\n",
    "A energia de um sistema fechado é conservada; ele permanece constante.\n",
    "\n",
    "Nos processos irrev., a entropia de um sistema fechado aumenta.\n",
    "\n",
    "Graças a essa propriedade, a variação de entropia é às vezes chamada de \"seta do tempo\".\n",
    "\n",
    "Formas de definir a variação da entropia:\n",
    "\n",
    "1. Em termos da temperatura do sistema e da energia que o sistema ganha ou perde na forma de calor e\n",
    "\n",
    "2. contando as diferentes formas de distribuir os átomos ou moléculas que compõem o sistema. A primeira abordagem é usada neste módulo; a segunda, no Módulo 20-4.\n",
    "\n",
    "As duas formas estão associadas a dispersão de energia num sistema. Assim a tendência dos processos é dispersas a energia e desta forma aumentar a entropia"
   ]
  },
  {
   "cell_type": "markdown",
   "id": "designing-failing",
   "metadata": {},
   "source": [
    "#### Expansão Isotérmica\n",
    "\n",
    "$Q = nRT \\ln \\dfrac{V_f}{V_i}$\n",
    "\n",
    "$\\Delta S =\\dfrac{1}{T} \\int dQ = nR \\ln \\dfrac{V_f}{V_i} > 0$"
   ]
  },
  {
   "cell_type": "markdown",
   "id": "loving-absence",
   "metadata": {},
   "source": [
    "### Variação da entropia\n",
    "\n",
    "Para de terminar a variação da entropia que ocorre em um proc. irrev., substituimos esse processo por um processo reversível que envolva os mesmos estados inicial e final e calculamos a variação de entropia para esse proc. rev. usando a Eq acima."
   ]
  },
  {
   "cell_type": "markdown",
   "id": "sized-andorra",
   "metadata": {},
   "source": [
    "## A segunda lei da termodinâmica\n",
    "\n",
    "#### Expansão isotérmica\n",
    "\n",
    "$\\Delta S_{gas} = +\\dfrac{|Q|}{T}$\n",
    "\n",
    "$\\Delta S_{res} = -\\dfrac{|Q|}{T}$\n",
    "\n",
    "\n",
    "#### Compressão isotérmica\n",
    "\n",
    "$\\Delta S_{gas} = -\\dfrac{|Q|}{T}$\n",
    "\n",
    "$\\Delta S_{res} = +\\dfrac{|Q|}{T}$\n"
   ]
  },
  {
   "cell_type": "markdown",
   "id": "labeled-sheet",
   "metadata": {},
   "source": [
    "### Postulado da entropia para procs. rev. e irrev.\n",
    "\n",
    "Se um processo ocorre em um sistema *fechado*, a entropia do sistema aument se o proc for irrev. e permanece cte se o proc. for rev.\n",
    "\n",
    "$\\Delta S \\ge 0$"
   ]
  },
  {
   "cell_type": "markdown",
   "id": "warming-appearance",
   "metadata": {},
   "source": [
    "### Visão estatística da entropia\n",
    "\n",
    "O aumento da entropia está associada a 'desordem' do sistema\n",
    "\n",
    "Se tiver uma pilha de folhas, qual a probabilidade de ao jogar e as folhas pro alto elas voltarem a ficar organizadas?"
   ]
  },
  {
   "cell_type": "markdown",
   "id": "figured-yacht",
   "metadata": {},
   "source": [
    "[Ex 2 e 7](../assets/aula19/ex1.jpeg)\n",
    "\n",
    "[Ex 8](../assets/aula19/ex2.jpeg)"
   ]
  }
 ],
 "metadata": {
  "kernelspec": {
   "display_name": "Python 3",
   "language": "python",
   "name": "python3"
  },
  "language_info": {
   "codemirror_mode": {
    "name": "ipython",
    "version": 3
   },
   "file_extension": ".py",
   "mimetype": "text/x-python",
   "name": "python",
   "nbconvert_exporter": "python",
   "pygments_lexer": "ipython3",
   "version": "3.9.1"
  }
 },
 "nbformat": 4,
 "nbformat_minor": 5
}
