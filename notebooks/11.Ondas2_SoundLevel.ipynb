{
 "cells": [
  {
   "cell_type": "markdown",
   "id": "structured-occurrence",
   "metadata": {},
   "source": [
    "# Aula 11: Ondas 2 - Nível Sonoro e Fontes Musicais"
   ]
  },
  {
   "cell_type": "markdown",
   "id": "cathedral-throat",
   "metadata": {},
   "source": [
    "### Escala Decibéis (dB)\n",
    "\n",
    "A escala decibéis é uma escala de intensidade sonora relativa $I / I_o$\n",
    "\n",
    "$I_o$ é referência relacionado ao limiar de audibilidade\n",
    "\n",
    "$I_o = 10^-12 W/m^2$\n",
    "\n",
    "Como o intervalo de intensidade sonora detectado pelo ser humano é muito grande utilizamos o logarítmo $\\log(I/I_o)$\n",
    "\n",
    "E tal escala é multiplicada por 10\n",
    "\n",
    "$\\beta = 10 \\log(I/I_o) \\, dB$"
   ]
  },
  {
   "cell_type": "markdown",
   "id": "advanced-analyst",
   "metadata": {},
   "source": [
    "<img src=\"http://www.cochlea.org/var/plain_site/storage/images/media/images/jauge_po/15595-1-por-PT/jauge_po.png\" alt=\"Aula11.1\" width=\"400\" height=\"400\"/>"
   ]
  },
  {
   "cell_type": "markdown",
   "id": "regulated-breach",
   "metadata": {},
   "source": [
    "[Ex 3](../assets/aula9/ex1.jpeg)\n",
    "\n",
    "[Ex 12](../assets/aula9/ex2.jpeg)\n",
    "\n",
    "[Ex 15](../assets/aula9/ex3.jpeg)"
   ]
  }
 ],
 "metadata": {
  "kernelspec": {
   "display_name": "Python 3",
   "language": "python",
   "name": "python3"
  },
  "language_info": {
   "codemirror_mode": {
    "name": "ipython",
    "version": 3
   },
   "file_extension": ".py",
   "mimetype": "text/x-python",
   "name": "python",
   "nbconvert_exporter": "python",
   "pygments_lexer": "ipython3",
   "version": "3.9.1"
  }
 },
 "nbformat": 4,
 "nbformat_minor": 5
}
