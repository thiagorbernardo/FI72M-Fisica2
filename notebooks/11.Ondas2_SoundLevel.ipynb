{
 "cells": [
  {
   "cell_type": "markdown",
   "id": "documented-melbourne",
   "metadata": {},
   "source": [
    "# Aula 11: Ondas 2 - Nível Sonoro e Fontes Musicais"
   ]
  },
  {
   "cell_type": "markdown",
   "id": "cloudy-jimmy",
   "metadata": {},
   "source": [
    "## Nível sonoro"
   ]
  },
  {
   "cell_type": "markdown",
   "id": "premium-travel",
   "metadata": {},
   "source": [
    "### Escala Decibéis (dB)\n",
    "\n",
    "A escala decibéis é uma escala de intensidade sonora relativa $I / I_o$\n",
    "\n",
    "$I_o$ é referência relacionado ao limiar de audibilidade\n",
    "\n",
    "$I_o = 10^{-12} W/m^2$\n",
    "\n",
    "Como o intervalo de intensidade sonora detectado pelo ser humano é muito grande utilizamos o logarítmo $\\log(I/I_o)$\n",
    "\n",
    "E tal escala é multiplicada por 10\n",
    "\n",
    "$\\beta = 10 \\log(I/I_o) \\, dB$"
   ]
  },
  {
   "cell_type": "markdown",
   "id": "prescription-miniature",
   "metadata": {},
   "source": [
    "<img src=\"http://www.cochlea.org/var/plain_site/storage/images/media/images/jauge_po/15595-1-por-PT/jauge_po.png\" alt=\"Aula11.1\" width=\"400\" height=\"400\"/>"
   ]
  },
  {
   "cell_type": "markdown",
   "id": "configured-england",
   "metadata": {},
   "source": [
    "## Fontes Musicais"
   ]
  },
  {
   "cell_type": "markdown",
   "id": "cellular-warning",
   "metadata": {},
   "source": [
    "### Características:\n",
    "    \n",
    "#### Intensidade\n",
    "\n",
    "$I = \\dfrac{\\left< P \\right>}{A}$ $I \\alpha \\Delta p_m^2$ \"Volume sonoro\"\n",
    "\n",
    "#### Altura\n",
    "\n",
    "Frequência\n",
    "- Sons Graves\n",
    "- Sons Agudos\n",
    "\n",
    "#### Duração\n",
    "\n",
    "Tempo de duração do som\n",
    "\n",
    "#### Timbre\n",
    "\n",
    "Assinatura característica de cada fonte sonora"
   ]
  },
  {
   "cell_type": "markdown",
   "id": "eight-overall",
   "metadata": {},
   "source": [
    "Os harmônicos nas fontes musicais são determinados por:\n",
    "\n",
    "$f_n = n f_1$ Onde n é o número do harmônico"
   ]
  },
  {
   "cell_type": "markdown",
   "id": "dying-pitch",
   "metadata": {},
   "source": [
    "O Timbre é definido por uma combinação linear dos harmônicos\n",
    "\n",
    "$ f_{Timbre} = a_0f_0 + a_1f_1 + a_2f_2 + ...$\n",
    "\n",
    "<img src=\"https://soaresdenis.files.wordpress.com/2016/06/image031.jpg?w=640\" alt=\"Aula11.1\" width=\"400\" height=\"300\"/>\n"
   ]
  },
  {
   "cell_type": "markdown",
   "id": "bizarre-discount",
   "metadata": {},
   "source": [
    "#### Para um tubo com 2 extremidades abertas temos:\n",
    "\n",
    "$\\lambda = \\dfrac{2L}{n}$\n",
    "\n",
    "$V = \\lambda f$\n",
    "\n",
    "$v = \\dfrac{2L}{n}f$\n",
    "\n",
    "$f_n = n\\dfrac{v}{2L}$"
   ]
  },
  {
   "cell_type": "markdown",
   "id": "moral-sitting",
   "metadata": {},
   "source": [
    "#### Para um tubo com apenas 1 extremidade aberta temos:\n",
    "\n",
    "$\\lambda = \\dfrac{4L}{n}$\n",
    "\n",
    "$V_ = \\lambda f$\n",
    "\n",
    "$v = \\dfrac{4L}{n}f$\n",
    "\n",
    "$f_n = n\\dfrac{v}{4L}$"
   ]
  },
  {
   "cell_type": "markdown",
   "id": "designing-satellite",
   "metadata": {},
   "source": [
    "### O canal auditivo do ouvido externo\n",
    "\n",
    "<img src=\"https://upload.wikimedia.org/wikipedia/commons/6/6a/Anatomy_of_the_Human_Ear_pt.svg\" alt=\"Aula11.2\" width=\"400\" height=\"300\"/>\n",
    "\n",
    "\n",
    "Com base nos dois primeiros harmônicos, dados $L = 2,3cm$ e $V_{som} = 315 m/s$\n",
    "\n",
    "$v = \\lambda f$\n",
    "\n",
    "1° Harmônico\n",
    "- $\\lambda = 4L = 9,2 cm$\n",
    "- $f_1 = 3728 Hz$\n",
    "\n",
    "2° Harmônico\n",
    "- $\\lambda = 4L/3 = 3,1 cm$\n",
    "- $f_1 = 11185 Hz$\n",
    "\n",
    "Devido a ressonância no canal auditivo, temos maior sensibilidade a ouvir as frequências dos primeiros 3 harmônicos (todas estão na faixa audível)\n",
    "\n",
    "<img src=\"https://www.mspc.eng.br/dir70/im01/somdb010.png\" alt=\"Aula11.3\" width=\"400\" height=\"300\"/>"
   ]
  },
  {
   "cell_type": "markdown",
   "id": "frequent-fourth",
   "metadata": {},
   "source": [
    "[Ex 30 e 45](../assets/aula11/ex1.jpeg)\n",
    "\n",
    "[Ex 49](../assets/aula11/ex2.jpeg)"
   ]
  }
 ],
 "metadata": {
  "kernelspec": {
   "display_name": "Python 3",
   "language": "python",
   "name": "python3"
  },
  "language_info": {
   "codemirror_mode": {
    "name": "ipython",
    "version": 3
   },
   "file_extension": ".py",
   "mimetype": "text/x-python",
   "name": "python",
   "nbconvert_exporter": "python",
   "pygments_lexer": "ipython3",
   "version": "3.9.1"
  }
 },
 "nbformat": 4,
 "nbformat_minor": 5
}
