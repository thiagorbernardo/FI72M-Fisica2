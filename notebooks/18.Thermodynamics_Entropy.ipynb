{
 "cells": [
  {
   "cell_type": "markdown",
   "id": "thirty-charge",
   "metadata": {},
   "source": [
    "# Aula 18: Termodinâmica - Teoria Cinética dos Gases: Entropia e a 2° lei"
   ]
  },
  {
   "cell_type": "markdown",
   "id": "complete-mystery",
   "metadata": {},
   "source": [
    "## Máquinas térmicas\n",
    "\n",
    "É um dispositivo que utiliza energia na forma de calor para realizar um trabalho mecânico\n",
    "\n",
    "\n",
    "Substância de trabalho\n",
    "- Água (liquida) + Vapor d'água: Máquina à vapor\n",
    "- Combustível + ar: Motor de combústivel\n",
    "\n",
    "<img src=\"https://i.pinimg.com/originals/7f/df/f6/7fdff61ea58d8ffc9a68ca04f13da62b.gif\" alt=\"Aula18.1\" width=\"400\" height=\"400\">\n",
    "<a href=\"https://i.pinimg.com/originals/7f/df/f6/7fdff61ea58d8ffc9a68ca04f13da62b.gif\">Link</a>\n",
    "\n",
    "$\\epsilon = energia \\dfrac{utilizada}{consumida} = \\dfrac{W}{Q_{q}}$"
   ]
  },
  {
   "cell_type": "markdown",
   "id": "pointed-realtor",
   "metadata": {},
   "source": [
    "### 1824 - Nicolas Sadi Carnot - Procura pelo maior rendimento\n",
    "\n",
    "Em uma máquina térmica ideal, todos os processos são reversíveis e as transferências de energia são realizadas sem as perdas causadas por efeitos como o atrito e a turbulência\n",
    "\n",
    "Máquina térmica **perfeita**\n",
    "\n",
    "$\\epsilon = 100%$\n",
    "\n",
    "Máquina térmica **ideal**\n",
    "\n",
    "    Processo reversível sem atrito/turbulência\n",
    "\n",
    "Máquina térmica **real**\n",
    "\n",
    "    Dia-a-dia"
   ]
  },
  {
   "cell_type": "markdown",
   "id": "tracked-location",
   "metadata": {},
   "source": [
    "Dadas uma fonte quente e uma fonte fria qual é o maior rendimento possível para uma máquina térmica?"
   ]
  },
  {
   "cell_type": "markdown",
   "id": "billion-elephant",
   "metadata": {},
   "source": [
    "**Cálculos**\n",
    "\n",
    "Qual é o trabalho no processo? Qual é a eficiência do ciclo?\n",
    "\n",
    "$W_{total} = W_{ab} + W_{bc} + ...$\n",
    "\n",
    "Onde $W = \\int_{V_a}^{V_f} P \\, dV$\n",
    "* São 2 processos diatérmicos ($t = cte$) e 2 processos adiabáticos ($Q=0$)\n",
    "\n",
    "\n",
    "Processo isotérmico\n",
    "\n",
    "$PV = nRT$\n",
    "\n",
    "$P(V)= \\dfrac{nRT}{V}$\n",
    "\n",
    "$W = nRT ln(V_f/V_A)$\n",
    "\n",
    "Processo adiabático\n",
    "\n",
    "$W = \\dfrac{p_iV_i^\\gamma}{1 - \\gamma} (V_f^{1-\\gamma} - V_i^{1-\\gamma})$\n",
    "\n",
    "\n",
    "**OBS:**\n",
    "\n",
    "$W > 0$ Trabalho realizado pelo sistema\n",
    "\n",
    "$Q > 0$ Recebeu mais calor do que cedeu"
   ]
  },
  {
   "cell_type": "markdown",
   "id": "combined-pakistan",
   "metadata": {},
   "source": [
    "## Eficiência de uma máquina de Carnot\n",
    "\n",
    "$\\epsilon = energia \\dfrac{utilizada}{consumida}$\n",
    "\n",
    "$\\epsilon = \\dfrac{|W|}{|Q_{recebido}|}$ -> Eficiência de qualquer máquina térmica\n",
    "\n",
    "$\\epsilon_c = \\dfrac{|Q_q - Q_f|}{Q_q} = 1 - \\dfrac{Q_f}{Q_q}$\n",
    "\n",
    "$\\epsilon_c = 1 - \\dfrac{T_f}{T_q}$\n",
    "\n",
    "Para ter $\\epsilon -> 100%$:\n",
    "\n",
    "$T_f = 0 K$\n",
    "\n",
    "ou\n",
    "\n",
    "$T_q = \\infty$\n",
    "\n",
    "**Usar temperatura absoluta**\n",
    "\n",
    "$T_c = T + 273,15$°"
   ]
  },
  {
   "cell_type": "markdown",
   "id": "hazardous-tamil",
   "metadata": {},
   "source": [
    "## Ciclo de Carnot\n",
    "\n",
    "\n",
    "#### Enunciado de Carnot da 2° lei da Termodinâmica\n",
    "\n",
    "**Não existe uma série de processos cujo único resultado seja a conversão total de trabalho da energia contida em uma fonte de calor.**\n",
    "\n",
    "Lei de Conservação\n",
    "\n",
    "$\\dfrac{|Q_{reb}|}{T_q} - \\dfrac{|Q_{ced}|}{T_f} = 0$\n",
    "\n",
    "$E_{meci} - E_{mec} = 0$\n",
    "\n",
    "Para um processo reversível:\n",
    "\n",
    "Entropia $\\Delta S = \\int \\dfrac{dQ}{T}$"
   ]
  },
  {
   "cell_type": "markdown",
   "id": "rolled-shadow",
   "metadata": {},
   "source": [
    "## Refrigeradores e máquinas térmicas reais\n",
    "\n",
    "Um refrigerador é uma máquina que inverte o processo natural de transferência de calor... com injeção de energia.\n",
    "\n",
    "Transfere calor de uma fonte fria para uma fonte quente (com trabalho realizado sobre o sistema)\n",
    "\n",
    "\n",
    "Refrigerador **perfeita**\n",
    "\n",
    "    Transferência total de calor da fonte fria para a fonte quente sem realizar trabalho\n",
    "\n",
    "Refrigerador **ideal**\n",
    "\n",
    "    Processo reversível sem atrito/turbulência\n",
    "\n",
    "Refrigerador **real**\n",
    "\n",
    "    Dia-a-dia"
   ]
  },
  {
   "cell_type": "markdown",
   "id": "gothic-rebound",
   "metadata": {},
   "source": [
    "$K = \\dfrac{|Q_{F}|}{|W|}$ -> Coeficiente de desempenho de qualquer refrigerador\n",
    "\n",
    "$K_c = \\dfrac{Q_f}{|Q_q - Q_f|}$\n",
    "\n",
    "$K_c = \\dfrac{T_f}{|T_q - T_f|}$ (Coeficiente de desempenho, refrigerador de Carnot)"
   ]
  },
  {
   "cell_type": "raw",
   "id": "quarterly-jurisdiction",
   "metadata": {},
   "source": [
    "[Ex 52 e 53](../assets/aula17/ex1.jpeg)\n",
    "\n",
    "[Ex 57](../assets/aula17/ex2.jpeg)"
   ]
  }
 ],
 "metadata": {
  "kernelspec": {
   "display_name": "Python 3",
   "language": "python",
   "name": "python3"
  },
  "language_info": {
   "codemirror_mode": {
    "name": "ipython",
    "version": 3
   },
   "file_extension": ".py",
   "mimetype": "text/x-python",
   "name": "python",
   "nbconvert_exporter": "python",
   "pygments_lexer": "ipython3",
   "version": "3.9.1"
  }
 },
 "nbformat": 4,
 "nbformat_minor": 5
}
