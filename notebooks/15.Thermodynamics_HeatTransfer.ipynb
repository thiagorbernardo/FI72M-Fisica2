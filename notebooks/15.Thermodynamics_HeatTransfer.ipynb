{
 "cells": [
  {
   "cell_type": "markdown",
   "id": "paperback-classroom",
   "metadata": {},
   "source": [
    "# Aula 15: Termodinâmica - Mecanismos de transferência de calor"
   ]
  },
  {
   "cell_type": "markdown",
   "id": "dental-shield",
   "metadata": {},
   "source": [
    "- Condução\n",
    "- Convecção\n",
    "- Radiação\n",
    "\n",
    "<img src=\"https://cnx.org/resources/288e9977cde196dca1f7ed805005c72492598490/CNX_UPhysics_18_06_Fireplace.jpg\" alt=\"Aula15.1\" width=\"400\" height=\"400\"/>"
   ]
  },
  {
   "cell_type": "markdown",
   "id": "sharing-windsor",
   "metadata": {},
   "source": [
    "## Condução térmica\n",
    "\n",
    "Ocorre em qualquer meio material quando em diferentes temperaturas\n",
    "\n",
    "<img src=\"http://www.anglianhome.co.uk/goodtobehome/wp-content/uploads/2014/07/Heat-Transfer-Animation.gif\" alt=\"Aula15.2\" width=\"400\" height=\"400\"/>\n",
    "\n",
    "<img src=\"https://thumbs.gfycat.com/ShockedReliableIndigobunting-size_restricted.gif\" alt=\"Aula15.3\" width=\"400\" height=\"400\"/>\n",
    "\n",
    "Bons condutores de calor normalmente são bons condutores de eletricidade\n",
    "\n",
    "$P_{cond} = \\dfrac{dQ}{dt} = \\overset{\\text{Condutividade Termica}}{-K} A \\overset{\\text{Gradiente de temperatura}} {\\dfrac{dt}{dx}}$\n",
    "\n",
    "A solução da equação é complexa, então vamos trabalhar no regime estacionário, quando:\n",
    "$\\dfrac{dQ}{dt} = cte$\n",
    "\n",
    "$P_{cond} = |\\dfrac{dQ}{dt}| = cte$\n",
    "\n",
    "$P_{cond} = K A  \\dfrac{\\Delta T}{l}$\n",
    "\n",
    "$P_{cond} = K A  \\dfrac{T_q - T_f}{l}$\n",
    "\n",
    "$K = \\dfrac{P}{A}\\dfrac{l}{\\Delta T} \\quad (W/m C)$"
   ]
  },
  {
   "cell_type": "markdown",
   "id": "fantastic-passport",
   "metadata": {},
   "source": [
    "## Convecção Térmica\n",
    "\n",
    "Transferência de calor em fluidos e fases.\n",
    "Ar frio mais denso desce\n",
    "Ar quente menos denso sobe\n",
    "\n",
    "<img src=\"https://upload.wikimedia.org/wikipedia/commons/0/08/Convection.gif\" alt=\"Aula15.4\" width=\"400\" height=\"400\"/>\n",
    "\n",
    "## Radiação Térmica\n",
    "\n",
    "Não há necessidade de meio material para propagar\n",
    "\n",
    "<img src=\"https://upload.wikimedia.org/wikipedia/commons/thumb/3/36/Espectro_EM_pt.svg/700px-Espectro_EM_pt.svg.png\" alt=\"Aula15.5\" width=\"400\" height=\"400\"/>\n",
    "\n",
    "<img src=\"https://static.todamateria.com.br/upload/ir/16/ir_1.jpg\" alt=\"Aula15.6\" width=\"400\" height=\"400\"/>\n",
    "\n",
    "$P_{radiation} = \\dfrac{\\Delta E}{\\Delta t} = \\dfrac{dE}{dt} = \\sigma \\epsilon A T^4$\n",
    "\n",
    "$P_{radiation} = \\sigma \\epsilon A T^4$\n",
    "\n",
    "$\\sigma$ Constate de Stefan-Boltzmann\n",
    "\n",
    "$\\epsilon$ Emissividade da superficie do objeto\n",
    "\n",
    "$P_{liquida} = P_{absorvida} - P_{emitida}$\n",
    "\n",
    "$P_{liquida} > 0 $ Absorve mais que emite\n",
    "\n",
    "$P_{liquida} < 0 $ Emite mais que absorve\n",
    "\n",
    "### Espectro da Radiação\n",
    "\n",
    "<img src=\"https://upload.wikimedia.org/wikipedia/commons/thumb/0/0a/EM_spectrum_pt_2.svg/1200px-EM_spectrum_pt_2.svg.png\" alt=\"Aula15.7\" width=\"500\" height=\"600\"/>\n",
    "\n",
    "<img src=\"http://recursosolar.geodesign.com.br/Graphics/Espectro_Solar1_RS.jpg\" alt=\"Aula15.8\" width=\"400\" height=\"600\"/>"
   ]
  },
  {
   "cell_type": "markdown",
   "id": "private-madrid",
   "metadata": {},
   "source": [
    "[Ex 54 e 9](../assets/aula15/ex1.jpeg)\n",
    "\n",
    "[Ex 16](../assets/aula15/ex2.jpeg)\n",
    "\n",
    "**São os mesmos da aula 15, pois foram no mesmo dia**"
   ]
  }
 ],
 "metadata": {
  "kernelspec": {
   "display_name": "Python 3",
   "language": "python",
   "name": "python3"
  },
  "language_info": {
   "codemirror_mode": {
    "name": "ipython",
    "version": 3
   },
   "file_extension": ".py",
   "mimetype": "text/x-python",
   "name": "python",
   "nbconvert_exporter": "python",
   "pygments_lexer": "ipython3",
   "version": "3.9.1"
  }
 },
 "nbformat": 4,
 "nbformat_minor": 5
}
