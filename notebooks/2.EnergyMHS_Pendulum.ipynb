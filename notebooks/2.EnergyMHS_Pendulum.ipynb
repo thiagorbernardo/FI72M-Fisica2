{
 "cells": [
  {
   "cell_type": "markdown",
   "id": "human-jackson",
   "metadata": {},
   "source": [
    "# Aula 2: Energia no MHS e Pêndulo Simples"
   ]
  },
  {
   "cell_type": "code",
   "execution_count": 1,
   "id": "plastic-plate",
   "metadata": {},
   "outputs": [],
   "source": [
    "import sympy as sp\n",
    "from sympy import *\n",
    "from sympy.geometry import *\n",
    "%matplotlib inline\n",
    "sp.init_printing()"
   ]
  },
  {
   "cell_type": "markdown",
   "id": "empty-collar",
   "metadata": {},
   "source": [
    "<h4>Como nas Equações envolvidas na Energia Mecânica não temos o tempo, faremos uma relação com o MHS para Emec(t):</h4>"
   ]
  },
  {
   "cell_type": "code",
   "execution_count": 2,
   "id": "fitted-practice",
   "metadata": {},
   "outputs": [],
   "source": [
    "m, v, k, x, A, omega, t, phi, xt, vt, Emec, Ect, Uelt, theta= sp.symbols('m v k x A omega t phi x(t) v(t) Emec Ec(t) Uel(t) theta')"
   ]
  },
  {
   "cell_type": "code",
   "execution_count": 3,
   "id": "impressed-advancement",
   "metadata": {},
   "outputs": [
    {
     "data": {
      "image/png": "[encoded data removed]",
      "text/latex": [
       "$\\displaystyle Emec = \\frac{k x^{2}}{2} + \\frac{m v^{2}}{2}$"
      ],
      "text/plain": [
       "          2      2\n",
       "       k⋅x    m⋅v \n",
       "Emec = ──── + ────\n",
       "        2      2  "
      ]
     },
     "execution_count": 3,
     "metadata": {},
     "output_type": "execute_result"
    }
   ],
   "source": [
    "Ec = (m*v**2)/2\n",
    "Uel = (k*x**2)/2\n",
    "mec_energy = Eq(Emec, Ec + Uel)\n",
    "mec_energy"
   ]
  },
  {
   "cell_type": "markdown",
   "id": "conditional-shakespeare",
   "metadata": {},
   "source": [
    "<p>No MHS temos:</p>"
   ]
  },
  {
   "cell_type": "code",
   "execution_count": 4,
   "id": "dutch-prince",
   "metadata": {},
   "outputs": [
    {
     "data": {
      "image/png": "[encoded data removed]",
      "text/latex": [
       "$\\displaystyle x(t) = A \\cos{\\left(\\omega t + \\phi \\right)}$"
      ],
      "text/plain": [
       "x(t) = A⋅cos(ω⋅t + φ)"
      ]
     },
     "execution_count": 4,
     "metadata": {},
     "output_type": "execute_result"
    }
   ],
   "source": [
    "mhs_x = A*cos(omega*t + phi)\n",
    "Eq(xt, mhs_x)"
   ]
  },
  {
   "cell_type": "code",
   "execution_count": 5,
   "id": "prostate-merchandise",
   "metadata": {},
   "outputs": [
    {
     "data": {
      "image/png": "[encoded data removed]",
      "text/latex": [
       "$\\displaystyle v(t) = - A \\omega \\sin{\\left(\\omega t + \\phi \\right)}$"
      ],
      "text/plain": [
       "v(t) = -A⋅ω⋅sin(ω⋅t + φ)"
      ]
     },
     "execution_count": 5,
     "metadata": {},
     "output_type": "execute_result"
    }
   ],
   "source": [
    "mhs_v = -A*omega*sin(omega*t + phi)\n",
    "Eq(vt, mhs_v)"
   ]
  },
  {
   "cell_type": "code",
   "execution_count": 6,
   "id": "hairy-gabriel",
   "metadata": {},
   "outputs": [
    {
     "data": {
      "image/png": "[encoded data removed]",
      "text/latex": [
       "$\\displaystyle Emec = \\frac{A^{2} k \\cos^{2}{\\left(\\omega t + \\phi \\right)}}{2} + \\frac{A^{2} m \\omega^{2} \\sin^{2}{\\left(\\omega t + \\phi \\right)}}{2}$"
      ],
      "text/plain": [
       "        2      2             2    2    2         \n",
       "       A ⋅k⋅cos (ω⋅t + φ)   A ⋅m⋅ω ⋅sin (ω⋅t + φ)\n",
       "Emec = ────────────────── + ─────────────────────\n",
       "               2                      2          "
      ]
     },
     "execution_count": 6,
     "metadata": {},
     "output_type": "execute_result"
    }
   ],
   "source": [
    "mec_en2 = mec_energy.subs(x, mhs_x).subs(v, mhs_v)\n",
    "mec_en2"
   ]
  },
  {
   "cell_type": "markdown",
   "id": "anonymous-theology",
   "metadata": {},
   "source": [
    "<p>Como temos w²=k/m, podemos simplificar para:</p>"
   ]
  },
  {
   "cell_type": "code",
   "execution_count": 7,
   "id": "electric-conspiracy",
   "metadata": {},
   "outputs": [
    {
     "data": {
      "image/png": "[encoded data removed]",
      "text/latex": [
       "$\\displaystyle Emec = \\frac{A^{2} k}{2}$"
      ],
      "text/plain": [
       "        2  \n",
       "       A ⋅k\n",
       "Emec = ────\n",
       "        2  "
      ]
     },
     "execution_count": 7,
     "metadata": {},
     "output_type": "execute_result"
    }
   ],
   "source": [
    "simplify(mec_en2.subs(omega, sqrt(k/m)))"
   ]
  },
  {
   "cell_type": "markdown",
   "id": "disabled-maintenance",
   "metadata": {},
   "source": [
    "<p>Logo, a Emec não é dependente do tempo...</p>"
   ]
  },
  {
   "cell_type": "markdown",
   "id": "otherwise-trinity",
   "metadata": {},
   "source": [
    "<p>Energia Cinética e Potencial Elástica:</p>"
   ]
  },
  {
   "cell_type": "code",
   "execution_count": 8,
   "id": "opposed-joseph",
   "metadata": {},
   "outputs": [
    {
     "data": {
      "image/png": "[encoded data removed]",
      "text/latex": [
       "$\\displaystyle Ec(t) = \\frac{A^{2} k \\sin^{2}{\\left(\\omega t + \\phi \\right)}}{2}$"
      ],
      "text/plain": [
       "         2      2         \n",
       "        A ⋅k⋅sin (ω⋅t + φ)\n",
       "Ec(t) = ──────────────────\n",
       "                2         "
      ]
     },
     "execution_count": 8,
     "metadata": {},
     "output_type": "execute_result"
    }
   ],
   "source": [
    "expr1 = (k*A**2)*(sin(omega*t+phi)**2)/2\n",
    "\n",
    "Eq(Ect, expr1)"
   ]
  },
  {
   "cell_type": "code",
   "execution_count": 9,
   "id": "smaller-daily",
   "metadata": {},
   "outputs": [
    {
     "data": {
      "image/png": "[encoded data removed]",
      "text/latex": [
       "$\\displaystyle Uel(t) = \\frac{A^{2} k \\cos^{2}{\\left(\\omega t + \\phi \\right)}}{2}$"
      ],
      "text/plain": [
       "          2      2         \n",
       "         A ⋅k⋅cos (ω⋅t + φ)\n",
       "Uel(t) = ──────────────────\n",
       "                 2         "
      ]
     },
     "execution_count": 9,
     "metadata": {},
     "output_type": "execute_result"
    }
   ],
   "source": [
    "expr2 = (k*A**2)*(cos(omega*t+phi)**2)/2\n",
    "Eq(Uelt, expr2)"
   ]
  },
  {
   "cell_type": "code",
   "execution_count": 10,
   "id": "homeless-lesbian",
   "metadata": {},
   "outputs": [
    {
     "data": {
      "image/png": "[encoded data removed]",
      "text/plain": [
       "<Figure size 432x288 with 1 Axes>"
      ]
     },
     "metadata": {
      "needs_background": "light"
     },
     "output_type": "display_data"
    }
   ],
   "source": [
    "p1 = sp.plot(expr1.subs(phi, 0).subs(k, 2).subs(A, 2).subs(omega, 2), expr2.subs(phi, 0).subs(k, 2).subs(A, 2).subs(omega, 2), 2**2, xlim=[0,5], ylim=[-2,5], legend=True, show=False)\n",
    "p1[0].line_color = 'purple'\n",
    "p1[1].line_color = 'green'\n",
    "p1.show()"
   ]
  },
  {
   "cell_type": "markdown",
   "id": "worldwide-december",
   "metadata": {},
   "source": [
    "<p>Assumindo phi = 0:</p>"
   ]
  },
  {
   "cell_type": "markdown",
   "id": "burning-guide",
   "metadata": {},
   "source": [
    "<h3>Relembrando...</h3>"
   ]
  },
  {
   "cell_type": "code",
   "execution_count": 11,
   "id": "comic-structure",
   "metadata": {},
   "outputs": [
    {
     "data": {
      "image/png": "[encoded data removed]",
      "text/plain": [
       "<Figure size 432x288 with 1 Axes>"
      ]
     },
     "metadata": {
      "needs_background": "light"
     },
     "output_type": "display_data"
    },
    {
     "data": {
      "text/plain": [
       "<sympy.plotting.plot.Plot at 0x1b53d484d60>"
      ]
     },
     "execution_count": 11,
     "metadata": {},
     "output_type": "execute_result"
    }
   ],
   "source": [
    "## using Circle() \n",
    "c1 = Circle((0, 0), 2) \n",
    "  \n",
    "plot_implicit(c1.equation())"
   ]
  },
  {
   "cell_type": "markdown",
   "id": "compact-microwave",
   "metadata": {},
   "source": [
    "<p>Perímetro do círculo</p>$P=2 \\pi r$"
   ]
  },
  {
   "cell_type": "markdown",
   "id": "treated-pointer",
   "metadata": {},
   "source": [
    "<p>Arco em Unidades de Comprimento</p>$s= \\theta r$"
   ]
  },
  {
   "cell_type": "markdown",
   "id": "primary-deficit",
   "metadata": {},
   "source": [
    "<p>Velocidade Escalar</p>$v= \\omega r$"
   ]
  },
  {
   "cell_type": "markdown",
   "id": "incident-trading",
   "metadata": {},
   "source": [
    "<p>Velocidade Angular ($\\omega_{med}$)</p>$\\omega_{med} = \\dfrac{\\Delta \\omega}{\\Delta t}$\n",
    "<br></br>\n",
    "<p>Velocidade Angular ($\\omega$)</p>$\\omega_{med} = \\dfrac{d\\omega}{dt}$"
   ]
  },
  {
   "cell_type": "markdown",
   "id": "administrative-appointment",
   "metadata": {},
   "source": [
    "<p>Aceleração Angular ($\\alpha$)</p>$\\alpha = \\dfrac{d^2\\omega}{d t^2}$"
   ]
  },
  {
   "cell_type": "markdown",
   "id": "broke-gazette",
   "metadata": {},
   "source": [
    "<h2>Pêndulo Simples</h2>"
   ]
  },
  {
   "cell_type": "markdown",
   "id": "hazardous-residence",
   "metadata": {},
   "source": [
    "<img src=\"../assets/pendulum/pendulum.gif\" alt=\"Pergunta 2\" width=\"600\"/>"
   ]
  },
  {
   "cell_type": "markdown",
   "id": "tutorial-milton",
   "metadata": {},
   "source": [
    "<h4>Análise por Coordenadas Polares</h4>"
   ]
  },
  {
   "cell_type": "markdown",
   "id": "chicken-effort",
   "metadata": {},
   "source": [
    "<p>O Sistema de equações fica:</p>\n",
    "(1) $T- mg \\cos \\theta= mar$\n",
    "<br></br>\n",
    "(2) $mg \\sin \\theta= mat$"
   ]
  },
  {
   "cell_type": "markdown",
   "id": "funny-calculation",
   "metadata": {},
   "source": [
    "<p> Trabalhando na Eq 2:</p>\n",
    "$mat = mg \\sin \\theta$\n",
    "<p> at (Aceleração Tangencial)<p> \n",
    "$a_t= \\alpha r$\n",
    "\n",
    "$a= \\dfrac{d^2\\theta}{dt^2} r$\n",
    "\n",
    "$mat = mg \\sin \\theta$\n",
    "    \n",
    "$\\dfrac{d^2\\theta}{dt^2} r = g \\sin \\theta$"
   ]
  },
  {
   "cell_type": "markdown",
   "id": "brazilian-opening",
   "metadata": {},
   "source": [
    "<p>Equação do movimento</p> $\\dfrac{d^2\\theta}{dt^2} + \\dfrac{g}{r}\\sin \\theta=0$\n",
    "<br> r = L (comprimento do fio) </br>\n",
    "$\\dfrac{d^2\\theta}{dt^2} + \\dfrac{g}{L}\\sin \\theta=0$"
   ]
  },
  {
   "cell_type": "markdown",
   "id": "surface-bracelet",
   "metadata": {},
   "source": [
    "<p>Com o seno, o problema se torna complicado, então trataremos apenas para pequenas oscilações... Quando $\\sin \\theta \\approx \\theta$</p>\n",
    "<p>Podemos ver no gráfico abaixo:</p>"
   ]
  },
  {
   "cell_type": "code",
   "execution_count": 12,
   "id": "according-particle",
   "metadata": {},
   "outputs": [
    {
     "data": {
      "image/png": "[encoded data removed]",
      "text/plain": [
       "<Figure size 432x288 with 1 Axes>"
      ]
     },
     "metadata": {
      "needs_background": "light"
     },
     "output_type": "display_data"
    },
    {
     "data": {
      "text/plain": [
       "<sympy.plotting.plot.Plot at 0x1b53e4ec880>"
      ]
     },
     "execution_count": 12,
     "metadata": {},
     "output_type": "execute_result"
    }
   ],
   "source": [
    "plot(theta, sin(theta), xlim=[-1,4], ylim=[-1,4])"
   ]
  },
  {
   "cell_type": "markdown",
   "id": "connected-beast",
   "metadata": {},
   "source": [
    "Portanto temos a EDO: $\\dfrac{d^2\\theta}{dt^2} + \\dfrac{g}{L} \\theta=0$"
   ]
  },
  {
   "cell_type": "markdown",
   "id": "informative-personality",
   "metadata": {},
   "source": [
    "<h4>Análise por Torque</h4>"
   ]
  },
  {
   "cell_type": "markdown",
   "id": "historical-charlotte",
   "metadata": {},
   "source": [
    "Força que move o pêndulo é a tangencial: $F_t = mg \\sin \\theta$"
   ]
  },
  {
   "cell_type": "markdown",
   "id": "brazilian-sheet",
   "metadata": {},
   "source": [
    "Utilizando o Torque obtemos: $|\\tau| = r\\,mg\\sin\\theta$"
   ]
  },
  {
   "cell_type": "markdown",
   "id": "imperial-headset",
   "metadata": {},
   "source": [
    "Pela 2° Lei de Newton para Rotações $\\tau_{resultante} = \\vec I \\vec \\alpha$\n",
    "<p>Logo...\n",
    "<br>$mg\\,r\\sin\\theta = I\\alpha$"
   ]
  },
  {
   "cell_type": "markdown",
   "id": "loving-facial",
   "metadata": {},
   "source": [
    "Obtemos a equação: $\\dfrac{d^2\\theta}{dt^2} = \\dfrac{-mg\\,r\\sin\\theta}{I}$\n",
    "<p> Será utilizada no Pêndulo Físico"
   ]
  },
  {
   "cell_type": "markdown",
   "id": "atomic-quarterly",
   "metadata": {},
   "source": [
    "Para o pêndulo simples podemos simplificar e obteremos: $\\dfrac{d^2\\theta}{dt^2} = -\\dfrac{g}{L} \\theta$"
   ]
  },
  {
   "cell_type": "markdown",
   "id": "collaborative-extreme",
   "metadata": {},
   "source": [
    "<h2> Exercícios"
   ]
  },
  {
   "cell_type": "markdown",
   "id": "sorted-period",
   "metadata": {},
   "source": [
    "[Ex 27](../assets/aula2/ex1.jpeg)\n",
    "\n",
    "[Ex 29](../assets/aula2/ex2.jpeg)\n",
    "\n",
    "[Ex 32](../assets/aula3/ex3.jpeg)"
   ]
  }
 ],
 "metadata": {
  "kernelspec": {
   "display_name": "Python 3",
   "language": "python",
   "name": "python3"
  },
  "language_info": {
   "codemirror_mode": {
    "name": "ipython",
    "version": 3
   },
   "file_extension": ".py",
   "mimetype": "text/x-python",
   "name": "python",
   "nbconvert_exporter": "python",
   "pygments_lexer": "ipython3",
   "version": "3.9.1"
  }
 },
 "nbformat": 4,
 "nbformat_minor": 5
}
