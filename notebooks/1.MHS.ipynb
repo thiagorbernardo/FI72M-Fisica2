{
 "cells": [
  {
   "cell_type": "markdown",
   "id": "accessible-peninsula",
   "metadata": {},
   "source": [
    "# Oscilações"
   ]
  },
  {
   "cell_type": "markdown",
   "id": "seasonal-philadelphia",
   "metadata": {},
   "source": [
    "### Aplicações\n",
    "\n",
    "- Frequências naturais de oscilação nas obras de engenharia civil;\n",
    "- Instrumentos: Violão, Violino, etc.\n",
    "- Alguns objetos: Relógio, Bungee Jump, Celulares\n",
    "- Fenômenos naturais: Terremotos\n",
    "- Biologia e Humano:\n",
    "  - Coração Humano\n",
    "  - Oscilação da liberação de insulina\n",
    "- Elétrica:\n",
    "  - Oscilador de Armstrong;\n",
    "  - Circuito RLC;\n",
    "- Asterosismologia:\n",
    "  - Oscilação de uma Estrela de Nêutron"
   ]
  },
  {
   "cell_type": "markdown",
   "id": "political-sunset",
   "metadata": {},
   "source": [
    "### Aplicações Oscilações com Amortecimento\n",
    "\n",
    "- Subcrítico:\n",
    "  - Portas de prédios públicos e hospitais\n",
    "  - Circuito RLC\n",
    "- Crítico:\n",
    "  - Balança e instrumentos de precisão\n",
    "  - Amortecedores de Veículos\n",
    "  - Circuito RLC;\n",
    "- Supercrítico:\n",
    "  - Circuito RLC;\n",
    "  - ...\n"
   ]
  },
  {
   "cell_type": "markdown",
   "id": "amateur-fifty",
   "metadata": {},
   "source": [
    "## Movimento Harmônico Simples - Parte 1 - Revisão"
   ]
  },
  {
   "cell_type": "code",
   "execution_count": 1,
   "id": "martial-hypothetical",
   "metadata": {},
   "outputs": [],
   "source": [
    "import sympy as sp\n",
    "%matplotlib inline\n",
    "sp.init_printing()"
   ]
  },
  {
   "cell_type": "markdown",
   "id": "divine-straight",
   "metadata": {},
   "source": [
    "### Lei de Hooke"
   ]
  },
  {
   "cell_type": "code",
   "execution_count": 2,
   "id": "rising-territory",
   "metadata": {},
   "outputs": [],
   "source": [
    "x, k, Fel= sp.symbols('x k Fel')"
   ]
  },
  {
   "cell_type": "code",
   "execution_count": 3,
   "id": "traditional-outdoors",
   "metadata": {},
   "outputs": [
    {
     "data": {
      "image/png": "[encoded data removed]",
      "text/latex": [
       "$\\displaystyle Fel = - k x$"
      ],
      "text/plain": [
       "Fel = -k⋅x"
      ]
     },
     "execution_count": 3,
     "metadata": {},
     "output_type": "execute_result"
    }
   ],
   "source": [
    "el_force = sp.Eq(Fel, -k * x)\n",
    "\n",
    "el_force"
   ]
  },
  {
   "cell_type": "code",
   "execution_count": 4,
   "id": "greatest-reunion",
   "metadata": {},
   "outputs": [
    {
     "data": {
      "image/png": "[encoded data removed]",
      "text/plain": [
       "<Figure size 432x288 with 1 Axes>"
      ]
     },
     "metadata": {
      "needs_background": "light"
     },
     "output_type": "display_data"
    },
    {
     "data": {
      "text/plain": [
       "<sympy.plotting.plot.Plot at 0x20bc7c0fa00>"
      ]
     },
     "execution_count": 4,
     "metadata": {},
     "output_type": "execute_result"
    }
   ],
   "source": [
    "# Dando um valor simbólico para K de 2 N/m e Plotando o gráfico da Força Elástica\n",
    "\n",
    "p1 = sp.plot_implicit(el_force.subs(k,2))\n",
    "\n",
    "p1"
   ]
  },
  {
   "cell_type": "markdown",
   "id": "logical-albany",
   "metadata": {},
   "source": [
    "##### Podemos verificar que a força depende da posição x..."
   ]
  },
  {
   "cell_type": "markdown",
   "id": "victorian-spare",
   "metadata": {},
   "source": [
    "### Energia Potencial Elástica"
   ]
  },
  {
   "cell_type": "code",
   "execution_count": 5,
   "id": "alpine-folder",
   "metadata": {},
   "outputs": [],
   "source": [
    "x, k, Uel, Ec, Emec= sp.symbols('x k Uel Ec Emec')"
   ]
  },
  {
   "cell_type": "code",
   "execution_count": 6,
   "id": "coordinate-recipient",
   "metadata": {},
   "outputs": [
    {
     "data": {
      "image/png": "[encoded data removed]",
      "text/latex": [
       "$\\displaystyle Uel = \\frac{k x^{2}}{2}$"
      ],
      "text/plain": [
       "         2\n",
       "      k⋅x \n",
       "Uel = ────\n",
       "       2  "
      ]
     },
     "execution_count": 6,
     "metadata": {},
     "output_type": "execute_result"
    }
   ],
   "source": [
    "el_pot = sp.Eq(Uel, (k*x**2)/2)\n",
    "el_pot"
   ]
  },
  {
   "cell_type": "markdown",
   "id": "unlike-fence",
   "metadata": {},
   "source": [
    "##### Assim como a Fel, a Uel depende da posição x..."
   ]
  },
  {
   "cell_type": "code",
   "execution_count": 7,
   "id": "least-culture",
   "metadata": {},
   "outputs": [
    {
     "data": {
      "image/png": "[encoded data removed]",
      "text/plain": [
       "<Figure size 432x288 with 1 Axes>"
      ]
     },
     "metadata": {
      "needs_background": "light"
     },
     "output_type": "display_data"
    }
   ],
   "source": [
    "# Novamente irei assumir um valor 2 N/m para K e Plotando o gráfico da Força Elástica\n",
    "el_pot = el_pot.subs(k,2)\n",
    "p2 = sp.plot_implicit(el_pot)"
   ]
  },
  {
   "cell_type": "code",
   "execution_count": 8,
   "id": "exceptional-marriage",
   "metadata": {},
   "outputs": [
    {
     "data": {
      "image/png": "[encoded data removed]",
      "text/latex": [
       "$\\displaystyle Ec = Emec - \\frac{k x^{2}}{2}$"
      ],
      "text/plain": [
       "               2\n",
       "            k⋅x \n",
       "Ec = Emec - ────\n",
       "             2  "
      ]
     },
     "execution_count": 8,
     "metadata": {},
     "output_type": "execute_result"
    }
   ],
   "source": [
    "kin_energy = sp.Eq(Ec, Emec - (k*x**2)/2)\n",
    "kin_energy"
   ]
  },
  {
   "cell_type": "markdown",
   "id": "promising-crowd",
   "metadata": {},
   "source": [
    "##### Também veremos que a Ec dependerá da posição x"
   ]
  },
  {
   "cell_type": "code",
   "execution_count": 9,
   "id": "verbal-prison",
   "metadata": {},
   "outputs": [
    {
     "data": {
      "image/png": "[encoded data removed]",
      "text/plain": [
       "<Figure size 432x288 with 1 Axes>"
      ]
     },
     "metadata": {
      "needs_background": "light"
     },
     "output_type": "display_data"
    }
   ],
   "source": [
    "# Irei assumir uma Emec = 4 e k = 2 N/m, para fins de gráfico\n",
    "kin_energy = kin_energy.subs(Emec,4).subs(k, 2)\n",
    "p3 = sp.plot_implicit(kin_energy)"
   ]
  },
  {
   "cell_type": "markdown",
   "id": "serious-intersection",
   "metadata": {},
   "source": [
    "##### Combinando a Uel e a Ec no mesmo gráfico..."
   ]
  },
  {
   "cell_type": "code",
   "execution_count": 10,
   "id": "statistical-utility",
   "metadata": {},
   "outputs": [
    {
     "data": {
      "image/png": "[encoded data removed]",
      "text/plain": [
       "<Figure size 432x288 with 1 Axes>"
      ]
     },
     "metadata": {
      "needs_background": "light"
     },
     "output_type": "display_data"
    }
   ],
   "source": [
    "kin = Emec - (k*x**2)/2\n",
    "pot = (k*x**2)/2\n",
    "mec = 4\n",
    "\n",
    "p4 = sp.plot(kin.subs(Emec,4).subs(k, 2), pot.subs(k, 2), mec, xlim=[-4,4], ylim=[-4,5], legend=True)\n"
   ]
  },
  {
   "cell_type": "markdown",
   "id": "metric-expert",
   "metadata": {},
   "source": [
    "### Pesquisa 1"
   ]
  },
  {
   "cell_type": "markdown",
   "id": "trying-pulse",
   "metadata": {},
   "source": [
    "- a) Essa força determina a deformação de um corpo quando ele se estica ou se comprime. Isso dependerá da direção da força aplicada. É determinada pela natureza do material utilizado, e ainda, por suas dimensões;\n",
    "\n",
    "- b) k possui unidade: Newton por Metro (N/m);\n",
    "\n",
    "- c) 1600 N/m;\n",
    "\n",
    "- d) 40 KN/m;"
   ]
  },
  {
   "cell_type": "code",
   "execution_count": 11,
   "id": "minute-promotion",
   "metadata": {},
   "outputs": [],
   "source": [
    "# Elevador de 5160 Newton e deslocamento de 2 metros"
   ]
  },
  {
   "cell_type": "code",
   "execution_count": 12,
   "id": "molecular-photograph",
   "metadata": {},
   "outputs": [
    {
     "data": {
      "image/png": "[encoded data removed]",
      "text/latex": [
       "$\\displaystyle k = \\frac{F}{x}$"
      ],
      "text/plain": [
       "    F\n",
       "k = ─\n",
       "    x"
      ]
     },
     "execution_count": 12,
     "metadata": {},
     "output_type": "execute_result"
    }
   ],
   "source": [
    "x, k, F= sp.symbols('x k F')\n",
    "\n",
    "k_cte = sp.Eq(k, F/x)\n",
    "k_cte"
   ]
  },
  {
   "cell_type": "code",
   "execution_count": 13,
   "id": "plastic-reading",
   "metadata": {},
   "outputs": [
    {
     "name": "stdout",
     "output_type": "stream",
     "text": [
      "2580 N/m\n"
     ]
    }
   ],
   "source": [
    "print(sp.solve(k_cte.subs(x, 2).subs(F, 5160), k)[0], 'N/m')"
   ]
  },
  {
   "cell_type": "markdown",
   "id": "prescription-execution",
   "metadata": {},
   "source": [
    "#### e) 2580 N/m;"
   ]
  },
  {
   "cell_type": "markdown",
   "id": "marked-nepal",
   "metadata": {},
   "source": [
    "## Movimento Harmônico Simples - Parte 2"
   ]
  },
  {
   "cell_type": "code",
   "execution_count": 14,
   "id": "administrative-programming",
   "metadata": {},
   "outputs": [],
   "source": [
    "x, k, F, Fel, m, a, t, d, omega= sp.symbols('x k F Fel m a t d omega')"
   ]
  },
  {
   "cell_type": "code",
   "execution_count": 15,
   "id": "cognitive-criminal",
   "metadata": {},
   "outputs": [
    {
     "data": {
      "image/png": "[encoded data removed]",
      "text/latex": [
       "$\\displaystyle F = a m$"
      ],
      "text/plain": [
       "F = a⋅m"
      ]
     },
     "execution_count": 15,
     "metadata": {},
     "output_type": "execute_result"
    }
   ],
   "source": [
    "# Pela 2° Lei de Newton\n",
    "sp.Eq(F, m * a)"
   ]
  },
  {
   "cell_type": "code",
   "execution_count": 16,
   "id": "widespread-hebrew",
   "metadata": {},
   "outputs": [
    {
     "data": {
      "image/png": "[encoded data removed]",
      "text/latex": [
       "$\\displaystyle - k x = a m$"
      ],
      "text/plain": [
       "-k⋅x = a⋅m"
      ]
     },
     "execution_count": 16,
     "metadata": {},
     "output_type": "execute_result"
    }
   ],
   "source": [
    "# Igualando as forças do sistema e substituindo por derivadas para chegar em x\n",
    "el_exp = -k*x \n",
    "\n",
    "sp.Eq(el_exp, m*a)"
   ]
  },
  {
   "cell_type": "code",
   "execution_count": 17,
   "id": "supreme-maple",
   "metadata": {},
   "outputs": [
    {
     "data": {
      "image/png": "[encoded data removed]",
      "text/latex": [
       "$\\displaystyle - k x = m \\frac{d^{2}}{d t^{2}} x$"
      ],
      "text/plain": [
       "           2   \n",
       "          d    \n",
       "-k⋅x = m⋅───(x)\n",
       "           2   \n",
       "         dt    "
      ]
     },
     "execution_count": 17,
     "metadata": {},
     "output_type": "execute_result"
    }
   ],
   "source": [
    "diff_exp = m*sp.Derivative(sp.Derivative(x, t), t)\n",
    "\n",
    "sp.Eq(el_exp, diff_exp)"
   ]
  },
  {
   "cell_type": "code",
   "execution_count": 18,
   "id": "flexible-footwear",
   "metadata": {},
   "outputs": [
    {
     "data": {
      "image/png": "[encoded data removed]",
      "text/latex": [
       "$\\displaystyle k x + m \\frac{d^{2}}{d t^{2}} x = 0$"
      ],
      "text/plain": [
       "          2       \n",
       "         d        \n",
       "k⋅x + m⋅───(x) = 0\n",
       "          2       \n",
       "        dt        "
      ]
     },
     "execution_count": 18,
     "metadata": {},
     "output_type": "execute_result"
    }
   ],
   "source": [
    "ode = sp.Eq(diff_exp -el_exp, 0)\n",
    "ode"
   ]
  },
  {
   "cell_type": "code",
   "execution_count": 19,
   "id": "arranged-compromise",
   "metadata": {},
   "outputs": [
    {
     "data": {
      "image/png": "[encoded data removed]",
      "text/latex": [
       "$\\displaystyle k \\sin{\\left(\\omega t \\right)} + m \\frac{\\partial^{2}}{\\partial t^{2}} \\sin{\\left(\\omega t \\right)} = 0$"
      ],
      "text/plain": [
       "                 2              \n",
       "                ∂               \n",
       "k⋅sin(ω⋅t) + m⋅───(sin(ω⋅t)) = 0\n",
       "                 2              \n",
       "               ∂t               "
      ]
     },
     "execution_count": 19,
     "metadata": {},
     "output_type": "execute_result"
    }
   ],
   "source": [
    "# Chutando funções\n",
    "\n",
    "# x(t) = sen(wt)\n",
    "func_rep = sp.sin(omega*t)\n",
    "\n",
    "ode.subs(x, func_rep)"
   ]
  },
  {
   "cell_type": "code",
   "execution_count": 20,
   "id": "heavy-central",
   "metadata": {},
   "outputs": [
    {
     "data": {
      "image/png": "[encoded data removed]",
      "text/latex": [
       "$\\displaystyle x = \\sin{\\left(\\omega t \\right)}$"
      ],
      "text/plain": [
       "x = sin(ω⋅t)"
      ]
     },
     "execution_count": 20,
     "metadata": {},
     "output_type": "execute_result"
    }
   ],
   "source": [
    "sp.Eq(x, func_rep)"
   ]
  },
  {
   "cell_type": "code",
   "execution_count": 21,
   "id": "saving-entrepreneur",
   "metadata": {},
   "outputs": [
    {
     "data": {
      "image/png": "[encoded data removed]",
      "text/latex": [
       "$\\displaystyle \\frac{d}{d t} x = \\omega \\cos{\\left(\\omega t \\right)}$"
      ],
      "text/plain": [
       "d                 \n",
       "──(x) = ω⋅cos(ω⋅t)\n",
       "dt                "
      ]
     },
     "execution_count": 21,
     "metadata": {},
     "output_type": "execute_result"
    }
   ],
   "source": [
    "derivative = sp.Derivative(x, t)\n",
    "func_rep = sp.diff(func_rep, t)\n",
    "sp.Eq(derivative, func_rep)"
   ]
  },
  {
   "cell_type": "code",
   "execution_count": 22,
   "id": "chinese-wilderness",
   "metadata": {},
   "outputs": [
    {
     "data": {
      "image/png": "[encoded data removed]",
      "text/latex": [
       "$\\displaystyle \\frac{d^{2}}{d t^{2}} x = - \\omega^{2} \\sin{\\left(\\omega t \\right)}$"
      ],
      "text/plain": [
       "  2                  \n",
       " d         2         \n",
       "───(x) = -ω ⋅sin(ω⋅t)\n",
       "  2                  \n",
       "dt                   "
      ]
     },
     "execution_count": 22,
     "metadata": {},
     "output_type": "execute_result"
    }
   ],
   "source": [
    "func_rep = sp.diff(func_rep, t)\n",
    "final_exp = sp.Eq(sp.Derivative(derivative, t), func_rep)\n",
    "final_exp"
   ]
  },
  {
   "cell_type": "code",
   "execution_count": 23,
   "id": "alive-retreat",
   "metadata": {},
   "outputs": [
    {
     "data": {
      "image/png": "[encoded data removed]",
      "text/latex": [
       "$\\displaystyle k \\sin{\\left(\\omega t \\right)} - m \\omega^{2} \\sin{\\left(\\omega t \\right)} = 0$"
      ],
      "text/plain": [
       "                2             \n",
       "k⋅sin(ω⋅t) - m⋅ω ⋅sin(ω⋅t) = 0"
      ]
     },
     "execution_count": 23,
     "metadata": {},
     "output_type": "execute_result"
    }
   ],
   "source": [
    "#Colocando expressões na edo\n",
    "\n",
    "expr1 = sp.Eq(m*func_rep + k * sp.sin(omega*t), 0)\n",
    "expr1"
   ]
  },
  {
   "cell_type": "code",
   "execution_count": 24,
   "id": "official-passing",
   "metadata": {},
   "outputs": [
    {
     "data": {
      "image/png": "[encoded data removed]",
      "text/latex": [
       "$\\displaystyle \\omega = \\sqrt{\\frac{k}{m}}$"
      ],
      "text/plain": [
       "        ___\n",
       "       ╱ k \n",
       "ω =   ╱  ─ \n",
       "    ╲╱   m "
      ]
     },
     "execution_count": 24,
     "metadata": {},
     "output_type": "execute_result"
    }
   ],
   "source": [
    "# Obtemos\n",
    "sp.Eq(omega, sp.sqrt(k/m))"
   ]
  },
  {
   "cell_type": "code",
   "execution_count": 25,
   "id": "rental-paris",
   "metadata": {},
   "outputs": [
    {
     "data": {
      "image/png": "[encoded data removed]",
      "text/latex": [
       "$\\displaystyle \\frac{2 \\pi}{T} = \\sqrt{\\frac{k}{m}}$"
      ],
      "text/plain": [
       "          ___\n",
       "2⋅π      ╱ k \n",
       "─── =   ╱  ─ \n",
       " T    ╲╱   m "
      ]
     },
     "execution_count": 25,
     "metadata": {},
     "output_type": "execute_result"
    }
   ],
   "source": [
    "T, s, Kg, N = sp.symbols('T s Kg N')\n",
    "sp.Eq((2*sp.pi)/T, sp.sqrt(k/m))"
   ]
  },
  {
   "cell_type": "code",
   "execution_count": 26,
   "id": "celtic-washer",
   "metadata": {},
   "outputs": [
    {
     "data": {
      "image/png": "[encoded data removed]",
      "text/latex": [
       "$\\displaystyle \\frac{1}{s} = \\sqrt{\\frac{N}{Kg m}}$"
      ],
      "text/plain": [
       "        ______\n",
       "1      ╱  N   \n",
       "─ =   ╱  ──── \n",
       "s   ╲╱   Kg⋅m "
      ]
     },
     "execution_count": 26,
     "metadata": {},
     "output_type": "execute_result"
    }
   ],
   "source": [
    "# Colocando apenas unidades de medida\n",
    "\n",
    "sp.Eq(1/s, sp.sqrt((N/m)/Kg))"
   ]
  },
  {
   "cell_type": "code",
   "execution_count": 27,
   "id": "opposed-friday",
   "metadata": {},
   "outputs": [
    {
     "data": {
      "image/png": "[encoded data removed]",
      "text/latex": [
       "$\\displaystyle \\frac{1}{s^{2}} = \\frac{N}{Kg m}$"
      ],
      "text/plain": [
       "1     N  \n",
       "── = ────\n",
       " 2   Kg⋅m\n",
       "s        "
      ]
     },
     "execution_count": 27,
     "metadata": {},
     "output_type": "execute_result"
    }
   ],
   "source": [
    "sp.Eq(1/s**2, (N/m)/Kg)"
   ]
  },
  {
   "cell_type": "code",
   "execution_count": 28,
   "id": "favorite-length",
   "metadata": {},
   "outputs": [
    {
     "data": {
      "image/png": "[encoded data removed]",
      "text/latex": [
       "$\\displaystyle \\frac{Kg m}{s^{2}} = N$"
      ],
      "text/plain": [
       "Kg⋅m    \n",
       "──── = N\n",
       "  2     \n",
       " s      "
      ]
     },
     "execution_count": 28,
     "metadata": {},
     "output_type": "execute_result"
    }
   ],
   "source": [
    "sp.Eq(Kg*m/s**2, N)"
   ]
  },
  {
   "cell_type": "markdown",
   "id": "resident-congress",
   "metadata": {},
   "source": [
    "### Isso está correto, pois a unidade de medida do N é Kg * m / s^2"
   ]
  },
  {
   "cell_type": "code",
   "execution_count": 29,
   "id": "extensive-wednesday",
   "metadata": {},
   "outputs": [],
   "source": [
    "T, f, i = sp.symbols('T f i')"
   ]
  },
  {
   "cell_type": "markdown",
   "id": "structured-destination",
   "metadata": {},
   "source": [
    "#### Verificando se cos(wt) e e^iwt são soluções da edo"
   ]
  },
  {
   "cell_type": "code",
   "execution_count": 30,
   "id": "inclusive-hardware",
   "metadata": {},
   "outputs": [
    {
     "data": {
      "image/png": "[encoded data removed]",
      "text/latex": [
       "$\\displaystyle \\frac{d^{2}}{d t^{2}} x = - \\omega^{2} \\cos{\\left(\\omega t \\right)}$"
      ],
      "text/plain": [
       "  2                  \n",
       " d         2         \n",
       "───(x) = -ω ⋅cos(ω⋅t)\n",
       "  2                  \n",
       "dt                   "
      ]
     },
     "execution_count": 30,
     "metadata": {},
     "output_type": "execute_result"
    }
   ],
   "source": [
    "cos_func = sp.cos(omega*t)\n",
    "#sp.diff(cos_func, t)\n",
    "cos_func = sp.diff(sp.diff(cos_func, t), t)\n",
    "sp.Eq(sp.Derivative(derivative, t), cos_func)"
   ]
  },
  {
   "cell_type": "code",
   "execution_count": 31,
   "id": "correct-teaching",
   "metadata": {},
   "outputs": [
    {
     "data": {
      "image/png": "[encoded data removed]",
      "text/latex": [
       "$\\displaystyle k \\cos{\\left(\\omega t \\right)} - m \\omega^{2} \\cos{\\left(\\omega t \\right)} = 0$"
      ],
      "text/plain": [
       "                2             \n",
       "k⋅cos(ω⋅t) - m⋅ω ⋅cos(ω⋅t) = 0"
      ]
     },
     "execution_count": 31,
     "metadata": {},
     "output_type": "execute_result"
    }
   ],
   "source": [
    "expr2 = sp.Eq(m*cos_func + k * sp.cos(omega*t), 0)\n",
    "expr2"
   ]
  },
  {
   "cell_type": "code",
   "execution_count": 32,
   "id": "south-effects",
   "metadata": {},
   "outputs": [
    {
     "data": {
      "image/png": "[encoded data removed]",
      "text/latex": [
       "$\\displaystyle k \\cos{\\left(\\omega t \\right)} = m \\omega^{2} \\cos{\\left(\\omega t \\right)}$"
      ],
      "text/plain": [
       "                2         \n",
       "k⋅cos(ω⋅t) = m⋅ω ⋅cos(ω⋅t)"
      ]
     },
     "execution_count": 32,
     "metadata": {},
     "output_type": "execute_result"
    }
   ],
   "source": [
    "sp.Eq(k * sp.cos(omega*t), -m*cos_func)"
   ]
  },
  {
   "cell_type": "code",
   "execution_count": 33,
   "id": "divine-bahrain",
   "metadata": {},
   "outputs": [
    {
     "data": {
      "image/png": "[encoded data removed]",
      "text/latex": [
       "$\\displaystyle \\omega = \\sqrt{\\frac{k}{m}}$"
      ],
      "text/plain": [
       "        ___\n",
       "       ╱ k \n",
       "ω =   ╱  ─ \n",
       "    ╲╱   m "
      ]
     },
     "execution_count": 33,
     "metadata": {},
     "output_type": "execute_result"
    }
   ],
   "source": [
    "# Obtemos novamente\n",
    "sp.Eq(omega, sp.sqrt(k/m))"
   ]
  },
  {
   "cell_type": "markdown",
   "id": "bigger-patrick",
   "metadata": {},
   "source": [
    "#### Possível solução geral"
   ]
  },
  {
   "cell_type": "code",
   "execution_count": 38,
   "id": "assured-husband",
   "metadata": {},
   "outputs": [],
   "source": [
    "x, a, b, A, phi  = sp.symbols('x(t) a b A phi')"
   ]
  },
  {
   "cell_type": "code",
   "execution_count": 40,
   "id": "found-helping",
   "metadata": {},
   "outputs": [
    {
     "data": {
      "image/png": "[encoded data removed]",
      "text/latex": [
       "$\\displaystyle x(t) = A \\cos{\\left(\\omega t + \\phi \\right)}$"
      ],
      "text/plain": [
       "x(t) = A⋅cos(ω⋅t + φ)"
      ]
     },
     "execution_count": 40,
     "metadata": {},
     "output_type": "execute_result"
    }
   ],
   "source": [
    "expr3 = sp.Eq(x, A*sp.cos(omega*t+phi))\n",
    "expr3"
   ]
  },
  {
   "cell_type": "code",
   "execution_count": null,
   "id": "cutting-perception",
   "metadata": {},
   "outputs": [],
   "source": []
  }
 ],
 "metadata": {
  "kernelspec": {
   "display_name": "Python 3",
   "language": "python",
   "name": "python3"
  },
  "language_info": {
   "codemirror_mode": {
    "name": "ipython",
    "version": 3
   },
   "file_extension": ".py",
   "mimetype": "text/x-python",
   "name": "python",
   "nbconvert_exporter": "python",
   "pygments_lexer": "ipython3",
   "version": "3.9.1"
  }
 },
 "nbformat": 4,
 "nbformat_minor": 5
}
