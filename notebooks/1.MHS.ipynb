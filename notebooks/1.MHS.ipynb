{
 "cells": [
  {
   "cell_type": "markdown",
   "id": "constant-horror",
   "metadata": {},
   "source": [
    "# Oscilações"
   ]
  },
  {
   "cell_type": "markdown",
   "id": "peaceful-wholesale",
   "metadata": {},
   "source": [
    "### Aplicações\n",
    "\n",
    "- Frequências naturais de oscilação nas obras de engenharia civil;\n",
    "- Instrumentos: Violão, Violino, etc.\n",
    "- Alguns objetos: Relógio, Bungee Jump, Celulares\n",
    "- Fenômenos naturais: Terremotos\n",
    "- Biologia e Humano:\n",
    "  - Coração Humano\n",
    "  - Oscilação da liberação de insulina\n",
    "- Elétrica:\n",
    "  - Oscilador de Armstrong;\n",
    "  - Circuito RLC;\n",
    "- Asterosismologia:\n",
    "  - Oscilação de uma Estrela de Nêutron"
   ]
  },
  {
   "cell_type": "markdown",
   "id": "micro-auction",
   "metadata": {},
   "source": [
    "### Aplicações Oscilações com Amortecimento\n",
    "\n",
    "- Subcrítico:\n",
    "  - Portas de prédios públicos e hospitais\n",
    "  - Circuito RLC\n",
    "- Crítico:\n",
    "  - Balança e instrumentos de precisão\n",
    "  - Amortecedores de Veículos\n",
    "  - Circuito RLC;\n",
    "- Supercrítico:\n",
    "  - Circuito RLC;\n",
    "  - ...\n"
   ]
  },
  {
   "cell_type": "markdown",
   "id": "lovely-reaction",
   "metadata": {},
   "source": [
    "## Movimento Harmônico Simples - Parte 1 - Revisão"
   ]
  },
  {
   "cell_type": "code",
   "execution_count": 1,
   "id": "saved-translation",
   "metadata": {},
   "outputs": [],
   "source": [
    "import sympy as sp\n",
    "%matplotlib inline\n",
    "sp.init_printing()"
   ]
  },
  {
   "cell_type": "markdown",
   "id": "standing-angel",
   "metadata": {},
   "source": [
    "### Lei de Hooke"
   ]
  },
  {
   "cell_type": "code",
   "execution_count": 2,
   "id": "introductory-marking",
   "metadata": {},
   "outputs": [],
   "source": [
    "x, k, Fel= sp.symbols('x k Fel')"
   ]
  },
  {
   "cell_type": "code",
   "execution_count": 3,
   "id": "multiple-turkish",
   "metadata": {},
   "outputs": [
    {
     "data": {
      "image/png": "[encoded data removed]",
      "text/latex": [
       "$\\displaystyle Fel = - k x$"
      ],
      "text/plain": [
       "Fel = -k⋅x"
      ]
     },
     "execution_count": 3,
     "metadata": {},
     "output_type": "execute_result"
    }
   ],
   "source": [
    "el_force = sp.Eq(Fel, -k * x)\n",
    "\n",
    "el_force"
   ]
  },
  {
   "cell_type": "code",
   "execution_count": 4,
   "id": "prescribed-architect",
   "metadata": {},
   "outputs": [
    {
     "data": {
      "image/png": "[encoded data removed]",
      "text/plain": [
       "<Figure size 432x288 with 1 Axes>"
      ]
     },
     "metadata": {
      "needs_background": "light"
     },
     "output_type": "display_data"
    },
    {
     "data": {
      "text/plain": [
       "<sympy.plotting.plot.Plot at 0x29c7fad1dc0>"
      ]
     },
     "execution_count": 4,
     "metadata": {},
     "output_type": "execute_result"
    }
   ],
   "source": [
    "# Dando um valor simbólico para K de 2 N/m e Plotando o gráfico da Força Elástica\n",
    "\n",
    "p1 = sp.plot_implicit(el_force.subs(k,2))\n",
    "\n",
    "p1"
   ]
  },
  {
   "cell_type": "markdown",
   "id": "broke-craps",
   "metadata": {},
   "source": [
    "##### Podemos verificar que a força depende da posição x..."
   ]
  },
  {
   "cell_type": "markdown",
   "id": "convertible-craps",
   "metadata": {},
   "source": [
    "### Energia Potencial Elástica"
   ]
  },
  {
   "cell_type": "code",
   "execution_count": 5,
   "id": "pretty-charter",
   "metadata": {},
   "outputs": [],
   "source": [
    "x, k, Uel, Ec, Emec= sp.symbols('x k Uel Ec Emec')"
   ]
  },
  {
   "cell_type": "code",
   "execution_count": 6,
   "id": "nearby-jaguar",
   "metadata": {},
   "outputs": [
    {
     "data": {
      "image/png": "[encoded data removed]",
      "text/latex": [
       "$\\displaystyle Uel = \\frac{k x^{2}}{2}$"
      ],
      "text/plain": [
       "         2\n",
       "      k⋅x \n",
       "Uel = ────\n",
       "       2  "
      ]
     },
     "execution_count": 6,
     "metadata": {},
     "output_type": "execute_result"
    }
   ],
   "source": [
    "el_pot = sp.Eq(Uel, (k*x**2)/2)\n",
    "el_pot"
   ]
  },
  {
   "cell_type": "markdown",
   "id": "initial-functionality",
   "metadata": {},
   "source": [
    "##### Assim como a Fel, a Uel depende da posição x..."
   ]
  },
  {
   "cell_type": "code",
   "execution_count": 7,
   "id": "following-defeat",
   "metadata": {},
   "outputs": [
    {
     "data": {
      "image/png": "[encoded data removed]",
      "text/plain": [
       "<Figure size 432x288 with 1 Axes>"
      ]
     },
     "metadata": {
      "needs_background": "light"
     },
     "output_type": "display_data"
    }
   ],
   "source": [
    "# Novamente irei assumir um valor 2 N/m para K e Plotando o gráfico da Força Elástica\n",
    "el_pot = el_pot.subs(k,2)\n",
    "p2 = sp.plot_implicit(el_pot)"
   ]
  },
  {
   "cell_type": "code",
   "execution_count": 8,
   "id": "religious-moderator",
   "metadata": {},
   "outputs": [
    {
     "data": {
      "image/png": "[encoded data removed]",
      "text/latex": [
       "$\\displaystyle Ec = Emec - \\frac{k x^{2}}{2}$"
      ],
      "text/plain": [
       "               2\n",
       "            k⋅x \n",
       "Ec = Emec - ────\n",
       "             2  "
      ]
     },
     "execution_count": 8,
     "metadata": {},
     "output_type": "execute_result"
    }
   ],
   "source": [
    "kin_energy = sp.Eq(Ec, Emec - (k*x**2)/2)\n",
    "kin_energy"
   ]
  },
  {
   "cell_type": "markdown",
   "id": "sweet-bible",
   "metadata": {},
   "source": [
    "##### Também veremos que a Ec dependerá da posição x"
   ]
  },
  {
   "cell_type": "code",
   "execution_count": 9,
   "id": "saving-caution",
   "metadata": {},
   "outputs": [
    {
     "data": {
      "image/png": "[encoded data removed]",
      "text/plain": [
       "<Figure size 432x288 with 1 Axes>"
      ]
     },
     "metadata": {
      "needs_background": "light"
     },
     "output_type": "display_data"
    }
   ],
   "source": [
    "# Irei assumir uma Emec = 4 e k = 2 N/m, para fins de gráfico\n",
    "kin_energy = kin_energy.subs(Emec,4).subs(k, 2)\n",
    "p3 = sp.plot_implicit(kin_energy)"
   ]
  },
  {
   "cell_type": "markdown",
   "id": "neutral-liabilities",
   "metadata": {},
   "source": [
    "##### Combinando a Uel e a Ec no mesmo gráfico..."
   ]
  },
  {
   "cell_type": "code",
   "execution_count": 10,
   "id": "extended-football",
   "metadata": {},
   "outputs": [
    {
     "data": {
      "image/png": "[encoded data removed]",
      "text/plain": [
       "<Figure size 432x288 with 1 Axes>"
      ]
     },
     "metadata": {
      "needs_background": "light"
     },
     "output_type": "display_data"
    }
   ],
   "source": [
    "kin = Emec - (k*x**2)/2\n",
    "pot = (k*x**2)/2\n",
    "mec = 4\n",
    "\n",
    "p4 = sp.plot(kin.subs(Emec,4).subs(k, 2), pot.subs(k, 2), mec, xlim=[-4,4], ylim=[-4,5], legend=True)\n"
   ]
  },
  {
   "cell_type": "markdown",
   "id": "essential-bacteria",
   "metadata": {},
   "source": [
    "### Pesquisa 1"
   ]
  },
  {
   "cell_type": "markdown",
   "id": "signal-technology",
   "metadata": {},
   "source": [
    "- a) Essa força determina a deformação de um corpo quando ele se estica ou se comprime. Isso dependerá da direção da força aplicada. É determinada pela natureza do material utilizado, e ainda, por suas dimensões;\n",
    "\n",
    "- b) k possui unidade: Newton por Metro (N/m);\n",
    "\n",
    "- c) 1600 N/m;\n",
    "\n",
    "- d) 40 KN/m;"
   ]
  },
  {
   "cell_type": "code",
   "execution_count": 11,
   "id": "abroad-planner",
   "metadata": {},
   "outputs": [],
   "source": [
    "# Elevador de 5160 Newton e deslocamento de 2 metros"
   ]
  },
  {
   "cell_type": "code",
   "execution_count": 12,
   "id": "upper-tennis",
   "metadata": {},
   "outputs": [
    {
     "data": {
      "image/png": "[encoded data removed]",
      "text/latex": [
       "$\\displaystyle k = \\frac{F}{x}$"
      ],
      "text/plain": [
       "    F\n",
       "k = ─\n",
       "    x"
      ]
     },
     "execution_count": 12,
     "metadata": {},
     "output_type": "execute_result"
    }
   ],
   "source": [
    "x, k, F= sp.symbols('x k F')\n",
    "\n",
    "k_cte = sp.Eq(k, F/x)\n",
    "k_cte"
   ]
  },
  {
   "cell_type": "code",
   "execution_count": 13,
   "id": "arbitrary-relief",
   "metadata": {},
   "outputs": [
    {
     "name": "stdout",
     "output_type": "stream",
     "text": [
      "2580 N/m\n"
     ]
    }
   ],
   "source": [
    "print(sp.solve(k_cte.subs(x, 2).subs(F, 5160), k)[0], 'N/m')"
   ]
  },
  {
   "cell_type": "markdown",
   "id": "polished-corrections",
   "metadata": {},
   "source": [
    "#### e) 2580 N/m;"
   ]
  },
  {
   "cell_type": "markdown",
   "id": "aquatic-miracle",
   "metadata": {},
   "source": [
    "## Movimento Harmônico Simples - Parte 2"
   ]
  },
  {
   "cell_type": "code",
   "execution_count": 14,
   "id": "choice-event",
   "metadata": {},
   "outputs": [],
   "source": [
    "x, k, F, Fel, m, a, t, d, w= sp.symbols('x k F Fel m a t d w')"
   ]
  },
  {
   "cell_type": "code",
   "execution_count": 15,
   "id": "sudden-demographic",
   "metadata": {},
   "outputs": [
    {
     "data": {
      "image/png": "[encoded data removed]",
      "text/latex": [
       "$\\displaystyle F = a m$"
      ],
      "text/plain": [
       "F = a⋅m"
      ]
     },
     "execution_count": 15,
     "metadata": {},
     "output_type": "execute_result"
    }
   ],
   "source": [
    "# Pela 2° Lei de Newton\n",
    "sp.Eq(F, m * a)"
   ]
  },
  {
   "cell_type": "code",
   "execution_count": 16,
   "id": "framed-steps",
   "metadata": {},
   "outputs": [
    {
     "data": {
      "image/png": "[encoded data removed]",
      "text/latex": [
       "$\\displaystyle - k x = a m$"
      ],
      "text/plain": [
       "-k⋅x = a⋅m"
      ]
     },
     "execution_count": 16,
     "metadata": {},
     "output_type": "execute_result"
    }
   ],
   "source": [
    "# Igualando as forças do sistema e substituindo por derivadas para chegar em x\n",
    "el_exp = -k*x \n",
    "\n",
    "sp.Eq(el_exp, m*a)"
   ]
  },
  {
   "cell_type": "code",
   "execution_count": 17,
   "id": "stone-economics",
   "metadata": {},
   "outputs": [
    {
     "data": {
      "image/png": "[encoded data removed]",
      "text/latex": [
       "$\\displaystyle - k x = m \\frac{d^{2}}{d t^{2}} x$"
      ],
      "text/plain": [
       "           2   \n",
       "          d    \n",
       "-k⋅x = m⋅───(x)\n",
       "           2   \n",
       "         dt    "
      ]
     },
     "execution_count": 17,
     "metadata": {},
     "output_type": "execute_result"
    }
   ],
   "source": [
    "diff_exp = m*sp.Derivative(sp.Derivative(x, t), t)\n",
    "\n",
    "sp.Eq(el_exp, diff_exp)"
   ]
  },
  {
   "cell_type": "code",
   "execution_count": 18,
   "id": "decent-confidentiality",
   "metadata": {},
   "outputs": [
    {
     "data": {
      "image/png": "[encoded data removed]",
      "text/latex": [
       "$\\displaystyle k x + m \\frac{d^{2}}{d t^{2}} x = 0$"
      ],
      "text/plain": [
       "          2       \n",
       "         d        \n",
       "k⋅x + m⋅───(x) = 0\n",
       "          2       \n",
       "        dt        "
      ]
     },
     "execution_count": 18,
     "metadata": {},
     "output_type": "execute_result"
    }
   ],
   "source": [
    "ode = sp.Eq(diff_exp -el_exp, 0)\n",
    "ode"
   ]
  },
  {
   "cell_type": "code",
   "execution_count": 19,
   "id": "comparable-gnome",
   "metadata": {},
   "outputs": [
    {
     "data": {
      "image/png": "[encoded data removed]",
      "text/latex": [
       "$\\displaystyle k \\sin{\\left(t w \\right)} + m \\frac{\\partial^{2}}{\\partial t^{2}} \\sin{\\left(t w \\right)} = 0$"
      ],
      "text/plain": [
       "                 2              \n",
       "                ∂               \n",
       "k⋅sin(t⋅w) + m⋅───(sin(t⋅w)) = 0\n",
       "                 2              \n",
       "               ∂t               "
      ]
     },
     "execution_count": 19,
     "metadata": {},
     "output_type": "execute_result"
    }
   ],
   "source": [
    "# Chutando funções\n",
    "\n",
    "# x(t) = sen(wt)\n",
    "func_rep = sp.sin(w*t)\n",
    "\n",
    "ode.subs(x, func_rep)"
   ]
  },
  {
   "cell_type": "code",
   "execution_count": 20,
   "id": "expensive-detective",
   "metadata": {},
   "outputs": [
    {
     "data": {
      "image/png": "[encoded data removed]",
      "text/latex": [
       "$\\displaystyle x = \\sin{\\left(t w \\right)}$"
      ],
      "text/plain": [
       "x = sin(t⋅w)"
      ]
     },
     "execution_count": 20,
     "metadata": {},
     "output_type": "execute_result"
    }
   ],
   "source": [
    "sp.Eq(x, func_rep)"
   ]
  },
  {
   "cell_type": "code",
   "execution_count": 21,
   "id": "municipal-praise",
   "metadata": {},
   "outputs": [
    {
     "data": {
      "image/png": "[encoded data removed]",
      "text/latex": [
       "$\\displaystyle \\frac{d}{d t} x = w \\cos{\\left(t w \\right)}$"
      ],
      "text/plain": [
       "d                 \n",
       "──(x) = w⋅cos(t⋅w)\n",
       "dt                "
      ]
     },
     "execution_count": 21,
     "metadata": {},
     "output_type": "execute_result"
    }
   ],
   "source": [
    "derivative = sp.Derivative(x, t)\n",
    "func_rep = sp.diff(func_rep, t)\n",
    "sp.Eq(derivative, func_rep)"
   ]
  },
  {
   "cell_type": "code",
   "execution_count": 22,
   "id": "primary-expansion",
   "metadata": {},
   "outputs": [
    {
     "data": {
      "image/png": "[encoded data removed]",
      "text/latex": [
       "$\\displaystyle \\frac{d^{2}}{d t^{2}} x = - w^{2} \\sin{\\left(t w \\right)}$"
      ],
      "text/plain": [
       "  2                  \n",
       " d         2         \n",
       "───(x) = -w ⋅sin(t⋅w)\n",
       "  2                  \n",
       "dt                   "
      ]
     },
     "execution_count": 22,
     "metadata": {},
     "output_type": "execute_result"
    }
   ],
   "source": [
    "func_rep = sp.diff(func_rep, t)\n",
    "final_exp = sp.Eq(sp.Derivative(derivative, t), func_rep)\n",
    "final_exp"
   ]
  },
  {
   "cell_type": "code",
   "execution_count": 23,
   "id": "decreased-scientist",
   "metadata": {},
   "outputs": [],
   "source": [
    "#substituir func_rep na ode"
   ]
  }
 ],
 "metadata": {
  "kernelspec": {
   "display_name": "Python 3",
   "language": "python",
   "name": "python3"
  },
  "language_info": {
   "codemirror_mode": {
    "name": "ipython",
    "version": 3
   },
   "file_extension": ".py",
   "mimetype": "text/x-python",
   "name": "python",
   "nbconvert_exporter": "python",
   "pygments_lexer": "ipython3",
   "version": "3.9.1"
  }
 },
 "nbformat": 4,
 "nbformat_minor": 5
}
