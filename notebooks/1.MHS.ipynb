{
 "cells": [
  {
   "cell_type": "markdown",
   "id": "divine-trash",
   "metadata": {},
   "source": [
    "# Aula 1: MHS Oscilações"
   ]
  },
  {
   "cell_type": "markdown",
   "id": "further-maximum",
   "metadata": {},
   "source": [
    "### Aplicações\n",
    "\n",
    "- Frequências naturais de oscilação nas obras de engenharia civil;\n",
    "- Instrumentos: Violão, Violino, etc.\n",
    "- Alguns objetos: Relógio, Bungee Jump, Celulares\n",
    "- Fenômenos naturais: Terremotos\n",
    "- Biologia e Humano:\n",
    "  - Coração Humano\n",
    "  - Oscilação da liberação de insulina\n",
    "- Elétrica:\n",
    "  - Oscilador de Armstrong;\n",
    "  - Circuito RLC;\n",
    "- Asterosismologia:\n",
    "  - Oscilação de uma Estrela de Nêutron"
   ]
  },
  {
   "cell_type": "markdown",
   "id": "equivalent-noise",
   "metadata": {},
   "source": [
    "### Aplicações Oscilações com Amortecimento\n",
    "\n",
    "- Subcrítico:\n",
    "  - Portas de prédios públicos e hospitais\n",
    "  - Circuito RLC\n",
    "- Crítico:\n",
    "  - Balança e instrumentos de precisão\n",
    "  - Amortecedores de Veículos\n",
    "  - Circuito RLC;\n",
    "- Supercrítico:\n",
    "  - Circuito RLC;\n",
    "  - ...\n"
   ]
  },
  {
   "cell_type": "markdown",
   "id": "rental-ordinance",
   "metadata": {},
   "source": [
    "## Movimento Harmônico Simples - Parte 1 - Revisão"
   ]
  },
  {
   "cell_type": "code",
   "execution_count": 1,
   "id": "exempt-danish",
   "metadata": {},
   "outputs": [],
   "source": [
    "import sympy as sp\n",
    "from sympy import *\n",
    "%matplotlib inline\n",
    "sp.init_printing()"
   ]
  },
  {
   "cell_type": "markdown",
   "id": "sorted-munich",
   "metadata": {},
   "source": [
    "### Lei de Hooke"
   ]
  },
  {
   "cell_type": "code",
   "execution_count": 2,
   "id": "dying-precipitation",
   "metadata": {},
   "outputs": [],
   "source": [
    "x, k, Fel= sp.symbols('x k Fel')"
   ]
  },
  {
   "cell_type": "code",
   "execution_count": 3,
   "id": "alternate-leone",
   "metadata": {},
   "outputs": [
    {
     "data": {
      "text/latex": [
       "$\\displaystyle Fel = - k x$"
      ],
      "text/plain": [
       "Eq(Fel, -k*x)"
      ]
     },
     "execution_count": 3,
     "metadata": {},
     "output_type": "execute_result"
    }
   ],
   "source": [
    "el_force = sp.Eq(Fel, -k * x)\n",
    "\n",
    "el_force"
   ]
  },
  {
   "cell_type": "code",
   "execution_count": 4,
   "id": "filled-cedar",
   "metadata": {},
   "outputs": [
    {
     "data": {
      "image/png": "[encoded data removed]",
      "text/plain": [
       "<Figure size 432x288 with 1 Axes>"
      ]
     },
     "metadata": {
      "needs_background": "light"
     },
     "output_type": "display_data"
    },
    {
     "data": {
      "text/plain": [
       "<sympy.plotting.plot.Plot at 0x2207f7c8a00>"
      ]
     },
     "execution_count": 4,
     "metadata": {},
     "output_type": "execute_result"
    }
   ],
   "source": [
    "# Dando um valor simbólico para K de 2 N/m e Plotando o gráfico da Força Elástica\n",
    "\n",
    "p1 = sp.plot_implicit(el_force.subs(k,2))\n",
    "\n",
    "p1"
   ]
  },
  {
   "cell_type": "markdown",
   "id": "forty-turtle",
   "metadata": {},
   "source": [
    "##### Podemos verificar que a força depende da posição x..."
   ]
  },
  {
   "cell_type": "markdown",
   "id": "geological-recycling",
   "metadata": {},
   "source": [
    "### Energia Potencial Elástica"
   ]
  },
  {
   "cell_type": "code",
   "execution_count": 5,
   "id": "anonymous-school",
   "metadata": {},
   "outputs": [],
   "source": [
    "x, k, Uel, Ec, Emec= sp.symbols('x k Uel Ec Emec')"
   ]
  },
  {
   "cell_type": "code",
   "execution_count": 6,
   "id": "quantitative-lyric",
   "metadata": {},
   "outputs": [
    {
     "data": {
      "text/latex": [
       "$\\displaystyle Uel = \\frac{k x^{2}}{2}$"
      ],
      "text/plain": [
       "Eq(Uel, k*x**2/2)"
      ]
     },
     "execution_count": 6,
     "metadata": {},
     "output_type": "execute_result"
    }
   ],
   "source": [
    "el_pot = sp.Eq(Uel, (k*x**2)/2)\n",
    "el_pot"
   ]
  },
  {
   "cell_type": "markdown",
   "id": "integrated-truth",
   "metadata": {},
   "source": [
    "##### Assim como a Fel, a Uel depende da posição x..."
   ]
  },
  {
   "cell_type": "code",
   "execution_count": 7,
   "id": "empty-buyer",
   "metadata": {},
   "outputs": [
    {
     "data": {
      "image/png": "[encoded data removed]",
      "text/plain": [
       "<Figure size 432x288 with 1 Axes>"
      ]
     },
     "metadata": {
      "needs_background": "light"
     },
     "output_type": "display_data"
    }
   ],
   "source": [
    "# Novamente irei assumir um valor 2 N/m para K e Plotando o gráfico da Força Elástica\n",
    "el_pot = el_pot.subs(k,2)\n",
    "p2 = sp.plot_implicit(el_pot)"
   ]
  },
  {
   "cell_type": "code",
   "execution_count": 8,
   "id": "brown-track",
   "metadata": {},
   "outputs": [
    {
     "data": {
      "text/latex": [
       "$\\displaystyle Ec = Emec - \\frac{k x^{2}}{2}$"
      ],
      "text/plain": [
       "Eq(Ec, Emec - k*x**2/2)"
      ]
     },
     "execution_count": 8,
     "metadata": {},
     "output_type": "execute_result"
    }
   ],
   "source": [
    "kin_energy = sp.Eq(Ec, Emec - (k*x**2)/2)\n",
    "kin_energy"
   ]
  },
  {
   "cell_type": "markdown",
   "id": "social-fisher",
   "metadata": {},
   "source": [
    "##### Também veremos que a Ec dependerá da posição x"
   ]
  },
  {
   "cell_type": "code",
   "execution_count": 9,
   "id": "weird-peace",
   "metadata": {},
   "outputs": [
    {
     "data": {
      "image/png": "[encoded data removed]",
      "text/plain": [
       "<Figure size 432x288 with 1 Axes>"
      ]
     },
     "metadata": {
      "needs_background": "light"
     },
     "output_type": "display_data"
    }
   ],
   "source": [
    "# Irei assumir uma Emec = 4 e k = 2 N/m, para fins de gráfico\n",
    "kin_energy = kin_energy.subs(Emec,4).subs(k, 2)\n",
    "p3 = sp.plot_implicit(kin_energy)"
   ]
  },
  {
   "cell_type": "markdown",
   "id": "later-arrow",
   "metadata": {},
   "source": [
    "##### Combinando a Uel e a Ec no mesmo gráfico..."
   ]
  },
  {
   "cell_type": "code",
   "execution_count": 39,
   "id": "touched-invitation",
   "metadata": {},
   "outputs": [
    {
     "data": {
      "image/png": "[encoded data removed]",
      "text/plain": [
       "<Figure size 432x288 with 1 Axes>"
      ]
     },
     "metadata": {
      "needs_background": "light"
     },
     "output_type": "display_data"
    }
   ],
   "source": [
    "kin = Emec - (k*x**2)/2\n",
    "pot = (k*x**2)/2\n",
    "mec = 4\n",
    "\n",
    "p4 = sp.plot(kin.subs(Emec,4).subs(k, 2), pot.subs(k, 2), mec, xlim=[-4,4], ylim=[-4,5], legend=True, show=False)\n",
    "\n",
    "p4[1].line_color = 'r'\n",
    "p4[2].line_color = 'g'\n",
    "p4.show()\n"
   ]
  },
  {
   "cell_type": "markdown",
   "id": "frozen-touch",
   "metadata": {},
   "source": [
    "### Pesquisa 1"
   ]
  },
  {
   "cell_type": "markdown",
   "id": "noted-withdrawal",
   "metadata": {},
   "source": [
    "- a) Essa força determina a deformação de um corpo quando ele se estica ou se comprime. Isso dependerá da direção da força aplicada. É determinada pela natureza do material utilizado, e ainda, por suas dimensões;\n",
    "\n",
    "- b) k possui unidade: Newton por Metro (N/m);\n",
    "\n",
    "- c) 1600 N/m;\n",
    "\n",
    "- d) 40 KN/m;"
   ]
  },
  {
   "cell_type": "code",
   "execution_count": 11,
   "id": "loved-wonder",
   "metadata": {},
   "outputs": [],
   "source": [
    "# Elevador de 5160 Newton e deslocamento de 2 metros"
   ]
  },
  {
   "cell_type": "code",
   "execution_count": 12,
   "id": "dying-custom",
   "metadata": {},
   "outputs": [
    {
     "data": {
      "text/latex": [
       "$\\displaystyle k = \\frac{F}{x}$"
      ],
      "text/plain": [
       "Eq(k, F/x)"
      ]
     },
     "execution_count": 12,
     "metadata": {},
     "output_type": "execute_result"
    }
   ],
   "source": [
    "x, k, F= sp.symbols('x k F')\n",
    "\n",
    "k_cte = sp.Eq(k, F/x)\n",
    "k_cte"
   ]
  },
  {
   "cell_type": "code",
   "execution_count": 13,
   "id": "amazing-election",
   "metadata": {},
   "outputs": [
    {
     "name": "stdout",
     "output_type": "stream",
     "text": [
      "2580 N/m\n"
     ]
    }
   ],
   "source": [
    "print(sp.solve(k_cte.subs(x, 2).subs(F, 5160), k)[0], 'N/m')"
   ]
  },
  {
   "cell_type": "markdown",
   "id": "checked-waters",
   "metadata": {},
   "source": [
    "#### e) 2580 N/m;"
   ]
  },
  {
   "cell_type": "markdown",
   "id": "flexible-primary",
   "metadata": {},
   "source": [
    "## Movimento Harmônico Simples - Parte 2"
   ]
  },
  {
   "cell_type": "code",
   "execution_count": 14,
   "id": "suspected-diesel",
   "metadata": {},
   "outputs": [],
   "source": [
    "x, k, F, Fel, m, a, t, d, omega= sp.symbols('x k F Fel m a t d omega')"
   ]
  },
  {
   "cell_type": "code",
   "execution_count": 15,
   "id": "touched-disabled",
   "metadata": {},
   "outputs": [
    {
     "data": {
      "text/latex": [
       "$\\displaystyle F = a m$"
      ],
      "text/plain": [
       "Eq(F, a*m)"
      ]
     },
     "execution_count": 15,
     "metadata": {},
     "output_type": "execute_result"
    }
   ],
   "source": [
    "# Pela 2° Lei de Newton\n",
    "sp.Eq(F, m * a)"
   ]
  },
  {
   "cell_type": "code",
   "execution_count": 16,
   "id": "fleet-prime",
   "metadata": {},
   "outputs": [
    {
     "data": {
      "text/latex": [
       "$\\displaystyle - k x = a m$"
      ],
      "text/plain": [
       "Eq(-k*x, a*m)"
      ]
     },
     "execution_count": 16,
     "metadata": {},
     "output_type": "execute_result"
    }
   ],
   "source": [
    "# Igualando as forças do sistema e substituindo por derivadas para chegar em x\n",
    "el_exp = -k*x \n",
    "\n",
    "sp.Eq(el_exp, m*a)"
   ]
  },
  {
   "cell_type": "code",
   "execution_count": 17,
   "id": "atmospheric-transformation",
   "metadata": {},
   "outputs": [
    {
     "data": {
      "text/latex": [
       "$\\displaystyle - k x = m \\frac{d^{2}}{d t^{2}} x$"
      ],
      "text/plain": [
       "Eq(-k*x, m*Derivative(x, (t, 2)))"
      ]
     },
     "execution_count": 17,
     "metadata": {},
     "output_type": "execute_result"
    }
   ],
   "source": [
    "diff_exp = m*sp.Derivative(sp.Derivative(x, t), t)\n",
    "\n",
    "sp.Eq(el_exp, diff_exp)"
   ]
  },
  {
   "cell_type": "code",
   "execution_count": 18,
   "id": "complete-chance",
   "metadata": {},
   "outputs": [
    {
     "data": {
      "text/latex": [
       "$\\displaystyle k x + m \\frac{d^{2}}{d t^{2}} x = 0$"
      ],
      "text/plain": [
       "Eq(k*x + m*Derivative(x, (t, 2)), 0)"
      ]
     },
     "execution_count": 18,
     "metadata": {},
     "output_type": "execute_result"
    }
   ],
   "source": [
    "ode = sp.Eq(diff_exp -el_exp, 0)\n",
    "ode"
   ]
  },
  {
   "cell_type": "code",
   "execution_count": 19,
   "id": "consistent-military",
   "metadata": {},
   "outputs": [
    {
     "data": {
      "text/latex": [
       "$\\displaystyle k \\sin{\\left(\\omega t \\right)} + m \\frac{\\partial^{2}}{\\partial t^{2}} \\sin{\\left(\\omega t \\right)} = 0$"
      ],
      "text/plain": [
       "Eq(k*sin(omega*t) + m*Derivative(sin(omega*t), (t, 2)), 0)"
      ]
     },
     "execution_count": 19,
     "metadata": {},
     "output_type": "execute_result"
    }
   ],
   "source": [
    "# Chutando funções\n",
    "\n",
    "# x(t) = sen(wt)\n",
    "func_rep = sp.sin(omega*t)\n",
    "\n",
    "ode.subs(x, func_rep)"
   ]
  },
  {
   "cell_type": "code",
   "execution_count": 20,
   "id": "wooden-reverse",
   "metadata": {},
   "outputs": [
    {
     "data": {
      "text/latex": [
       "$\\displaystyle x = \\sin{\\left(\\omega t \\right)}$"
      ],
      "text/plain": [
       "Eq(x, sin(omega*t))"
      ]
     },
     "execution_count": 20,
     "metadata": {},
     "output_type": "execute_result"
    }
   ],
   "source": [
    "sp.Eq(x, func_rep)"
   ]
  },
  {
   "cell_type": "code",
   "execution_count": 21,
   "id": "verbal-sheep",
   "metadata": {},
   "outputs": [
    {
     "data": {
      "text/latex": [
       "$\\displaystyle \\frac{d}{d t} x = \\omega \\cos{\\left(\\omega t \\right)}$"
      ],
      "text/plain": [
       "Eq(Derivative(x, t), omega*cos(omega*t))"
      ]
     },
     "execution_count": 21,
     "metadata": {},
     "output_type": "execute_result"
    }
   ],
   "source": [
    "derivative = sp.Derivative(x, t)\n",
    "func_rep = sp.diff(func_rep, t)\n",
    "sp.Eq(derivative, func_rep)"
   ]
  },
  {
   "cell_type": "code",
   "execution_count": 22,
   "id": "divine-photographer",
   "metadata": {},
   "outputs": [
    {
     "data": {
      "text/latex": [
       "$\\displaystyle \\frac{d^{2}}{d t^{2}} x = - \\omega^{2} \\sin{\\left(\\omega t \\right)}$"
      ],
      "text/plain": [
       "Eq(Derivative(x, (t, 2)), -omega**2*sin(omega*t))"
      ]
     },
     "execution_count": 22,
     "metadata": {},
     "output_type": "execute_result"
    }
   ],
   "source": [
    "func_rep = sp.diff(func_rep, t)\n",
    "final_exp = sp.Eq(sp.Derivative(derivative, t), func_rep)\n",
    "final_exp"
   ]
  },
  {
   "cell_type": "code",
   "execution_count": 23,
   "id": "inappropriate-danger",
   "metadata": {},
   "outputs": [
    {
     "data": {
      "text/latex": [
       "$\\displaystyle k \\sin{\\left(\\omega t \\right)} - m \\omega^{2} \\sin{\\left(\\omega t \\right)} = 0$"
      ],
      "text/plain": [
       "Eq(k*sin(omega*t) - m*omega**2*sin(omega*t), 0)"
      ]
     },
     "execution_count": 23,
     "metadata": {},
     "output_type": "execute_result"
    }
   ],
   "source": [
    "#Colocando expressões na edo\n",
    "\n",
    "expr1 = sp.Eq(m*func_rep + k * sp.sin(omega*t), 0)\n",
    "expr1"
   ]
  },
  {
   "cell_type": "code",
   "execution_count": 24,
   "id": "julian-express",
   "metadata": {},
   "outputs": [
    {
     "data": {
      "text/latex": [
       "$\\displaystyle \\omega = \\sqrt{\\frac{k}{m}}$"
      ],
      "text/plain": [
       "Eq(omega, sqrt(k/m))"
      ]
     },
     "execution_count": 24,
     "metadata": {},
     "output_type": "execute_result"
    }
   ],
   "source": [
    "# Obtemos\n",
    "sp.Eq(omega, sp.sqrt(k/m))"
   ]
  },
  {
   "cell_type": "code",
   "execution_count": 25,
   "id": "detected-personality",
   "metadata": {},
   "outputs": [
    {
     "data": {
      "text/latex": [
       "$\\displaystyle \\frac{2 \\pi}{T} = \\sqrt{\\frac{k}{m}}$"
      ],
      "text/plain": [
       "Eq(2*pi/T, sqrt(k/m))"
      ]
     },
     "execution_count": 25,
     "metadata": {},
     "output_type": "execute_result"
    }
   ],
   "source": [
    "T, s, Kg, N = sp.symbols('T s Kg N')\n",
    "sp.Eq((2*sp.pi)/T, sp.sqrt(k/m))"
   ]
  },
  {
   "cell_type": "code",
   "execution_count": 26,
   "id": "gross-accordance",
   "metadata": {},
   "outputs": [
    {
     "data": {
      "text/latex": [
       "$\\displaystyle \\frac{1}{s} = \\sqrt{\\frac{N}{Kg m}}$"
      ],
      "text/plain": [
       "Eq(1/s, sqrt(N/(Kg*m)))"
      ]
     },
     "execution_count": 26,
     "metadata": {},
     "output_type": "execute_result"
    }
   ],
   "source": [
    "# Colocando apenas unidades de medida\n",
    "\n",
    "sp.Eq(1/s, sp.sqrt((N/m)/Kg))"
   ]
  },
  {
   "cell_type": "code",
   "execution_count": 27,
   "id": "noted-contract",
   "metadata": {},
   "outputs": [
    {
     "data": {
      "text/latex": [
       "$\\displaystyle \\frac{1}{s^{2}} = \\frac{N}{Kg m}$"
      ],
      "text/plain": [
       "Eq(s**(-2), N/(Kg*m))"
      ]
     },
     "execution_count": 27,
     "metadata": {},
     "output_type": "execute_result"
    }
   ],
   "source": [
    "sp.Eq(1/s**2, (N/m)/Kg)"
   ]
  },
  {
   "cell_type": "code",
   "execution_count": 28,
   "id": "bizarre-landing",
   "metadata": {},
   "outputs": [
    {
     "data": {
      "text/latex": [
       "$\\displaystyle \\frac{Kg m}{s^{2}} = N$"
      ],
      "text/plain": [
       "Eq(Kg*m/s**2, N)"
      ]
     },
     "execution_count": 28,
     "metadata": {},
     "output_type": "execute_result"
    }
   ],
   "source": [
    "sp.Eq(Kg*m/s**2, N)"
   ]
  },
  {
   "cell_type": "markdown",
   "id": "voluntary-thousand",
   "metadata": {},
   "source": [
    "### Isso está correto, pois a unidade de medida do N é Kg * m / s^2"
   ]
  },
  {
   "cell_type": "code",
   "execution_count": 29,
   "id": "solved-fiction",
   "metadata": {},
   "outputs": [],
   "source": [
    "T, f, i = sp.symbols('T f i')"
   ]
  },
  {
   "cell_type": "markdown",
   "id": "premier-thomas",
   "metadata": {},
   "source": [
    "#### Verificando se cos(wt) e e^iwt são soluções da edo"
   ]
  },
  {
   "cell_type": "code",
   "execution_count": 30,
   "id": "hundred-shopping",
   "metadata": {},
   "outputs": [
    {
     "data": {
      "text/latex": [
       "$\\displaystyle \\frac{d^{2}}{d t^{2}} x = - \\omega^{2} \\cos{\\left(\\omega t \\right)}$"
      ],
      "text/plain": [
       "Eq(Derivative(x, (t, 2)), -omega**2*cos(omega*t))"
      ]
     },
     "execution_count": 30,
     "metadata": {},
     "output_type": "execute_result"
    }
   ],
   "source": [
    "cos_func = sp.cos(omega*t)\n",
    "#sp.diff(cos_func, t)\n",
    "cos_func = sp.diff(sp.diff(cos_func, t), t)\n",
    "sp.Eq(sp.Derivative(derivative, t), cos_func)"
   ]
  },
  {
   "cell_type": "code",
   "execution_count": 31,
   "id": "gothic-thanksgiving",
   "metadata": {},
   "outputs": [
    {
     "data": {
      "text/latex": [
       "$\\displaystyle k \\cos{\\left(\\omega t \\right)} - m \\omega^{2} \\cos{\\left(\\omega t \\right)} = 0$"
      ],
      "text/plain": [
       "Eq(k*cos(omega*t) - m*omega**2*cos(omega*t), 0)"
      ]
     },
     "execution_count": 31,
     "metadata": {},
     "output_type": "execute_result"
    }
   ],
   "source": [
    "expr2 = sp.Eq(m*cos_func + k * sp.cos(omega*t), 0)\n",
    "expr2"
   ]
  },
  {
   "cell_type": "code",
   "execution_count": 32,
   "id": "necessary-louisville",
   "metadata": {},
   "outputs": [
    {
     "data": {
      "text/latex": [
       "$\\displaystyle k \\cos{\\left(\\omega t \\right)} = m \\omega^{2} \\cos{\\left(\\omega t \\right)}$"
      ],
      "text/plain": [
       "Eq(k*cos(omega*t), m*omega**2*cos(omega*t))"
      ]
     },
     "execution_count": 32,
     "metadata": {},
     "output_type": "execute_result"
    }
   ],
   "source": [
    "sp.Eq(k * sp.cos(omega*t), -m*cos_func)"
   ]
  },
  {
   "cell_type": "code",
   "execution_count": 33,
   "id": "surgical-leone",
   "metadata": {},
   "outputs": [
    {
     "data": {
      "text/latex": [
       "$\\displaystyle \\omega = \\sqrt{\\frac{k}{m}}$"
      ],
      "text/plain": [
       "Eq(omega, sqrt(k/m))"
      ]
     },
     "execution_count": 33,
     "metadata": {},
     "output_type": "execute_result"
    }
   ],
   "source": [
    "# Obtemos novamente\n",
    "sp.Eq(omega, sp.sqrt(k/m))"
   ]
  },
  {
   "cell_type": "markdown",
   "id": "mexican-leather",
   "metadata": {},
   "source": [
    "#### Possível solução geral"
   ]
  },
  {
   "cell_type": "code",
   "execution_count": 34,
   "id": "announced-delivery",
   "metadata": {},
   "outputs": [],
   "source": [
    "x, a, b, A, phi  = sp.symbols('x(t) a b A phi')"
   ]
  },
  {
   "cell_type": "code",
   "execution_count": 35,
   "id": "invalid-albania",
   "metadata": {},
   "outputs": [
    {
     "data": {
      "text/latex": [
       "$\\displaystyle x(t) = A \\cos{\\left(\\omega t + \\phi \\right)}$"
      ],
      "text/plain": [
       "Eq(x(t), A*cos(omega*t + phi))"
      ]
     },
     "execution_count": 35,
     "metadata": {},
     "output_type": "execute_result"
    }
   ],
   "source": [
    "expr3 = sp.Eq(x, A*sp.cos(omega*t+phi))\n",
    "expr3"
   ]
  },
  {
   "cell_type": "markdown",
   "id": "defined-diabetes",
   "metadata": {},
   "source": [
    "#### Gráficos interativos ; Mostrar gráficos em vídeo ; Usar LaTeX pras equações; Exemplos no GitHub"
   ]
  },
  {
   "cell_type": "markdown",
   "id": "progressive-channels",
   "metadata": {},
   "source": [
    "#### Gráfico de explicação de Período e Frequência"
   ]
  },
  {
   "cell_type": "code",
   "execution_count": 61,
   "id": "convenient-architecture",
   "metadata": {},
   "outputs": [
    {
     "data": {
      "image/png": "[encoded data removed]",
      "text/plain": [
       "<Figure size 432x288 with 1 Axes>"
      ]
     },
     "metadata": {
      "needs_background": "light"
     },
     "output_type": "display_data"
    }
   ],
   "source": [
    "cos_x1 = cos(t*sp.pi/2)\n",
    "cos_x2 = cos(t*sp.pi/4)\n",
    "\n",
    "p5 = sp.plot(cos_x1, cos_x2, xlim=[0,8], ylim=[-4,5], legend=True, show=False)\n",
    "\n",
    "p5[0].line_color = 'g'\n",
    "p5[1].line_color = 'purple'\n",
    "p5.show()"
   ]
  },
  {
   "cell_type": "markdown",
   "id": "indie-fighter",
   "metadata": {},
   "source": [
    "### Exemplos de Movimentos Periódicos\n",
    "- Ondas de Rádio e Eletromagnéticas\n",
    "- Pêndulo simples\n",
    "- Movimento de rotação e translação da Terra"
   ]
  },
  {
   "cell_type": "markdown",
   "id": "exclusive-coaching",
   "metadata": {},
   "source": [
    "Frequência: $f=\\frac{1}{T}$"
   ]
  },
  {
   "cell_type": "markdown",
   "id": "selected-keeping",
   "metadata": {},
   "source": [
    "### Exemplos de Frequência\n",
    "- Roda de automóveis\n",
    "- Turbinas de aviões\n",
    "- Sons\n",
    "- Raio luminoso, luzes ultra-violeta, cores, etc\n",
    "- Instrumentos de corda"
   ]
  },
  {
   "cell_type": "markdown",
   "id": "compound-lewis",
   "metadata": {},
   "source": [
    "### Constante de Fase"
   ]
  },
  {
   "cell_type": "code",
   "execution_count": 67,
   "id": "latest-support",
   "metadata": {},
   "outputs": [
    {
     "data": {
      "image/png": "[encoded data removed]",
      "text/plain": [
       "<Figure size 432x288 with 1 Axes>"
      ]
     },
     "metadata": {
      "needs_background": "light"
     },
     "output_type": "display_data"
    }
   ],
   "source": [
    "# Assumindo T = 2s, logo omega = pi\n",
    "omega = pi\n",
    "expr_phase = cos(omega*t + phi)\n",
    "p6 = sp.plot(expr_phase.subs(phi, 0), expr_phase.subs(phi, -pi/3), expr_phase.subs(phi, pi/3), xlim=[-1,5], ylim=[-4,5], legend=True, show=False)\n",
    "\n",
    "p6[1].line_color = 'purple'\n",
    "p6[2].line_color = 'green'\n",
    "p6.show()"
   ]
  },
  {
   "cell_type": "markdown",
   "id": "spiritual-newsletter",
   "metadata": {},
   "source": [
    "#### Perguntas\n",
    " - 1: Quando o objeto está saindo do seu ponto inicial (em que estava parado), t = 0s, v = 0\n",
    " - 2:\n",
    " \n",
    " <img src=\"../assets/images/aula_1_pgt2.jpeg\" alt=\"Pergunta 2\" width=\"300\"/>"
   ]
  },
  {
   "cell_type": "markdown",
   "id": "aggressive-discipline",
   "metadata": {},
   "source": [
    "### Exercícios"
   ]
  },
  {
   "cell_type": "markdown",
   "id": "dutch-stanford",
   "metadata": {},
   "source": [
    "<div align=\"center\">\n",
    "    <img src=\"../assets/images/aula_1_ex1.jpeg\" alt=\"Exercício 8 e 11\" width=\"800\"/>\n",
    "    <img src=\"../assets/images/aula_1_ex2.jpeg\" alt=\"Exercício 14\" width=\"800\"/>\n",
    "    <img src=\"../assets/images/aula_1_ex3.jpeg\" alt=\"Exercício 14 e 20\" width=\"800\"/>\n",
    "</div>"
   ]
  }
 ],
 "metadata": {
  "kernelspec": {
   "display_name": "Python 3",
   "language": "python",
   "name": "python3"
  },
  "language_info": {
   "codemirror_mode": {
    "name": "ipython",
    "version": 3
   },
   "file_extension": ".py",
   "mimetype": "text/x-python",
   "name": "python",
   "nbconvert_exporter": "python",
   "pygments_lexer": "ipython3",
   "version": "3.9.1"
  }
 },
 "nbformat": 4,
 "nbformat_minor": 5
}
