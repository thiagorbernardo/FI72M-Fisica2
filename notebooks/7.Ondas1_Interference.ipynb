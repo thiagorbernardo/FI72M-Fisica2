{
 "cells": [
  {
   "cell_type": "markdown",
   "id": "surprising-korea",
   "metadata": {},
   "source": [
    "# Aula 7: Ondas 1 - Interferência"
   ]
  },
  {
   "cell_type": "markdown",
   "id": "controlling-neighbor",
   "metadata": {},
   "source": [
    "### Casos de Interferência\n",
    "\n",
    "**Interferência Destrutiva - Fases Opostas**\n",
    "\n",
    "<img src=\"https://www.infoescola.com/wp-content/uploads/2009/12/interferencia-destrutiva-entre-ondas.jpg\" alt=\"Interferência de Onda1\" width=\"300\" height=\"300\"/>\n",
    "\n",
    "**Interferência Construtiva - Fases Iguais**\n",
    "\n",
    "<img src=\"https://www.infoescola.com/wp-content/uploads/2020/07/img_5f04b36f87fab.png\" alt=\"Interferência de Onda2\" width=\"300\" height=\"250\"/>\n",
    "\n",
    "**Demonstrativo**\n",
    "\n",
    "<img src=\"https://upload.wikimedia.org/wikipedia/commons/thumb/5/5d/Waventerference.gif/440px-Waventerference.gif\" alt=\"Interferência de Onda3\" width=\"500\" height=\"300\"/>\n",
    "\n",
    "<img src=\"http://s1.thingpic.com/images/7Q/UAtCyLZfiBGjzUuKfMBY9Tr8.png\" alt=\"Interferência de Onda4\" width=\"300\" height=\"300\"/>"
   ]
  },
  {
   "cell_type": "code",
   "execution_count": 1,
   "id": "listed-secretary",
   "metadata": {},
   "outputs": [],
   "source": [
    "import sympy as sp\n",
    "from sympy import *\n",
    "from sympy.geometry import *\n",
    "%matplotlib inline\n",
    "sp.init_printing()"
   ]
  },
  {
   "cell_type": "code",
   "execution_count": 2,
   "id": "macro-cinema",
   "metadata": {
    "tags": []
   },
   "outputs": [],
   "source": [
    "k, x, A, omega, t, phi, y= sp.symbols('k x A omega t phi y')"
   ]
  },
  {
   "cell_type": "markdown",
   "id": "wrong-democrat",
   "metadata": {},
   "source": [
    "$\\left\\{\n",
    "\\begin{aligned}\n",
    "    y_1(x,t) &= A \\sin (kx - \\omega t)\\\\\n",
    "    y_2(x,t) &= A \\sin (kx - \\omega t + \\phi)\n",
    "\\end{aligned}\n",
    "\\right.$\n",
    "\n",
    "\n",
    "As ondas estão defasadas em $\\phi$ (diferença $\\phi$ de fase)\n",
    "\n",
    "Pela superposição:\n",
    "\n",
    "$y_r(x,t) = y_1(x,t) + y_2(x,t)$\n",
    "\n",
    "Utilizando a identidate:\n",
    "\n",
    "$\\sin a + \\sin b = 2 \\sin \\Big( \\frac{a + b}{2} \\Big) \\cos \\Big( \\frac{a - b}{2} \\Big)$\n",
    "\n",
    "$y_r(x,t) = 2A \\cos (\\frac{\\phi}{2}) \\sin({kx - \\omega t + \\frac{\\phi}{2}})$\n",
    "\n",
    "$ 2A \\cos (\\frac{\\phi}{2})$ é a Amplitude da onda"
   ]
  },
  {
   "cell_type": "markdown",
   "id": "turkish-coupon",
   "metadata": {},
   "source": [
    "Assim a amplitude da onda resultante será:\n",
    "    \n",
    "$A' = |2A \\cos (\\frac{\\phi}{2})|$\n",
    "\n",
    "\n",
    "Quando $\\phi = 0 \\quad A' = 2A$ Interferência Construtiva\n",
    "\n",
    "Quando $\\phi = \\pi \\quad A' = 0$ Interferência Destrutiva"
   ]
  },
  {
   "cell_type": "raw",
   "id": "instant-residence",
   "metadata": {},
   "source": [
    "[WIP]\n",
    "\n",
    "[Ex 8 e 11](../assets/aula1/ex1.jpeg)\n",
    "\n",
    "[Ex 14](../assets/aula1/ex2.jpeg)\n",
    "\n",
    "[Ex 14 e 20](../assets/aula1/ex3.jpeg)"
   ]
  }
 ],
 "metadata": {
  "kernelspec": {
   "display_name": "Python 3",
   "language": "python",
   "name": "python3"
  },
  "language_info": {
   "codemirror_mode": {
    "name": "ipython",
    "version": 3
   },
   "file_extension": ".py",
   "mimetype": "text/x-python",
   "name": "python",
   "nbconvert_exporter": "python",
   "pygments_lexer": "ipython3",
   "version": "3.9.1"
  }
 },
 "nbformat": 4,
 "nbformat_minor": 5
}
