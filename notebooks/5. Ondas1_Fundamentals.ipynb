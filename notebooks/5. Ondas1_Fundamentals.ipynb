{
 "cells": [
  {
   "cell_type": "markdown",
   "id": "tender-radical",
   "metadata": {},
   "source": [
    "# Aula 5: Ondas 1 - Fundamentos"
   ]
  },
  {
   "cell_type": "markdown",
   "id": "civilian-black",
   "metadata": {},
   "source": [
    "### Aplicações\n",
    "- Telecomunicações\n",
    "- Infravermelho\n",
    "- Raios-x\n",
    "- Mecânica Quântica\n",
    "- Reações Nucleares"
   ]
  },
  {
   "cell_type": "markdown",
   "id": "chubby-harbor",
   "metadata": {},
   "source": [
    "A onda é representada por:\n",
    "\n",
    "$ y = h(x,t) $\n",
    "\n",
    "$y$ Oscilação no eixo y\n",
    "\n",
    "$h$ Forma da função\n",
    "\n",
    "$x$ Propagação no eixo x\n",
    "\n",
    "$t$ Tempo decorrido"
   ]
  },
  {
   "cell_type": "code",
   "execution_count": 2,
   "id": "vulnerable-layout",
   "metadata": {},
   "outputs": [],
   "source": [
    "import sympy as sp\n",
    "from sympy import *\n",
    "from sympy.geometry import *\n",
    "%matplotlib inline\n",
    "sp.init_printing()"
   ]
  },
  {
   "cell_type": "code",
   "execution_count": 23,
   "id": "chubby-drunk",
   "metadata": {},
   "outputs": [],
   "source": [
    "k, x, A, omega, t, phi, y= sp.symbols('k x A omega t phi y')"
   ]
  },
  {
   "cell_type": "markdown",
   "id": "sporting-education",
   "metadata": {},
   "source": [
    "Exemplo onda numa corda"
   ]
  },
  {
   "cell_type": "code",
   "execution_count": 15,
   "id": "theoretical-membrane",
   "metadata": {},
   "outputs": [
    {
     "data": {
      "image/png": "[encoded data removed]",
      "text/plain": [
       "<Figure size 432x288 with 1 Axes>"
      ]
     },
     "metadata": {
      "needs_background": "light"
     },
     "output_type": "display_data"
    },
    {
     "data": {
      "text/plain": [
       "<sympy.plotting.plot.Plot at 0x1c96a96cfd0>"
      ]
     },
     "execution_count": 15,
     "metadata": {},
     "output_type": "execute_result"
    }
   ],
   "source": [
    "plot(2*sin(x), xlim=[0,10], ylim=[-2,5])"
   ]
  },
  {
   "cell_type": "markdown",
   "id": "reserved-hazard",
   "metadata": {},
   "source": [
    "<h4> Iremos trabalhar com Ondas Harmônicas (que obedecem ao MHS)"
   ]
  },
  {
   "cell_type": "markdown",
   "id": "helpful-charge",
   "metadata": {},
   "source": [
    "$ y = A \\sin (kx \\pm \\omega t + \\phi) $\n",
    "\n",
    "$y(x,t)$ Deslocamento no eixo y dependente de x e t\n",
    "\n",
    "$A$ Amplitude\n",
    "\n",
    "$k$ Número de onda\n",
    "\n",
    "$\\omega$ Frequência Angular\n",
    "\n",
    "$\\phi$ Cte de fase\n",
    "\n",
    "$kx \\pm \\omega t + \\phi$ FASE"
   ]
  },
  {
   "cell_type": "markdown",
   "id": "located-talent",
   "metadata": {},
   "source": [
    "<img src=\"https://i.ytimg.com/vi/wxZbcdWxQfY/maxresdefault.jpg\" alt=\"Ondas - Fórmulas e Gráficos\" width=\"600\"/>"
   ]
  },
  {
   "cell_type": "markdown",
   "id": "academic-facial",
   "metadata": {},
   "source": [
    "**1. Comprimento de onda $\\lambda$**\n",
    "\n",
    "$k = \\dfrac{2\\pi}{\\lambda}$\n",
    "\n",
    "<img src=\"http://ilhadoconhecimento.com.br/wp-content/uploads/2019/10/19.08.19_como-sabemos-do-que-o-sol-e-feito_Larissa-Takeda_VA_FFM_Figura-1-comprimento-de-onda.jpg\" alt=\"Comprimento de onda\" width=\"400\"/>\n",
    "\n",
    "**2. Número de onda $k$**\n",
    "\n",
    "$k = \\dfrac{2\\pi}{\\lambda}$\n",
    "\n",
    "<img src=\"https://guerraeletronica.com/wp-content/uploads/2019/10/Ondas-Senoidais4.png\" alt=\"Número de onda\" width=\"400\" height=\"300\"/>\n",
    "\n"
   ]
  },
  {
   "cell_type": "markdown",
   "id": "seeing-constant",
   "metadata": {},
   "source": [
    "**3. Frequência Angular $\\omega$ e Período $T$**\n",
    "\n",
    "$\\omega = \\dfrac{2\\pi}{T}$\n",
    "\n",
    "<img src=\"http://2.bp.blogspot.com/-icXBGfgIeMI/UTJwbckohEI/AAAAAAAAABA/4Odm5Lb9PKc/s1600/Sem+T%C3%ADtuloflws.png\" alt=\"Período Onda\" width=\"400\" height=\"300\"/>\n"
   ]
  },
  {
   "cell_type": "markdown",
   "id": "radical-venue",
   "metadata": {},
   "source": [
    "Velocidade uma onda progressiva\n",
    "\n",
    "Onda que se propaga para a direita:\n",
    "\n",
    "$V_x = +\\dfrac{\\omega}{k}$\n",
    "\n",
    "$ y(x,t) = A \\sin (kx - \\omega t) $\n",
    "\n",
    "Onda que se propaga para a esquerda:\n",
    "\n",
    "$V_x = -\\dfrac{\\omega}{k}$\n",
    "\n",
    "$ y(x,t) = A \\sin (kx + \\omega t) $"
   ]
  },
  {
   "cell_type": "markdown",
   "id": "tracked-article",
   "metadata": {},
   "source": [
    "Tomando como base uma onda que se proapaga para a direita\n",
    "\n",
    "$\\dfrac{dx}{dt} = V_x = v = \\dfrac{dx}{dt}$\n",
    "\n",
    "$\\omega = \\dfrac{2\\pi}{T}$\n",
    "\n",
    "$k = \\dfrac{2\\pi}{\\lambda}$\n",
    "\n",
    "$v = \\dfrac{\\lambda}{T} = \\lambda f$"
   ]
  },
  {
   "cell_type": "markdown",
   "id": "phantom-bacon",
   "metadata": {},
   "source": [
    "Dada uma função de onda $ y(x,t) = A \\sin (kx - \\omega t) $\n",
    "\n",
    "Em $t = 0s$\n",
    "\n",
    "$ y(x,0) = A \\sin (kx) $\n",
    "\n",
    "\n",
    "Agora para o segmento de corda em $x= 0m$\n",
    "\n",
    "$ y(0,t) = A \\sin (-\\omega t) $"
   ]
  },
  {
   "cell_type": "markdown",
   "id": "under-format",
   "metadata": {},
   "source": [
    "Seno é impar\n",
    "\n",
    "Logo ->\n",
    "$ y(0,t) = -A \\sin (\\omega t) $"
   ]
  },
  {
   "cell_type": "markdown",
   "id": "minor-married",
   "metadata": {},
   "source": [
    "**OBS. Perceba o Gráfico**"
   ]
  },
  {
   "cell_type": "code",
   "execution_count": 28,
   "id": "floppy-mozambique",
   "metadata": {},
   "outputs": [
    {
     "data": {
      "image/png": "[encoded data removed]",
      "text/plain": [
       "<Figure size 432x288 with 1 Axes>"
      ]
     },
     "metadata": {
      "needs_background": "light"
     },
     "output_type": "display_data"
    },
    {
     "data": {
      "text/plain": [
       "<sympy.plotting.plot.Plot at 0x1c96ad72160>"
      ]
     },
     "execution_count": 28,
     "metadata": {},
     "output_type": "execute_result"
    }
   ],
   "source": [
    "# em x=0\n",
    "\n",
    "plot(-sin(t), xlim=[0,5])"
   ]
  },
  {
   "cell_type": "code",
   "execution_count": 30,
   "id": "velvet-broadcasting",
   "metadata": {},
   "outputs": [
    {
     "data": {
      "image/png": "[encoded data removed]",
      "text/plain": [
       "<Figure size 432x288 with 1 Axes>"
      ]
     },
     "metadata": {
      "needs_background": "light"
     },
     "output_type": "display_data"
    },
    {
     "data": {
      "text/plain": [
       "<sympy.plotting.plot.Plot at 0x1c96adcc0a0>"
      ]
     },
     "execution_count": 30,
     "metadata": {},
     "output_type": "execute_result"
    }
   ],
   "source": [
    "# em x=0\n",
    "\n",
    "plot(sin(x), xlim=[0,5])"
   ]
  },
  {
   "cell_type": "markdown",
   "id": "concrete-panel",
   "metadata": {},
   "source": [
    "Um está em função de t, outro em função de x..."
   ]
  },
  {
   "cell_type": "markdown",
   "id": "julian-entry",
   "metadata": {},
   "source": [
    "<h3> Velocidade em y e em x"
   ]
  },
  {
   "cell_type": "markdown",
   "id": "geological-basketball",
   "metadata": {},
   "source": [
    "Através da derivada parcial calcularemos $V_y$ tendo x fixo\n",
    "\n",
    "$V_y = \\dfrac{\\partial}{\\partial t}(A \\sin (kx - \\omega t))$\n",
    "\n",
    "$V_y = -A \\omega \\cos (kx - \\omega t))$\n",
    "\n",
    "Em $x = 0$\n",
    "\n",
    "$V_y(0,t) = -A \\omega \\cos (-\\omega t))$\n",
    "\n",
    "Cos é par\n",
    "\n",
    "$V_y = -A \\omega \\cos (\\omega t))$\n",
    "\n",
    "$F(t) = F_o \\cos(\\omega_{ext} t)$\n"
   ]
  },
  {
   "cell_type": "markdown",
   "id": "suspected-success",
   "metadata": {},
   "source": [
    "<h2> Exercícios"
   ]
  },
  {
   "cell_type": "raw",
   "id": "welcome-withdrawal",
   "metadata": {},
   "source": [
    "[WIP]\n",
    "\n",
    "[Ex 8 e 11](../assets/aula1/ex1.jpeg)\n",
    "\n",
    "[Ex 14](../assets/aula1/ex2.jpeg)\n",
    "\n",
    "[Ex 14 e 20](../assets/aula1/ex3.jpeg)"
   ]
  }
 ],
 "metadata": {
  "kernelspec": {
   "display_name": "Python 3",
   "language": "python",
   "name": "python3"
  },
  "language_info": {
   "codemirror_mode": {
    "name": "ipython",
    "version": 3
   },
   "file_extension": ".py",
   "mimetype": "text/x-python",
   "name": "python",
   "nbconvert_exporter": "python",
   "pygments_lexer": "ipython3",
   "version": "3.9.1"
  }
 },
 "nbformat": 4,
 "nbformat_minor": 5
}
