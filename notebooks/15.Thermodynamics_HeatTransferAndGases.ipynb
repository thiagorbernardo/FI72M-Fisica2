{
 "cells": [
  {
   "cell_type": "markdown",
   "id": "challenging-australia",
   "metadata": {},
   "source": [
    "# Aula 15: Termodinâmica - Mecanismos de transferência de calor"
   ]
  },
  {
   "cell_type": "markdown",
   "id": "governmental-stockholm",
   "metadata": {},
   "source": [
    "- Condução\n",
    "- Convecção\n",
    "- Radiação\n",
    "\n",
    "<img src=\"https://cnx.org/resources/288e9977cde196dca1f7ed805005c72492598490/CNX_UPhysics_18_06_Fireplace.jpg\" alt=\"Aula15.1\" width=\"400\" height=\"400\"/>"
   ]
  },
  {
   "cell_type": "markdown",
   "id": "developing-membership",
   "metadata": {},
   "source": [
    "## Condução térmica\n",
    "\n",
    "Ocorre em qualquer meio material quando em diferentes temperaturas\n",
    "\n",
    "<img src=\"http://www.anglianhome.co.uk/goodtobehome/wp-content/uploads/2014/07/Heat-Transfer-Animation.gif\" alt=\"Aula15.2\" width=\"400\" height=\"400\"/>\n",
    "\n",
    "<img src=\"https://thumbs.gfycat.com/ShockedReliableIndigobunting-size_restricted.gif\" alt=\"Aula15.3\" width=\"400\" height=\"400\"/>\n",
    "\n",
    "Bons condutores de calor normalmente são bons condutores de eletricidade\n",
    "\n",
    "$P_{cond} = \\dfrac{dQ}{dt} = \\overset{\\text{Condutividade Termica}}{-K} A \\overset{\\text{Gradiente de temperatura}} {\\dfrac{dt}{dx}}$\n",
    "\n",
    "A solução da equação é complexa, então vamos trabalhar no regime estacionário, quando:\n",
    "$\\dfrac{dQ}{dt} = cte$\n",
    "\n",
    "$P_{cond} = |\\dfrac{dQ}{dt}| = cte$\n",
    "\n",
    "$P_{cond} = K A  \\dfrac{\\Delta T}{l}$\n",
    "\n",
    "$P_{cond} = K A  \\dfrac{T_q - T_f}{l}$\n",
    "\n",
    "$K = \\dfrac{P}{A}\\dfrac{l}{\\Delta T} \\quad (W/m C)$"
   ]
  },
  {
   "cell_type": "markdown",
   "id": "deadly-breast",
   "metadata": {},
   "source": [
    "## Convecção Térmica\n",
    "\n",
    "Transferência de calor em fluidos e fases.\n",
    "Ar frio mais denso desce\n",
    "Ar quente menos denso sobe\n",
    "\n",
    "<img src=\"https://upload.wikimedia.org/wikipedia/commons/0/08/Convection.gif\" alt=\"Aula15.4\" width=\"400\" height=\"400\"/>\n",
    "\n",
    "## Radiação Térmica\n",
    "\n",
    "Não há necessidade de meio material para propagar\n",
    "\n",
    "<img src=\"https://upload.wikimedia.org/wikipedia/commons/thumb/3/36/Espectro_EM_pt.svg/700px-Espectro_EM_pt.svg.png\" alt=\"Aula15.5\" width=\"400\" height=\"400\"/>\n",
    "\n",
    "<img src=\"https://static.todamateria.com.br/upload/ir/16/ir_1.jpg\" alt=\"Aula15.6\" width=\"400\" height=\"400\"/>\n",
    "\n",
    "$P_{radiation} = \\dfrac{\\Delta E}{\\Delta t} = \\dfrac{dE}{dt} = \\sigma \\epsilon A T^4$\n",
    "\n",
    "$P_{radiation} = \\sigma \\epsilon A T^4$\n",
    "\n",
    "$\\sigma$ Constate de Stefan-Boltzmann\n",
    "\n",
    "$\\epsilon$ Emissividade da superficie do objeto\n",
    "\n",
    "$P_{liquida} = P_{absorvida} - P_{emitida}$\n",
    "\n",
    "$P_{liquida} > 0 $ Absorve mais que emite\n",
    "\n",
    "$P_{liquida} < 0 $ Emite mais que absorve\n",
    "\n",
    "### Espectro da Radiação\n",
    "\n",
    "<img src=\"https://upload.wikimedia.org/wikipedia/commons/thumb/0/0a/EM_spectrum_pt_2.svg/1200px-EM_spectrum_pt_2.svg.png\" alt=\"Aula15.7\" width=\"500\" height=\"600\"/>\n",
    "\n",
    "<img src=\"http://recursosolar.geodesign.com.br/Graphics/Espectro_Solar1_RS.jpg\" alt=\"Aula15.8\" width=\"400\" height=\"600\"/>"
   ]
  },
  {
   "cell_type": "markdown",
   "id": "psychological-twelve",
   "metadata": {},
   "source": [
    "# Termodinâmica 2 - Teoria Cinética dos Gases"
   ]
  },
  {
   "cell_type": "markdown",
   "id": "aggregate-mitchell",
   "metadata": {},
   "source": [
    "O estado termodinâmico de um gás ideal é descrito pelas variáveis de pressão, volume e temperatura\n",
    "\n",
    "V - Os gases se espalham em todo o volume\n",
    "\n",
    "P - Os gases executam colisões nas paredes do recipiente\n",
    "\n",
    "T - A velocidade (Energia Cinética) das partículas está associada a temperatura \n",
    "\n",
    "1) O gás ideal é composto por partículas sem dimensão\n",
    "2) Não interagentes (não apresentam nem interação atrativa ou repulsiva)\n",
    "3) As partículas colidem entre si de forma elásticas (sem perda de energia entre as colisões)\n",
    "\n",
    "OBS: Como não há omteração entre as partículas a pressão e temperatura do gás ideal nunca estará próximo da liquefação (condensação) que é a situação onde haverá atração entre as partículas"
   ]
  },
  {
   "cell_type": "markdown",
   "id": "ecological-directory",
   "metadata": {},
   "source": [
    "#### Aplicações\n",
    "\n",
    "- Movimento dos elétrons num circuito elétrico\n",
    "- Spin dos átomos\n",
    "- Dinâmica dos veículos numa cidade\n",
    "- Teoria da informação - machine learning\n",
    "- Troca de energia na matéria"
   ]
  },
  {
   "cell_type": "markdown",
   "id": "intermediate-parcel",
   "metadata": {},
   "source": [
    "### Número de Avogrado\n",
    "\n",
    "$n = \\dfrac{N}{N_A}$\n",
    "\n",
    "$n$ Número de moles. $1 mol$ - $6,02 x 10^{23}$ mol\n",
    "\n",
    "$N_A$ Número de Avogrado. $6,02 x 10^{23}$ partículas por mol\n",
    "\n",
    "$N$ Número de partículas\n",
    "\n",
    "$M_{amostra}$ Massa da substância (amostra)\n",
    "\n",
    "$M$ Massa molar g/mol\n",
    "\n",
    "$m$ Massa de uma partícula\n",
    "\n",
    "OBS: partículas = moléculas / átomos"
   ]
  },
  {
   "cell_type": "markdown",
   "id": "knowing-sensitivity",
   "metadata": {},
   "source": [
    "### Gases ideais\n",
    "\n",
    "#### Lei de Boyle\n",
    "\n",
    "$T = cte$\n",
    "\n",
    "$n = cte$\n",
    "\n",
    "$P \\alpha \\dfrac{1}{V}$\n",
    "\n",
    "$P_i V_i = P_f V_f$\n",
    "\n",
    "#### Lei de Charles\n",
    "\n",
    "$V \\alpha T \\quad P, n cte$\n",
    "\n",
    "$\\dfrac{V_i}{T_i} = \\dfrac{V_f}{T_f} = cte$\n",
    "\n",
    "$p \\alpha T \\quad V, n cte$\n",
    "\n",
    "$\\dfrac{P_i}{T_i} = \\dfrac{P_f}{T_f} = cte$\n",
    "\n",
    "#### Lei de Avogrado\n",
    "\n",
    "$V \\alpha n \\quad P, T cte$\n",
    "\n",
    "$\\dfrac{V_i}{n_i} = \\dfrac{V_f}{n_f} = cte$\n",
    "\n",
    "#### **Lei dos gases ideais $PV=nRT$**\n",
    "\n",
    "$N_A = 6,02 x 10^{23} {mol}^-1$\n",
    "\n",
    "$R = 8,31 x 10^{-23} {mol K}$\n",
    "\n",
    "$k_B = \\dfrac{R}{N_A} = 1,38 x 10^{-23} {J/K}^-1$\n",
    "\n",
    "\n",
    "$N k = n R$\n",
    "\n",
    "#### Lei de Clapeyron\n",
    "\n",
    "$PV = NkT$"
   ]
  },
  {
   "cell_type": "markdown",
   "id": "through-franklin",
   "metadata": {},
   "source": [
    "## Processo Isotérmico $T = cte$\n",
    "\n",
    "$PV=nRT$\n",
    "\n",
    "$PV = cte$\n",
    "\n",
    "Curva de pressão por volume $P(V) = \\dfrac{nRT}{V}$"
   ]
  },
  {
   "cell_type": "markdown",
   "id": "compressed-malpractice",
   "metadata": {},
   "source": [
    "[Ex 54 e 9](../assets/aula15/ex1.jpeg)\n",
    "\n",
    "[Ex 16](../assets/aula15/ex2.jpeg)"
   ]
  }
 ],
 "metadata": {
  "kernelspec": {
   "display_name": "Python 3",
   "language": "python",
   "name": "python3"
  },
  "language_info": {
   "codemirror_mode": {
    "name": "ipython",
    "version": 3
   },
   "file_extension": ".py",
   "mimetype": "text/x-python",
   "name": "python",
   "nbconvert_exporter": "python",
   "pygments_lexer": "ipython3",
   "version": "3.9.1"
  }
 },
 "nbformat": 4,
 "nbformat_minor": 5
}
