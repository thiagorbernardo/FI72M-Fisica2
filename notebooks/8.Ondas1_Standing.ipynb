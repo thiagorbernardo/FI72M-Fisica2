{
 "cells": [
  {
   "cell_type": "markdown",
   "id": "pressing-track",
   "metadata": {},
   "source": [
    "# Aula 8: Ondas 1 - Ondas Estacionárias"
   ]
  },
  {
   "cell_type": "markdown",
   "id": "nonprofit-rings",
   "metadata": {},
   "source": [
    "### Aplicações\n",
    "- Instrumentos Musicais\n",
    "    - Guitarras\n",
    "    - Percussão\n",
    "    - Cordas\n",
    "- Acústica de ambientes\n",
    "- Laser\n",
    "- Análise de materiais\n",
    "- Computação Quântica"
   ]
  },
  {
   "cell_type": "markdown",
   "id": "lesser-textbook",
   "metadata": {},
   "source": [
    "### Exemplos\n",
    "\n",
    "**Guitarra**\n",
    "\n",
    "<img src=\"https://i.ytimg.com/vi/ZjRgAFcxcgY/maxresdefault.jpg\" alt=\"Guitar\" width=\"400\" height=\"400\"/>\n",
    "\n",
    "<img src=\"http://hydrogen.physik.uni-wuppertal.de/hyperphysics/hyperphysics/hbase/music/imgmus/spkup.gif\" alt=\"Guitar1\" width=\"450\" height=\"450\"/>\n",
    "\n",
    "**Laser**\n",
    "\n",
    "<img src=\"https://slideplayer.com/slide/11975046/68/images/30/Standing+Electromagnetic+Waves.jpg\" alt=\"Laser\" width=\"400\" height=\"400\"/>"
   ]
  },
  {
   "cell_type": "code",
   "execution_count": 1,
   "id": "buried-amazon",
   "metadata": {},
   "outputs": [],
   "source": [
    "import sympy as sp\n",
    "from sympy import *\n",
    "from sympy.geometry import *\n",
    "%matplotlib inline\n",
    "sp.init_printing()"
   ]
  },
  {
   "cell_type": "code",
   "execution_count": 2,
   "id": "casual-learning",
   "metadata": {
    "tags": []
   },
   "outputs": [],
   "source": [
    "k, x, A, omega, t, phi, y= sp.symbols('k x A omega t phi y')"
   ]
  },
  {
   "cell_type": "markdown",
   "id": "incorrect-elevation",
   "metadata": {},
   "source": [
    "$\\left\\{\n",
    "\\begin{aligned}\n",
    "    y_1(x,t) &= A \\sin (kx - \\omega t)\\\\\n",
    "    y_2(x,t) &= A \\sin (kx - \\omega t + \\phi)\n",
    "\\end{aligned}\n",
    "\\right.$\n",
    "\n",
    "Resultando em\n",
    "\n",
    "$y_r(x,t) = y_1(x,t) + y_2(x,t)$\n",
    "\n",
    "$y_r(x,t) = 2A \\sin(kx) \\cos(\\omega t)$\n",
    "\n",
    "$ 2A \\sin (kx)$ é a Amplitude da onda"
   ]
  },
  {
   "cell_type": "markdown",
   "id": "coral-geometry",
   "metadata": {},
   "source": [
    "Caso em que a amplitude sempre é zero\n",
    "\n",
    "$\\sin(kx) = 0$\n",
    "\n",
    "$kx = n \\pi$"
   ]
  },
  {
   "cell_type": "code",
   "execution_count": 3,
   "id": "close-completion",
   "metadata": {},
   "outputs": [
    {
     "data": {
      "image/png": "[encoded data removed]",
      "text/plain": [
       "<Figure size 432x288 with 1 Axes>"
      ]
     },
     "metadata": {
      "needs_background": "light"
     },
     "output_type": "display_data"
    },
    {
     "data": {
      "text/plain": [
       "<sympy.plotting.plot.Plot at 0x1ddfefcc6a0>"
      ]
     },
     "execution_count": 3,
     "metadata": {},
     "output_type": "execute_result"
    }
   ],
   "source": [
    "plot(sin(x), xlim=[0,10])"
   ]
  },
  {
   "cell_type": "markdown",
   "id": "effective-copyright",
   "metadata": {},
   "source": [
    "Como $k = \\dfrac{2\\pi}{\\lambda}$\n",
    "\n",
    "Relação p/ identificar os Nós $x = \\dfrac{n \\lambda}{2}$"
   ]
  },
  {
   "cell_type": "markdown",
   "id": "packed-graphic",
   "metadata": {},
   "source": [
    "Para identificar os ventres ou antinós buscaremos as posições x onde a amplitude da onda é máxima:\n",
    "\n",
    "Assim p/ $|\\sin({kx})| = 1$\n",
    "\n",
    "$kx = \\dfrac{2n +1}{2}\\pi$\n",
    "\n",
    "$k = \\dfrac{2\\pi}{\\lambda}$\n",
    "\n",
    "Relação para encontrar os ventres: $kx = \\dfrac{2n +1}{4} \\lambda$"
   ]
  },
  {
   "cell_type": "raw",
   "id": "surprising-sampling",
   "metadata": {},
   "source": [
    "animação de ondas estacionarias pra entender cristas\n",
    "\n",
    "pegar jupyter do professor"
   ]
  },
  {
   "cell_type": "markdown",
   "id": "coastal-might",
   "metadata": {},
   "source": [
    "Corda presa entre duas extremidades, forma da onda estacionária:\n",
    "\n",
    "$y(x,t) = \\overset{\\text{Amplitude}}{2A \\sin(kx)} \\overset{\\text{Termo Oscilatório}}{\\cos(\\omega t)}$\n",
    "\n",
    "Nas extremidadades\n",
    "\n",
    "$\\left\\{\n",
    "\\begin{aligned}\n",
    "    x = 0 \\rightarrow y(0,t) &= 0\\\\\n",
    "    x = L \\rightarrow y(L,t) &= 0\n",
    "\\end{aligned}\n",
    "\\right.$\n",
    "\n",
    "Logo... $\\sin(kx) = 0$\n",
    "\n",
    "Nesta condição,\n",
    "\n",
    "$kL = n\\pi$\n",
    "\n",
    "$\\dfrac{2\\pi}{\\lambda}L = n \\pi$\n",
    "\n",
    "$ \\lambda = \\dfrac{2L}{n}$\n",
    "\n",
    "$ \\lambda_n = \\dfrac{2L}{n}$\n",
    "\n",
    "Ao restringir o movimento da corda entre 0 e L, também restringimos os comprimentos de ondas **permitidos** p/ este sistema.\n",
    "\n",
    "Obs: numa corda livre podemos ter qualquer valor de $\\lambda$, desde que: $v=\\lambda f$\n",
    "\n",
    "Com a restrição:\n",
    "\n",
    "$ f = \\dfrac{n v}{2L}$\n",
    "\n",
    "Frequências Permitidas: $ f_n = n \\big(\\dfrac{v}{2L}\\big)$\n",
    "\n",
    "Reescrevendo a equação de onda estacionária:\n",
    "\n",
    "$y(x,t) = 2A \\sin(kx) \\cos(\\omega t)$\n",
    "\n",
    "Com $ k_n = \\dfrac{n \\pi}{L}$ e $ \\omega_n = n \\pi \\dfrac{v}{L}$\n",
    "\n",
    "$y_n(x,t) = 2A \\sin \\big(\\dfrac{n \\pi}{L} x \\big) \\cos \\big(\\dfrac{n \\pi v}{L} t \\big)$"
   ]
  },
  {
   "cell_type": "markdown",
   "id": "closed-segment",
   "metadata": {},
   "source": [
    "A faixa audível de frequência pelo ser humano é entre 20 Hz e 20 KHz"
   ]
  },
  {
   "cell_type": "raw",
   "id": "pleased-evening",
   "metadata": {},
   "source": [
    "[WIP]\n",
    "\n",
    "[Ex 8 e 11](../assets/aula1/ex1.jpeg)\n",
    "\n",
    "[Ex 14](../assets/aula1/ex2.jpeg)\n",
    "\n",
    "[Ex 14 e 20](../assets/aula1/ex3.jpeg)"
   ]
  }
 ],
 "metadata": {
  "kernelspec": {
   "display_name": "Python 3",
   "language": "python",
   "name": "python3"
  },
  "language_info": {
   "codemirror_mode": {
    "name": "ipython",
    "version": 3
   },
   "file_extension": ".py",
   "mimetype": "text/x-python",
   "name": "python",
   "nbconvert_exporter": "python",
   "pygments_lexer": "ipython3",
   "version": "3.9.1"
  }
 },
 "nbformat": 4,
 "nbformat_minor": 5
}
