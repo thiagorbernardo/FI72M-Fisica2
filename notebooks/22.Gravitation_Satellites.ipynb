{
 "cells": [
  {
   "cell_type": "markdown",
   "id": "entertaining-birth",
   "metadata": {},
   "source": [
    "# Aula 22: Gravitação - Satélites: Órbitas e Energias"
   ]
  },
  {
   "cell_type": "markdown",
   "id": "mental-setup",
   "metadata": {},
   "source": [
    "<img src=\"http://satellites.spacesim.org/english/anatomy/orbit/orbits.gif\" alt=\"Aula22.1\" width=\"400\" height=\"400\"/>\n",
    "<a href=\"http://satellites.spacesim.org/english/anatomy/orbit/index.html\">Fonte</a>\n",
    "\n",
    "$E_{mec} = E_c + U_g = cte$\n"
   ]
  },
  {
   "cell_type": "markdown",
   "id": "suited-inquiry",
   "metadata": {},
   "source": [
    "## Relação Energias\n",
    "\n",
    "<img src=\"http://fisicaevestibular.com.br/novo/wp-content/uploads/migracao/satelites_orbitas/i_a58a1764332b4759_html_1191f60f.png\" alt=\"Aula22.2\" width=\"800\"/>\n",
    "<a href=\"https://fisicaevestibular.com.br/novo/mecanica/gravitacao/satelites-em-orbitas-circulares/\">Fonte</a>\n",
    "\n",
    "A energia potencial do sistema é dada por:\n",
    "\n",
    "$U = -\\dfrac{GMm}{r^2}$\n",
    "\n",
    "Vamos obter uma relação para a E_c em função da distância ao centro da Terra.\n",
    "\n",
    "$\\sum \\vec F = m \\vec a$\n",
    "\n",
    "$\\dfrac{GMm}{r^2} = m a_c$\n",
    "\n",
    "$a_c = \\dfrac{v^2}{r} = \\omega^2 r$\n",
    "\n",
    "$\\dfrac{GMm}{r^2} = m \\dfrac{v^2}{r}$\n",
    "\n",
    "$E_c(r) = \\dfrac{GMm}{2r}$"
   ]
  },
  {
   "cell_type": "markdown",
   "id": "strange-absolute",
   "metadata": {},
   "source": [
    "Assim a $E_{mec}$ em função da distância será:\n",
    "\n",
    "$E_{mec} = E_c + U_g$\n",
    "\n",
    "$E_{mec} = \\dfrac{GMm}{2r} - \\dfrac{GMm}{r}$\n",
    "\n",
    "$E_{mec}(r) = -\\dfrac{GMm}{2r} $ Órbita circular\n",
    "\n",
    "Numa órbita circular:\n",
    "\n",
    "$E_{mec} = -E_c$\n",
    "\n",
    "Em uma órbita elíptica:\n",
    "\n",
    "$E_{mec} = -\\dfrac{GMm}{a} $\n",
    "\n",
    "\n",
    "<img src=\"../assets/aula22/emec_graph.png\" alt=\"Aula22.2\" width=\"300\"/>\n",
    "Fonte: Halliday"
   ]
  },
  {
   "cell_type": "markdown",
   "id": "formed-uncertainty",
   "metadata": {},
   "source": [
    "[Ex 60](../assets/aula22/ex1.jpeg)\n",
    "\n",
    "[Ex 62](../assets/aula22/ex2.jpeg)\n",
    "\n",
    "[Ex 65](../assets/aula22/ex3.jpeg)"
   ]
  }
 ],
 "metadata": {
  "kernelspec": {
   "display_name": "Python 3",
   "language": "python",
   "name": "python3"
  },
  "language_info": {
   "codemirror_mode": {
    "name": "ipython",
    "version": 3
   },
   "file_extension": ".py",
   "mimetype": "text/x-python",
   "name": "python",
   "nbconvert_exporter": "python",
   "pygments_lexer": "ipython3",
   "version": "3.9.1"
  }
 },
 "nbformat": 4,
 "nbformat_minor": 5
}
