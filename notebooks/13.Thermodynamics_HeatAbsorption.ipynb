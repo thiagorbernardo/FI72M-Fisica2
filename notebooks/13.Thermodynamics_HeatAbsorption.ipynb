{
 "cells": [
  {
   "cell_type": "markdown",
   "id": "supported-puzzle",
   "metadata": {},
   "source": [
    "# Aula 13: Termodinâmica - Absorção de Calor"
   ]
  },
  {
   "cell_type": "markdown",
   "id": "inappropriate-slave",
   "metadata": {},
   "source": [
    "### Calor\n",
    "\n",
    "Calor é a energia trocada entre dois sistemas (ou sistema / ambiente) quando há diferença de temperatura."
   ]
  },
  {
   "cell_type": "markdown",
   "id": "strange-adoption",
   "metadata": {},
   "source": [
    "<img src=\"https://studiousguy.com/wp-content/uploads/2018/09/Second-law-of-thermodynamics.jpg\" alt=\"Aula13.1\" width=\"400\" height=\"400\"/>\n",
    "\n",
    "Mudança de fase: $Q = mL$\n",
    "\n",
    "Processo isotérmico $|Q| = |W|$\n",
    "\n",
    "Convenção:\n",
    "\n",
    "$Q > 0$ Entrada de calor no sistema\n",
    "\n",
    "$Q < 0$ Saída de calor no sistema\n",
    "\n",
    "$1 cal = 4.1868 J$"
   ]
  },
  {
   "cell_type": "markdown",
   "id": "discrete-colon",
   "metadata": {},
   "source": [
    "### Capacidade Térmica e Calor Específico\n",
    "\n",
    "$\\Delta Q \\alpha \\Delta T$\n",
    "\n",
    "Ao inserir calor -> aumenta a temperatura\n",
    "O inverso também é valido\n",
    "\n",
    "**Hipótese 1**\n",
    "\n",
    "$\\Delta Q = m \\Delta T$\n",
    "\n",
    "$m_A \\Delta T_A + m_B \\Delta T_B = 0$\n",
    "\n",
    "No equilíbrio térmico\n",
    "\n",
    "$Tf_A = Tf_B = Tf$\n",
    "\n",
    "$Tf = \\dfrac{m_A T_A + m_B T_B}{m_A + m_B}$\n",
    "\n",
    "Para um mesmo material de A e B esta relação está correta\n",
    "\n",
    "\n",
    "**Hipótese 2**\n",
    "\n",
    "$\\Delta Q_A = V_A \\Delta T_A$\n",
    "\n",
    "$\\Delta Q_B = V_B \\Delta T_B$\n",
    "\n",
    "$\\Delta Q_A + \\Delta Q_B = 0$\n",
    "\n",
    "No equilíbrio termodinâmico\n",
    "\n",
    "$Tf_A = Tf_B = Tf$\n",
    "\n",
    "$Tf = \\dfrac{T_A V_A + T_B V_B}{V_A + V_B}$\n",
    "\n",
    "$\\rho = \\dfrac{m}{V}$\n",
    "\n",
    "$Tf = \\dfrac{T_A\\dfrac{m_A}{V} + T_B \\dfrac{m_B}{V}}{\\dfrac{m_A}{V} +\\dfrac{m_B}{V}}$\n",
    "\n",
    "Está correto p/ um mesmo material\n",
    "\n",
    "**Hipótese 3**\n",
    "\n",
    "$\\Delta Q = c \\Delta T$\n",
    "\n",
    "$\\dfrac{\\Delta Q}{\\Delta T} = c$\n",
    "\n",
    "$Tf = \\dfrac{T_A c_A + T_B c_B}{c_A + c_B}$\n",
    "\n",
    "$\\overset{\\text{Capacidade Termica}} C = \\overset{\\text{massa}} m \\overset{\\text{Calor Especifico}} c$\n",
    "\n",
    "$Tf = \\dfrac{m_A c_A T_A + m_B c_B T_B}{m_A c_A + m_B c_B}$"
   ]
  },
  {
   "cell_type": "markdown",
   "id": "employed-yacht",
   "metadata": {},
   "source": [
    "## Calor de transformação (latente)\n",
    "\n",
    "Energia necessária para um objeto mduar de fase (sólido-líquido ou líquido-gás)\n",
    "\n",
    "$\\Delta T = cte$\n",
    "\n",
    "$Q = L m$\n",
    "\n",
    "Curva de aquecimento\n",
    "\n",
    "<img src=\"https://flexbooks.ck12.org/flx/show/default/image/user%3AY2sxMnNjaWVuY2VAY2sxMi5vcmc./98045-1364490917-45-93-C-IntCh-04-01-17-Heating-Curve-Water.png\" alt=\"Aula13.2\" width=\"400\" height=\"400\"/>"
   ]
  },
  {
   "cell_type": "raw",
   "id": "vertical-ecuador",
   "metadata": {},
   "source": [
    "[Ex 30 e 45](../assets/aula11/ex1.jpeg)\n",
    "\n",
    "[Ex 49](../assets/aula11/ex2.jpeg)"
   ]
  }
 ],
 "metadata": {
  "kernelspec": {
   "display_name": "Python 3",
   "language": "python",
   "name": "python3"
  },
  "language_info": {
   "codemirror_mode": {
    "name": "ipython",
    "version": 3
   },
   "file_extension": ".py",
   "mimetype": "text/x-python",
   "name": "python",
   "nbconvert_exporter": "python",
   "pygments_lexer": "ipython3",
   "version": "3.9.1"
  }
 },
 "nbformat": 4,
 "nbformat_minor": 5
}
