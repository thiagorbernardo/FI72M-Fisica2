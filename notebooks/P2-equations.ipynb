{
 "cells": [
  {
   "cell_type": "markdown",
   "id": "twenty-powell",
   "metadata": {},
   "source": [
    "# Equations"
   ]
  },
  {
   "cell_type": "markdown",
   "id": "composite-vertex",
   "metadata": {},
   "source": [
    "## Termodinâmica\n",
    "\n",
    "### Dilatação térmica linear\n",
    "\n",
    "$\\Delta L = L \\alpha \\Delta T$\n",
    "\n",
    "### Dilatação térmica superficial\n",
    "\n",
    "$\\Delta A = A 2\\alpha \\Delta T$\n",
    "\n",
    "$\\Delta A = A \\gamma \\Delta T$\n",
    "\n",
    "### Dilatação térmica volumétrica\n",
    "\n",
    "$\\Delta V = V 3\\alpha \\Delta T$\n",
    "\n",
    "$\\Delta V = V \\beta \\Delta T$\n",
    "\n",
    "### Capacidade Térmica, Calor Específico e Calor Latente\n",
    "\n",
    "Mudança de fase: $Q = mL$\n",
    "\n",
    "Processo isotérmico $|Q| = |W|$\n",
    "\n",
    "$\\Delta Q = c \\Delta T$\n",
    "\n",
    "$\\overset{\\text{Capacidade Termica}} C = \\overset{\\text{massa}} m \\overset{\\text{Calor Especifico}} c$\n",
    "\n",
    "#### Calor latente\n",
    "\n",
    "$\\Delta T = cte$\n",
    "\n",
    "$Q = L m$"
   ]
  },
  {
   "cell_type": "markdown",
   "id": "right-casino",
   "metadata": {},
   "source": [
    "## Calor e Trabalho\n",
    "\n",
    "$W = F d$\n",
    "\n",
    "$P = F / A$\n",
    "\n",
    "$dW = P A dx$\n",
    "\n",
    "$dW = P dV$\n",
    "\n",
    "$W = \\int_{V_i}^{V_f} P \\, dV$\n",
    "\n",
    "$\\Delta E_{int} = Q - W$\n",
    "\n",
    "$E_{int}^f - E_{int}^i= Q - W$\n",
    "\n",
    "Tabelas dos processos estão na [Aula 14 - Calor e Trabalho](./14.Thermodynamics_WorkHeat.ipynb)"
   ]
  },
  {
   "cell_type": "markdown",
   "id": "above-terry",
   "metadata": {},
   "source": [
    "## Condução Térmica\n",
    "\n",
    "$P_{cond} = \\dfrac{dQ}{dt} = -K A  {\\dfrac{dt}{dx}}$"
   ]
  },
  {
   "cell_type": "markdown",
   "id": "scheduled-matter",
   "metadata": {},
   "source": [
    "### Teoria Cinética dos Gases\n",
    "\n",
    "$n = \\dfrac{N}{N_A}$\n",
    "\n",
    "$n$ Número de moles. $1 mol$ - $6,02 x 10^{23}$\n",
    "\n",
    "#### Lei de Boyle\n",
    "\n",
    "$T = cte$\n",
    "\n",
    "$n = cte$\n",
    "\n",
    "$P \\alpha \\dfrac{1}{V}$\n",
    "\n",
    "$P_i V_i = P_f V_f$\n",
    "\n",
    "#### Lei de Charles\n",
    "\n",
    "$V \\alpha T \\quad P, n cte$\n",
    "\n",
    "$\\dfrac{V_i}{T_i} = \\dfrac{V_f}{T_f} = cte$\n",
    "\n",
    "$p \\alpha T \\quad V, n cte$\n",
    "\n",
    "$\\dfrac{P_i}{T_i} = \\dfrac{P_f}{T_f} = cte$\n",
    "\n",
    "#### Lei de Avogrado\n",
    "\n",
    "$V \\alpha n \\quad P, T cte$\n",
    "\n",
    "$\\dfrac{V_i}{n_i} = \\dfrac{V_f}{n_f} = cte$\n",
    "\n",
    "#### **Lei dos gases ideais $PV=nRT$**\n",
    "\n",
    "$N_A = 6,02 x 10^{23} {mol}^-1$\n",
    "\n",
    "$R = 8,31 x 10^{-23} {mol K}$\n",
    "\n",
    "$k_B = \\dfrac{R}{N_A} = 1,38 x 10^{-23} {J/K}^-1$"
   ]
  }
 ],
 "metadata": {
  "kernelspec": {
   "display_name": "Python 3",
   "language": "python",
   "name": "python3"
  },
  "language_info": {
   "codemirror_mode": {
    "name": "ipython",
    "version": 3
   },
   "file_extension": ".py",
   "mimetype": "text/x-python",
   "name": "python",
   "nbconvert_exporter": "python",
   "pygments_lexer": "ipython3",
   "version": "3.9.1"
  }
 },
 "nbformat": 4,
 "nbformat_minor": 5
}
