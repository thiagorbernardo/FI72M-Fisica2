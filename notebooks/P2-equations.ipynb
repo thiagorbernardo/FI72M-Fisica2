{
 "cells": [
  {
   "cell_type": "markdown",
   "id": "efficient-orange",
   "metadata": {},
   "source": [
    "# Equations"
   ]
  },
  {
   "cell_type": "markdown",
   "id": "sound-machine",
   "metadata": {},
   "source": [
    "## Termodinâmica\n",
    "\n",
    "### Dilatação térmica linear\n",
    "\n",
    "$\\Delta L = L \\alpha \\Delta T$\n",
    "\n",
    "### Dilatação térmica superficial\n",
    "\n",
    "$\\Delta A = A 2\\alpha \\Delta T$\n",
    "\n",
    "$\\Delta A = A \\gamma \\Delta T$\n",
    "\n",
    "### Dilatação térmica volumétrica\n",
    "\n",
    "$\\Delta V = V 3\\alpha \\Delta T$\n",
    "\n",
    "$\\Delta V = V \\beta \\Delta T$\n",
    "\n",
    "### Capacidade Térmica, Calor Específico e Calor Latente\n",
    "\n",
    "Mudança de fase: $Q = mL$\n",
    "\n",
    "Processo isotérmico $|Q| = |W|$\n",
    "\n",
    "$\\Delta Q = c \\Delta T$\n",
    "\n",
    "$\\overset{\\text{Capacidade Termica}} C = \\overset{\\text{massa}} m \\overset{\\text{Calor Especifico}} c$\n",
    "\n",
    "#### Calor latente\n",
    "\n",
    "$\\Delta T = cte$\n",
    "\n",
    "$Q = L m$"
   ]
  },
  {
   "cell_type": "markdown",
   "id": "brutal-comparative",
   "metadata": {},
   "source": [
    "## Calor e Trabalho\n",
    "\n",
    "$W = F d$\n",
    "\n",
    "$P = F / A$\n",
    "\n",
    "$dW = P A dx$\n",
    "\n",
    "$dW = P dV$\n",
    "\n",
    "$W = \\int_{V_i}^{V_f} P \\, dV$\n",
    "\n",
    "$\\Delta E_{int} = Q - W$\n",
    "\n",
    "$E_{int}^f - E_{int}^i= Q - W$\n",
    "\n",
    "Tabelas dos processos estão na [Aula 14 - Calor e Trabalho](./14.Thermodynamics_WorkHeat.ipynb)"
   ]
  },
  {
   "cell_type": "markdown",
   "id": "dangerous-guarantee",
   "metadata": {},
   "source": [
    "## Condução Térmica\n",
    "\n",
    "$P_{cond} = \\dfrac{dQ}{dt} = -K A  {\\dfrac{dt}{dx}}$"
   ]
  }
 ],
 "metadata": {
  "kernelspec": {
   "display_name": "Python 3",
   "language": "python",
   "name": "python3"
  },
  "language_info": {
   "codemirror_mode": {
    "name": "ipython",
    "version": 3
   },
   "file_extension": ".py",
   "mimetype": "text/x-python",
   "name": "python",
   "nbconvert_exporter": "python",
   "pygments_lexer": "ipython3",
   "version": "3.9.1"
  }
 },
 "nbformat": 4,
 "nbformat_minor": 5
}
